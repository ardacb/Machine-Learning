{
 "cells": [
  {
   "cell_type": "markdown",
   "metadata": {},
   "source": [
    "# Homework 3: Tables and Charts\n",
    "Reading: Textbook chapters [6](https://www.inferentialthinking.com/chapters/06/Tables.html) and [7](https://www.inferentialthinking.com/chapters/07/Visualization.html).\n",
    "\n",
    "Please complete this notebook by filling in the cells provided. Before you begin, execute the following cell to prepare your notebook. Each time you start your server, you will need to execute this cell again."
   ]
  },
  {
   "cell_type": "code",
   "execution_count": 1,
   "metadata": {},
   "outputs": [],
   "source": [
    "# prepare notebook\n",
    "import numpy as np\n",
    "from datascience import *\n",
    "import seaborn as sns\n",
    "\n",
    "%matplotlib inline\n",
    "import matplotlib.pyplot as plots\n",
    "plots.style.use('fivethirtyeight')\n"
   ]
  },
  {
   "cell_type": "markdown",
   "metadata": {},
   "source": [
    "## 1. Unemployment\n"
   ]
  },
  {
   "cell_type": "markdown",
   "metadata": {},
   "source": [
    "The Federal Reserve Bank of St. Louis publishes data about jobs in the US.  Below we've loaded data on unemployment in the United States.  There are many ways of defining unemployment, and our dataset includes two notions of the unemployment rate:\n",
    "\n",
    "1. Among people who are able to work and are looking for a full-time job, the percentage who can't find a job.  This is called the Non-Employment Index, or NEI.\n",
    "2. Among people who are able to work and are looking for a full-time job, the percentage who can't find any job *or* are only working at a part-time job.  The latter group is called \"Part-Time for Economic Reasons\", so the acronym for this index is NEI-PTER.  (Economists are great at marketing.)\n",
    "\n",
    "The source of the data is [here](https://fred.stlouisfed.org/categories/33509)."
   ]
  },
  {
   "cell_type": "markdown",
   "metadata": {},
   "source": [
    "**Question 1.** The data are in a CSV file called `unemployment.csv`.  Load that file into a table called `unemployment`."
   ]
  },
  {
   "cell_type": "code",
   "execution_count": 7,
   "metadata": {},
   "outputs": [
    {
     "data": {
      "text/html": [
       "<table border=\"1\" class=\"dataframe\">\n",
       "    <thead>\n",
       "        <tr>\n",
       "            <th>Date</th> <th>NEI</th> <th>NEI-PTER</th>\n",
       "        </tr>\n",
       "    </thead>\n",
       "    <tbody>\n",
       "        <tr>\n",
       "            <td>1994-01-01</td> <td>10.0974</td> <td>11.172  </td>\n",
       "        </tr>\n",
       "        <tr>\n",
       "            <td>1994-04-01</td> <td>9.6239 </td> <td>10.7883 </td>\n",
       "        </tr>\n",
       "        <tr>\n",
       "            <td>1994-07-01</td> <td>9.3276 </td> <td>10.4831 </td>\n",
       "        </tr>\n",
       "        <tr>\n",
       "            <td>1994-10-01</td> <td>9.1071 </td> <td>10.2361 </td>\n",
       "        </tr>\n",
       "        <tr>\n",
       "            <td>1995-01-01</td> <td>8.9693 </td> <td>10.1832 </td>\n",
       "        </tr>\n",
       "        <tr>\n",
       "            <td>1995-04-01</td> <td>9.0314 </td> <td>10.1071 </td>\n",
       "        </tr>\n",
       "        <tr>\n",
       "            <td>1995-07-01</td> <td>8.9802 </td> <td>10.1084 </td>\n",
       "        </tr>\n",
       "        <tr>\n",
       "            <td>1995-10-01</td> <td>8.9932 </td> <td>10.1046 </td>\n",
       "        </tr>\n",
       "        <tr>\n",
       "            <td>1996-01-01</td> <td>9.0002 </td> <td>10.0531 </td>\n",
       "        </tr>\n",
       "        <tr>\n",
       "            <td>1996-04-01</td> <td>8.9038 </td> <td>9.9782  </td>\n",
       "        </tr>\n",
       "        <tr>\n",
       "            <td>1996-07-01</td> <td>8.7627 </td> <td>9.8631  </td>\n",
       "        </tr>\n",
       "        <tr>\n",
       "            <td>1996-10-01</td> <td>8.6554 </td> <td>9.7301  </td>\n",
       "        </tr>\n",
       "        <tr>\n",
       "            <td>1997-01-01</td> <td>8.6661 </td> <td>9.7366  </td>\n",
       "        </tr>\n",
       "        <tr>\n",
       "            <td>1997-04-01</td> <td>8.4915 </td> <td>9.537   </td>\n",
       "        </tr>\n",
       "        <tr>\n",
       "            <td>1997-07-01</td> <td>8.2957 </td> <td>9.3037  </td>\n",
       "        </tr>\n",
       "        <tr>\n",
       "            <td>1997-10-01</td> <td>8.2335 </td> <td>9.2069  </td>\n",
       "        </tr>\n",
       "        <tr>\n",
       "            <td>1998-01-01</td> <td>8.1216 </td> <td>9.0969  </td>\n",
       "        </tr>\n",
       "        <tr>\n",
       "            <td>1998-04-01</td> <td>7.9992 </td> <td>8.8923  </td>\n",
       "        </tr>\n",
       "        <tr>\n",
       "            <td>1998-07-01</td> <td>8.1194 </td> <td>9.0645  </td>\n",
       "        </tr>\n",
       "        <tr>\n",
       "            <td>1998-10-01</td> <td>8.0568 </td> <td>8.8935  </td>\n",
       "        </tr>\n",
       "        <tr>\n",
       "            <td>1999-01-01</td> <td>7.8933 </td> <td>8.7141  </td>\n",
       "        </tr>\n",
       "        <tr>\n",
       "            <td>1999-04-01</td> <td>8.1083 </td> <td>8.9188  </td>\n",
       "        </tr>\n",
       "        <tr>\n",
       "            <td>1999-07-01</td> <td>7.8956 </td> <td>8.7204  </td>\n",
       "        </tr>\n",
       "        <tr>\n",
       "            <td>1999-10-01</td> <td>7.7832 </td> <td>8.541   </td>\n",
       "        </tr>\n",
       "        <tr>\n",
       "            <td>2000-01-01</td> <td>7.6128 </td> <td>8.3379  </td>\n",
       "        </tr>\n",
       "        <tr>\n",
       "            <td>2000-04-01</td> <td>7.6754 </td> <td>8.4199  </td>\n",
       "        </tr>\n",
       "        <tr>\n",
       "            <td>2000-07-01</td> <td>7.6915 </td> <td>8.4458  </td>\n",
       "        </tr>\n",
       "        <tr>\n",
       "            <td>2000-10-01</td> <td>7.6769 </td> <td>8.4192  </td>\n",
       "        </tr>\n",
       "        <tr>\n",
       "            <td>2001-01-01</td> <td>7.757  </td> <td>8.4969  </td>\n",
       "        </tr>\n",
       "        <tr>\n",
       "            <td>2001-04-01</td> <td>8.0353 </td> <td>8.804   </td>\n",
       "        </tr>\n",
       "        <tr>\n",
       "            <td>2001-07-01</td> <td>8.1444 </td> <td>8.9862  </td>\n",
       "        </tr>\n",
       "        <tr>\n",
       "            <td>2001-10-01</td> <td>8.6782 </td> <td>9.6705  </td>\n",
       "        </tr>\n",
       "        <tr>\n",
       "            <td>2002-01-01</td> <td>9.0119 </td> <td>9.93    </td>\n",
       "        </tr>\n",
       "        <tr>\n",
       "            <td>2002-04-01</td> <td>8.9295 </td> <td>9.8924  </td>\n",
       "        </tr>\n",
       "        <tr>\n",
       "            <td>2002-07-01</td> <td>8.8508 </td> <td>9.8211  </td>\n",
       "        </tr>\n",
       "        <tr>\n",
       "            <td>2002-10-01</td> <td>8.7184 </td> <td>9.6759  </td>\n",
       "        </tr>\n",
       "        <tr>\n",
       "            <td>2003-01-01</td> <td>8.8809 </td> <td>9.9142  </td>\n",
       "        </tr>\n",
       "        <tr>\n",
       "            <td>2003-04-01</td> <td>8.944  </td> <td>10.0221 </td>\n",
       "        </tr>\n",
       "        <tr>\n",
       "            <td>2003-07-01</td> <td>9.0202 </td> <td>10.0877 </td>\n",
       "        </tr>\n",
       "        <tr>\n",
       "            <td>2003-10-01</td> <td>8.9607 </td> <td>9.9961  </td>\n",
       "        </tr>\n",
       "        <tr>\n",
       "            <td>2004-01-01</td> <td>8.791  </td> <td>9.8511  </td>\n",
       "        </tr>\n",
       "        <tr>\n",
       "            <td>2004-04-01</td> <td>8.7244 </td> <td>9.7344  </td>\n",
       "        </tr>\n",
       "        <tr>\n",
       "            <td>2004-07-01</td> <td>8.6804 </td> <td>9.6846  </td>\n",
       "        </tr>\n",
       "        <tr>\n",
       "            <td>2004-10-01</td> <td>8.6651 </td> <td>9.7019  </td>\n",
       "        </tr>\n",
       "        <tr>\n",
       "            <td>2005-01-01</td> <td>8.5683 </td> <td>9.5387  </td>\n",
       "        </tr>\n",
       "        <tr>\n",
       "            <td>2005-04-01</td> <td>8.5138 </td> <td>9.4368  </td>\n",
       "        </tr>\n",
       "        <tr>\n",
       "            <td>2005-07-01</td> <td>8.3727 </td> <td>9.3486  </td>\n",
       "        </tr>\n",
       "        <tr>\n",
       "            <td>2005-10-01</td> <td>8.3971 </td> <td>9.3271  </td>\n",
       "        </tr>\n",
       "        <tr>\n",
       "            <td>2006-01-01</td> <td>8.289  </td> <td>9.178   </td>\n",
       "        </tr>\n",
       "        <tr>\n",
       "            <td>2006-04-01</td> <td>8.3396 </td> <td>9.1606  </td>\n",
       "        </tr>\n",
       "        <tr>\n",
       "            <td>2006-07-01</td> <td>8.2011 </td> <td>9.142   </td>\n",
       "        </tr>\n",
       "        <tr>\n",
       "            <td>2006-10-01</td> <td>8.1316 </td> <td>9.0866  </td>\n",
       "        </tr>\n",
       "        <tr>\n",
       "            <td>2007-01-01</td> <td>8.1203 </td> <td>9.0183  </td>\n",
       "        </tr>\n",
       "        <tr>\n",
       "            <td>2007-04-01</td> <td>8.2629 </td> <td>9.1577  </td>\n",
       "        </tr>\n",
       "        <tr>\n",
       "            <td>2007-07-01</td> <td>8.1828 </td> <td>9.1351  </td>\n",
       "        </tr>\n",
       "        <tr>\n",
       "            <td>2007-10-01</td> <td>8.2687 </td> <td>9.2266  </td>\n",
       "        </tr>\n",
       "        <tr>\n",
       "            <td>2008-01-01</td> <td>8.3326 </td> <td>9.3475  </td>\n",
       "        </tr>\n",
       "        <tr>\n",
       "            <td>2008-04-01</td> <td>8.5176 </td> <td>9.5938  </td>\n",
       "        </tr>\n",
       "        <tr>\n",
       "            <td>2008-07-01</td> <td>8.884  </td> <td>10.1713 </td>\n",
       "        </tr>\n",
       "        <tr>\n",
       "            <td>2008-10-01</td> <td>9.2555 </td> <td>10.689  </td>\n",
       "        </tr>\n",
       "        <tr>\n",
       "            <td>2009-01-01</td> <td>10.2693</td> <td>12.0139 </td>\n",
       "        </tr>\n",
       "        <tr>\n",
       "            <td>2009-04-01</td> <td>10.7082</td> <td>12.5497 </td>\n",
       "        </tr>\n",
       "        <tr>\n",
       "            <td>2009-07-01</td> <td>10.8089</td> <td>12.7404 </td>\n",
       "        </tr>\n",
       "        <tr>\n",
       "            <td>2009-10-01</td> <td>10.9698</td> <td>12.8557 </td>\n",
       "        </tr>\n",
       "        <tr>\n",
       "            <td>2010-01-01</td> <td>10.9054</td> <td>12.7311 </td>\n",
       "        </tr>\n",
       "        <tr>\n",
       "            <td>2010-04-01</td> <td>10.6597</td> <td>12.5664 </td>\n",
       "        </tr>\n",
       "        <tr>\n",
       "            <td>2010-07-01</td> <td>10.5521</td> <td>12.3897 </td>\n",
       "        </tr>\n",
       "        <tr>\n",
       "            <td>2010-10-01</td> <td>10.5856</td> <td>12.4329 </td>\n",
       "        </tr>\n",
       "        <tr>\n",
       "            <td>2011-01-01</td> <td>10.5024</td> <td>12.3017 </td>\n",
       "        </tr>\n",
       "        <tr>\n",
       "            <td>2011-04-01</td> <td>10.4409</td> <td>12.247  </td>\n",
       "        </tr>\n",
       "        <tr>\n",
       "            <td>2011-07-01</td> <td>10.4856</td> <td>12.2507 </td>\n",
       "        </tr>\n",
       "        <tr>\n",
       "            <td>2011-10-01</td> <td>10.3287</td> <td>12.1214 </td>\n",
       "        </tr>\n",
       "        <tr>\n",
       "            <td>2012-01-01</td> <td>10.0687</td> <td>11.7973 </td>\n",
       "        </tr>\n",
       "        <tr>\n",
       "            <td>2012-04-01</td> <td>10.0384</td> <td>11.6771 </td>\n",
       "        </tr>\n",
       "        <tr>\n",
       "            <td>2012-07-01</td> <td>10.051 </td> <td>11.7318 </td>\n",
       "        </tr>\n",
       "        <tr>\n",
       "            <td>2012-10-01</td> <td>9.8582 </td> <td>11.5387 </td>\n",
       "        </tr>\n",
       "        <tr>\n",
       "            <td>2013-01-01</td> <td>10.0805</td> <td>11.7434 </td>\n",
       "        </tr>\n",
       "        <tr>\n",
       "            <td>2013-04-01</td> <td>9.8309 </td> <td>11.4562 </td>\n",
       "        </tr>\n",
       "        <tr>\n",
       "            <td>2013-07-01</td> <td>9.6416 </td> <td>11.2893 </td>\n",
       "        </tr>\n",
       "        <tr>\n",
       "            <td>2013-10-01</td> <td>9.6358 </td> <td>11.2656 </td>\n",
       "        </tr>\n",
       "        <tr>\n",
       "            <td>2014-01-01</td> <td>9.2941 </td> <td>10.7737 </td>\n",
       "        </tr>\n",
       "        <tr>\n",
       "            <td>2014-04-01</td> <td>9.1499 </td> <td>10.663  </td>\n",
       "        </tr>\n",
       "        <tr>\n",
       "            <td>2014-07-01</td> <td>9.1132 </td> <td>10.5998 </td>\n",
       "        </tr>\n",
       "        <tr>\n",
       "            <td>2014-10-01</td> <td>8.9813 </td> <td>10.4158 </td>\n",
       "        </tr>\n",
       "        <tr>\n",
       "            <td>2015-01-01</td> <td>8.9135 </td> <td>10.281  </td>\n",
       "        </tr>\n",
       "        <tr>\n",
       "            <td>2015-04-01</td> <td>8.8386 </td> <td>10.1483 </td>\n",
       "        </tr>\n",
       "        <tr>\n",
       "            <td>2015-07-01</td> <td>8.6847 </td> <td>9.9166  </td>\n",
       "        </tr>\n",
       "        <tr>\n",
       "            <td>2015-10-01</td> <td>8.665  </td> <td>9.8385  </td>\n",
       "        </tr>\n",
       "        <tr>\n",
       "            <td>2016-01-01</td> <td>8.433  </td> <td>9.6174  </td>\n",
       "        </tr>\n",
       "        <tr>\n",
       "            <td>2016-04-01</td> <td>8.54   </td> <td>9.7146  </td>\n",
       "        </tr>\n",
       "    </tbody>\n",
       "</table>"
      ],
      "text/plain": [
       "<IPython.core.display.HTML object>"
      ]
     },
     "metadata": {},
     "output_type": "display_data"
    }
   ],
   "source": [
    "unemployment = Table.read_table('unemployment.csv')\n",
    "unemployment.show()"
   ]
  },
  {
   "cell_type": "markdown",
   "metadata": {},
   "source": [
    "**Question 2.** Sort the data in decreasing order by NEI, naming the sorted table `by_nei`.  Create another table called `by_nei_pter` that's sorted in decreasing order by NEI-PTER instead."
   ]
  },
  {
   "cell_type": "code",
   "execution_count": 13,
   "metadata": {},
   "outputs": [
    {
     "data": {
      "text/html": [
       "<table border=\"1\" class=\"dataframe\">\n",
       "    <thead>\n",
       "        <tr>\n",
       "            <th>Date</th> <th>NEI</th> <th>NEI-PTER</th>\n",
       "        </tr>\n",
       "    </thead>\n",
       "    <tbody>\n",
       "        <tr>\n",
       "            <td>2009-10-01</td> <td>10.9698</td> <td>12.8557 </td>\n",
       "        </tr>\n",
       "        <tr>\n",
       "            <td>2010-01-01</td> <td>10.9054</td> <td>12.7311 </td>\n",
       "        </tr>\n",
       "        <tr>\n",
       "            <td>2009-07-01</td> <td>10.8089</td> <td>12.7404 </td>\n",
       "        </tr>\n",
       "        <tr>\n",
       "            <td>2009-04-01</td> <td>10.7082</td> <td>12.5497 </td>\n",
       "        </tr>\n",
       "        <tr>\n",
       "            <td>2010-04-01</td> <td>10.6597</td> <td>12.5664 </td>\n",
       "        </tr>\n",
       "        <tr>\n",
       "            <td>2010-10-01</td> <td>10.5856</td> <td>12.4329 </td>\n",
       "        </tr>\n",
       "        <tr>\n",
       "            <td>2010-07-01</td> <td>10.5521</td> <td>12.3897 </td>\n",
       "        </tr>\n",
       "        <tr>\n",
       "            <td>2011-01-01</td> <td>10.5024</td> <td>12.3017 </td>\n",
       "        </tr>\n",
       "        <tr>\n",
       "            <td>2011-07-01</td> <td>10.4856</td> <td>12.2507 </td>\n",
       "        </tr>\n",
       "        <tr>\n",
       "            <td>2011-04-01</td> <td>10.4409</td> <td>12.247  </td>\n",
       "        </tr>\n",
       "    </tbody>\n",
       "</table>\n",
       "<p>... (80 rows omitted)</p>"
      ],
      "text/plain": [
       "Date       | NEI     | NEI-PTER\n",
       "2009-10-01 | 10.9698 | 12.8557\n",
       "2010-01-01 | 10.9054 | 12.7311\n",
       "2009-07-01 | 10.8089 | 12.7404\n",
       "2009-04-01 | 10.7082 | 12.5497\n",
       "2010-04-01 | 10.6597 | 12.5664\n",
       "2010-10-01 | 10.5856 | 12.4329\n",
       "2010-07-01 | 10.5521 | 12.3897\n",
       "2011-01-01 | 10.5024 | 12.3017\n",
       "2011-07-01 | 10.4856 | 12.2507\n",
       "2011-04-01 | 10.4409 | 12.247\n",
       "... (80 rows omitted)"
      ]
     },
     "execution_count": 13,
     "metadata": {},
     "output_type": "execute_result"
    }
   ],
   "source": [
    "by_nei= unemployment.sort(\"NEI\", descending=True)\n",
    "by_nei_pter= unemployment.sort(\"NEI-PTER\", descending=True)\n",
    "by_nei"
   ]
  },
  {
   "cell_type": "markdown",
   "metadata": {},
   "source": [
    "**Question 3.** Use `take` to make a table containing the data for the 10 quarters when NEI was greatest.  Call that table `greatest_nei`."
   ]
  },
  {
   "cell_type": "code",
   "execution_count": 12,
   "metadata": {},
   "outputs": [
    {
     "data": {
      "text/html": [
       "<table border=\"1\" class=\"dataframe\">\n",
       "    <thead>\n",
       "        <tr>\n",
       "            <th>Date</th> <th>NEI</th> <th>NEI-PTER</th>\n",
       "        </tr>\n",
       "    </thead>\n",
       "    <tbody>\n",
       "        <tr>\n",
       "            <td>2009-10-01</td> <td>10.9698</td> <td>12.8557 </td>\n",
       "        </tr>\n",
       "        <tr>\n",
       "            <td>2010-01-01</td> <td>10.9054</td> <td>12.7311 </td>\n",
       "        </tr>\n",
       "        <tr>\n",
       "            <td>2009-07-01</td> <td>10.8089</td> <td>12.7404 </td>\n",
       "        </tr>\n",
       "        <tr>\n",
       "            <td>2009-04-01</td> <td>10.7082</td> <td>12.5497 </td>\n",
       "        </tr>\n",
       "        <tr>\n",
       "            <td>2010-04-01</td> <td>10.6597</td> <td>12.5664 </td>\n",
       "        </tr>\n",
       "        <tr>\n",
       "            <td>2010-10-01</td> <td>10.5856</td> <td>12.4329 </td>\n",
       "        </tr>\n",
       "        <tr>\n",
       "            <td>2010-07-01</td> <td>10.5521</td> <td>12.3897 </td>\n",
       "        </tr>\n",
       "        <tr>\n",
       "            <td>2011-01-01</td> <td>10.5024</td> <td>12.3017 </td>\n",
       "        </tr>\n",
       "        <tr>\n",
       "            <td>2011-07-01</td> <td>10.4856</td> <td>12.2507 </td>\n",
       "        </tr>\n",
       "        <tr>\n",
       "            <td>2011-04-01</td> <td>10.4409</td> <td>12.247  </td>\n",
       "        </tr>\n",
       "    </tbody>\n",
       "</table>"
      ],
      "text/plain": [
       "Date       | NEI     | NEI-PTER\n",
       "2009-10-01 | 10.9698 | 12.8557\n",
       "2010-01-01 | 10.9054 | 12.7311\n",
       "2009-07-01 | 10.8089 | 12.7404\n",
       "2009-04-01 | 10.7082 | 12.5497\n",
       "2010-04-01 | 10.6597 | 12.5664\n",
       "2010-10-01 | 10.5856 | 12.4329\n",
       "2010-07-01 | 10.5521 | 12.3897\n",
       "2011-01-01 | 10.5024 | 12.3017\n",
       "2011-07-01 | 10.4856 | 12.2507\n",
       "2011-04-01 | 10.4409 | 12.247"
      ]
     },
     "execution_count": 12,
     "metadata": {},
     "output_type": "execute_result"
    }
   ],
   "source": [
    "greatest_nei = by_nei.take(np.arange(10))\n",
    "greatest_nei"
   ]
  },
  {
   "cell_type": "markdown",
   "metadata": {},
   "source": [
    "**Question 4.** It's believed that many people became PTER (recall: \"Part-Time for Economic Reasons\") in the \"Great Recession\" of 2008-2009.  NEI-PTER is the percentage of people who are unemployed (and counted in the NEI) plus the percentage of people who are PTER.  Compute an array containing the percentage of people who were PTER in each quarter.  (The first element of the array should correspond to the first row of `unemployment`, and so on.)\n",
    "\n",
    "*Note:* Use the original `unemployment` table for this."
   ]
  },
  {
   "cell_type": "code",
   "execution_count": 15,
   "metadata": {},
   "outputs": [
    {
     "data": {
      "text/plain": [
       "array([1.0746, 1.1644, 1.1555, 1.129 , 1.2139, 1.0757, 1.1282, 1.1114,\n",
       "       1.0529, 1.0744, 1.1004, 1.0747, 1.0705, 1.0455, 1.008 , 0.9734,\n",
       "       0.9753, 0.8931, 0.9451, 0.8367, 0.8208, 0.8105, 0.8248, 0.7578,\n",
       "       0.7251, 0.7445, 0.7543, 0.7423, 0.7399, 0.7687, 0.8418, 0.9923,\n",
       "       0.9181, 0.9629, 0.9703, 0.9575, 1.0333, 1.0781, 1.0675, 1.0354,\n",
       "       1.0601, 1.01  , 1.0042, 1.0368, 0.9704, 0.923 , 0.9759, 0.93  ,\n",
       "       0.889 , 0.821 , 0.9409, 0.955 , 0.898 , 0.8948, 0.9523, 0.9579,\n",
       "       1.0149, 1.0762, 1.2873, 1.4335, 1.7446, 1.8415, 1.9315, 1.8859,\n",
       "       1.8257, 1.9067, 1.8376, 1.8473, 1.7993, 1.8061, 1.7651, 1.7927,\n",
       "       1.7286, 1.6387, 1.6808, 1.6805, 1.6629, 1.6253, 1.6477, 1.6298,\n",
       "       1.4796, 1.5131, 1.4866, 1.4345, 1.3675, 1.3097, 1.2319, 1.1735,\n",
       "       1.1844, 1.1746])"
      ]
     },
     "execution_count": 15,
     "metadata": {},
     "output_type": "execute_result"
    }
   ],
   "source": [
    "pter = unemployment.column(\"NEI-PTER\")-unemployment.column(\"NEI\")\n",
    "pter"
   ]
  },
  {
   "cell_type": "markdown",
   "metadata": {},
   "source": [
    "**Question 5.** Add `pter` as a column to `unemployment` (named \"PTER\") and sort the resulting table by that column in decreasing order.  Call the table `by_pter`.\n",
    "\n",
    "Try to do this with a single line of code, if you can."
   ]
  },
  {
   "cell_type": "code",
   "execution_count": 22,
   "metadata": {},
   "outputs": [
    {
     "data": {
      "text/html": [
       "<table border=\"1\" class=\"dataframe\">\n",
       "    <thead>\n",
       "        <tr>\n",
       "            <th>Date</th> <th>NEI</th> <th>NEI-PTER</th> <th>PTER</th>\n",
       "        </tr>\n",
       "    </thead>\n",
       "    <tbody>\n",
       "        <tr>\n",
       "            <td>2009-07-01</td> <td>10.8089</td> <td>12.7404 </td> <td>1.9315</td>\n",
       "        </tr>\n",
       "        <tr>\n",
       "            <td>2010-04-01</td> <td>10.6597</td> <td>12.5664 </td> <td>1.9067</td>\n",
       "        </tr>\n",
       "        <tr>\n",
       "            <td>2009-10-01</td> <td>10.9698</td> <td>12.8557 </td> <td>1.8859</td>\n",
       "        </tr>\n",
       "        <tr>\n",
       "            <td>2010-10-01</td> <td>10.5856</td> <td>12.4329 </td> <td>1.8473</td>\n",
       "        </tr>\n",
       "        <tr>\n",
       "            <td>2009-04-01</td> <td>10.7082</td> <td>12.5497 </td> <td>1.8415</td>\n",
       "        </tr>\n",
       "        <tr>\n",
       "            <td>2010-07-01</td> <td>10.5521</td> <td>12.3897 </td> <td>1.8376</td>\n",
       "        </tr>\n",
       "        <tr>\n",
       "            <td>2010-01-01</td> <td>10.9054</td> <td>12.7311 </td> <td>1.8257</td>\n",
       "        </tr>\n",
       "        <tr>\n",
       "            <td>2011-04-01</td> <td>10.4409</td> <td>12.247  </td> <td>1.8061</td>\n",
       "        </tr>\n",
       "        <tr>\n",
       "            <td>2011-01-01</td> <td>10.5024</td> <td>12.3017 </td> <td>1.7993</td>\n",
       "        </tr>\n",
       "        <tr>\n",
       "            <td>2011-10-01</td> <td>10.3287</td> <td>12.1214 </td> <td>1.7927</td>\n",
       "        </tr>\n",
       "        <tr>\n",
       "            <td>2011-07-01</td> <td>10.4856</td> <td>12.2507 </td> <td>1.7651</td>\n",
       "        </tr>\n",
       "        <tr>\n",
       "            <td>2009-01-01</td> <td>10.2693</td> <td>12.0139 </td> <td>1.7446</td>\n",
       "        </tr>\n",
       "        <tr>\n",
       "            <td>2012-01-01</td> <td>10.0687</td> <td>11.7973 </td> <td>1.7286</td>\n",
       "        </tr>\n",
       "        <tr>\n",
       "            <td>2012-07-01</td> <td>10.051 </td> <td>11.7318 </td> <td>1.6808</td>\n",
       "        </tr>\n",
       "        <tr>\n",
       "            <td>2012-10-01</td> <td>9.8582 </td> <td>11.5387 </td> <td>1.6805</td>\n",
       "        </tr>\n",
       "        <tr>\n",
       "            <td>2013-01-01</td> <td>10.0805</td> <td>11.7434 </td> <td>1.6629</td>\n",
       "        </tr>\n",
       "        <tr>\n",
       "            <td>2013-07-01</td> <td>9.6416 </td> <td>11.2893 </td> <td>1.6477</td>\n",
       "        </tr>\n",
       "        <tr>\n",
       "            <td>2012-04-01</td> <td>10.0384</td> <td>11.6771 </td> <td>1.6387</td>\n",
       "        </tr>\n",
       "        <tr>\n",
       "            <td>2013-10-01</td> <td>9.6358 </td> <td>11.2656 </td> <td>1.6298</td>\n",
       "        </tr>\n",
       "        <tr>\n",
       "            <td>2013-04-01</td> <td>9.8309 </td> <td>11.4562 </td> <td>1.6253</td>\n",
       "        </tr>\n",
       "        <tr>\n",
       "            <td>2014-04-01</td> <td>9.1499 </td> <td>10.663  </td> <td>1.5131</td>\n",
       "        </tr>\n",
       "        <tr>\n",
       "            <td>2014-07-01</td> <td>9.1132 </td> <td>10.5998 </td> <td>1.4866</td>\n",
       "        </tr>\n",
       "        <tr>\n",
       "            <td>2014-01-01</td> <td>9.2941 </td> <td>10.7737 </td> <td>1.4796</td>\n",
       "        </tr>\n",
       "        <tr>\n",
       "            <td>2014-10-01</td> <td>8.9813 </td> <td>10.4158 </td> <td>1.4345</td>\n",
       "        </tr>\n",
       "        <tr>\n",
       "            <td>2008-10-01</td> <td>9.2555 </td> <td>10.689  </td> <td>1.4335</td>\n",
       "        </tr>\n",
       "        <tr>\n",
       "            <td>2015-01-01</td> <td>8.9135 </td> <td>10.281  </td> <td>1.3675</td>\n",
       "        </tr>\n",
       "        <tr>\n",
       "            <td>2015-04-01</td> <td>8.8386 </td> <td>10.1483 </td> <td>1.3097</td>\n",
       "        </tr>\n",
       "        <tr>\n",
       "            <td>2008-07-01</td> <td>8.884  </td> <td>10.1713 </td> <td>1.2873</td>\n",
       "        </tr>\n",
       "        <tr>\n",
       "            <td>2015-07-01</td> <td>8.6847 </td> <td>9.9166  </td> <td>1.2319</td>\n",
       "        </tr>\n",
       "        <tr>\n",
       "            <td>1995-01-01</td> <td>8.9693 </td> <td>10.1832 </td> <td>1.2139</td>\n",
       "        </tr>\n",
       "        <tr>\n",
       "            <td>2016-01-01</td> <td>8.433  </td> <td>9.6174  </td> <td>1.1844</td>\n",
       "        </tr>\n",
       "        <tr>\n",
       "            <td>2016-04-01</td> <td>8.54   </td> <td>9.7146  </td> <td>1.1746</td>\n",
       "        </tr>\n",
       "        <tr>\n",
       "            <td>2015-10-01</td> <td>8.665  </td> <td>9.8385  </td> <td>1.1735</td>\n",
       "        </tr>\n",
       "        <tr>\n",
       "            <td>1994-04-01</td> <td>9.6239 </td> <td>10.7883 </td> <td>1.1644</td>\n",
       "        </tr>\n",
       "        <tr>\n",
       "            <td>1994-07-01</td> <td>9.3276 </td> <td>10.4831 </td> <td>1.1555</td>\n",
       "        </tr>\n",
       "        <tr>\n",
       "            <td>1994-10-01</td> <td>9.1071 </td> <td>10.2361 </td> <td>1.129 </td>\n",
       "        </tr>\n",
       "        <tr>\n",
       "            <td>1995-07-01</td> <td>8.9802 </td> <td>10.1084 </td> <td>1.1282</td>\n",
       "        </tr>\n",
       "        <tr>\n",
       "            <td>1995-10-01</td> <td>8.9932 </td> <td>10.1046 </td> <td>1.1114</td>\n",
       "        </tr>\n",
       "        <tr>\n",
       "            <td>1996-07-01</td> <td>8.7627 </td> <td>9.8631  </td> <td>1.1004</td>\n",
       "        </tr>\n",
       "        <tr>\n",
       "            <td>2003-04-01</td> <td>8.944  </td> <td>10.0221 </td> <td>1.0781</td>\n",
       "        </tr>\n",
       "        <tr>\n",
       "            <td>2008-04-01</td> <td>8.5176 </td> <td>9.5938  </td> <td>1.0762</td>\n",
       "        </tr>\n",
       "        <tr>\n",
       "            <td>1995-04-01</td> <td>9.0314 </td> <td>10.1071 </td> <td>1.0757</td>\n",
       "        </tr>\n",
       "        <tr>\n",
       "            <td>1996-10-01</td> <td>8.6554 </td> <td>9.7301  </td> <td>1.0747</td>\n",
       "        </tr>\n",
       "        <tr>\n",
       "            <td>1994-01-01</td> <td>10.0974</td> <td>11.172  </td> <td>1.0746</td>\n",
       "        </tr>\n",
       "        <tr>\n",
       "            <td>1996-04-01</td> <td>8.9038 </td> <td>9.9782  </td> <td>1.0744</td>\n",
       "        </tr>\n",
       "        <tr>\n",
       "            <td>1997-01-01</td> <td>8.6661 </td> <td>9.7366  </td> <td>1.0705</td>\n",
       "        </tr>\n",
       "        <tr>\n",
       "            <td>2003-07-01</td> <td>9.0202 </td> <td>10.0877 </td> <td>1.0675</td>\n",
       "        </tr>\n",
       "        <tr>\n",
       "            <td>2004-01-01</td> <td>8.791  </td> <td>9.8511  </td> <td>1.0601</td>\n",
       "        </tr>\n",
       "        <tr>\n",
       "            <td>1996-01-01</td> <td>9.0002 </td> <td>10.0531 </td> <td>1.0529</td>\n",
       "        </tr>\n",
       "        <tr>\n",
       "            <td>1997-04-01</td> <td>8.4915 </td> <td>9.537   </td> <td>1.0455</td>\n",
       "        </tr>\n",
       "        <tr>\n",
       "            <td>2004-10-01</td> <td>8.6651 </td> <td>9.7019  </td> <td>1.0368</td>\n",
       "        </tr>\n",
       "        <tr>\n",
       "            <td>2003-10-01</td> <td>8.9607 </td> <td>9.9961  </td> <td>1.0354</td>\n",
       "        </tr>\n",
       "        <tr>\n",
       "            <td>2003-01-01</td> <td>8.8809 </td> <td>9.9142  </td> <td>1.0333</td>\n",
       "        </tr>\n",
       "        <tr>\n",
       "            <td>2008-01-01</td> <td>8.3326 </td> <td>9.3475  </td> <td>1.0149</td>\n",
       "        </tr>\n",
       "        <tr>\n",
       "            <td>2004-04-01</td> <td>8.7244 </td> <td>9.7344  </td> <td>1.01  </td>\n",
       "        </tr>\n",
       "        <tr>\n",
       "            <td>1997-07-01</td> <td>8.2957 </td> <td>9.3037  </td> <td>1.008 </td>\n",
       "        </tr>\n",
       "        <tr>\n",
       "            <td>2004-07-01</td> <td>8.6804 </td> <td>9.6846  </td> <td>1.0042</td>\n",
       "        </tr>\n",
       "        <tr>\n",
       "            <td>2001-10-01</td> <td>8.6782 </td> <td>9.6705  </td> <td>0.9923</td>\n",
       "        </tr>\n",
       "        <tr>\n",
       "            <td>2005-07-01</td> <td>8.3727 </td> <td>9.3486  </td> <td>0.9759</td>\n",
       "        </tr>\n",
       "        <tr>\n",
       "            <td>1998-01-01</td> <td>8.1216 </td> <td>9.0969  </td> <td>0.9753</td>\n",
       "        </tr>\n",
       "        <tr>\n",
       "            <td>1997-10-01</td> <td>8.2335 </td> <td>9.2069  </td> <td>0.9734</td>\n",
       "        </tr>\n",
       "        <tr>\n",
       "            <td>2005-01-01</td> <td>8.5683 </td> <td>9.5387  </td> <td>0.9704</td>\n",
       "        </tr>\n",
       "        <tr>\n",
       "            <td>2002-07-01</td> <td>8.8508 </td> <td>9.8211  </td> <td>0.9703</td>\n",
       "        </tr>\n",
       "        <tr>\n",
       "            <td>2002-04-01</td> <td>8.9295 </td> <td>9.8924  </td> <td>0.9629</td>\n",
       "        </tr>\n",
       "        <tr>\n",
       "            <td>2007-10-01</td> <td>8.2687 </td> <td>9.2266  </td> <td>0.9579</td>\n",
       "        </tr>\n",
       "        <tr>\n",
       "            <td>2002-10-01</td> <td>8.7184 </td> <td>9.6759  </td> <td>0.9575</td>\n",
       "        </tr>\n",
       "        <tr>\n",
       "            <td>2006-10-01</td> <td>8.1316 </td> <td>9.0866  </td> <td>0.955 </td>\n",
       "        </tr>\n",
       "        <tr>\n",
       "            <td>2007-07-01</td> <td>8.1828 </td> <td>9.1351  </td> <td>0.9523</td>\n",
       "        </tr>\n",
       "        <tr>\n",
       "            <td>1998-07-01</td> <td>8.1194 </td> <td>9.0645  </td> <td>0.9451</td>\n",
       "        </tr>\n",
       "        <tr>\n",
       "            <td>2006-07-01</td> <td>8.2011 </td> <td>9.142   </td> <td>0.9409</td>\n",
       "        </tr>\n",
       "        <tr>\n",
       "            <td>2005-10-01</td> <td>8.3971 </td> <td>9.3271  </td> <td>0.93  </td>\n",
       "        </tr>\n",
       "        <tr>\n",
       "            <td>2005-04-01</td> <td>8.5138 </td> <td>9.4368  </td> <td>0.923 </td>\n",
       "        </tr>\n",
       "        <tr>\n",
       "            <td>2002-01-01</td> <td>9.0119 </td> <td>9.93    </td> <td>0.9181</td>\n",
       "        </tr>\n",
       "        <tr>\n",
       "            <td>2007-01-01</td> <td>8.1203 </td> <td>9.0183  </td> <td>0.898 </td>\n",
       "        </tr>\n",
       "        <tr>\n",
       "            <td>2007-04-01</td> <td>8.2629 </td> <td>9.1577  </td> <td>0.8948</td>\n",
       "        </tr>\n",
       "        <tr>\n",
       "            <td>1998-04-01</td> <td>7.9992 </td> <td>8.8923  </td> <td>0.8931</td>\n",
       "        </tr>\n",
       "        <tr>\n",
       "            <td>2006-01-01</td> <td>8.289  </td> <td>9.178   </td> <td>0.889 </td>\n",
       "        </tr>\n",
       "        <tr>\n",
       "            <td>2001-07-01</td> <td>8.1444 </td> <td>8.9862  </td> <td>0.8418</td>\n",
       "        </tr>\n",
       "        <tr>\n",
       "            <td>1998-10-01</td> <td>8.0568 </td> <td>8.8935  </td> <td>0.8367</td>\n",
       "        </tr>\n",
       "        <tr>\n",
       "            <td>1999-07-01</td> <td>7.8956 </td> <td>8.7204  </td> <td>0.8248</td>\n",
       "        </tr>\n",
       "        <tr>\n",
       "            <td>2006-04-01</td> <td>8.3396 </td> <td>9.1606  </td> <td>0.821 </td>\n",
       "        </tr>\n",
       "        <tr>\n",
       "            <td>1999-01-01</td> <td>7.8933 </td> <td>8.7141  </td> <td>0.8208</td>\n",
       "        </tr>\n",
       "        <tr>\n",
       "            <td>1999-04-01</td> <td>8.1083 </td> <td>8.9188  </td> <td>0.8105</td>\n",
       "        </tr>\n",
       "        <tr>\n",
       "            <td>2001-04-01</td> <td>8.0353 </td> <td>8.804   </td> <td>0.7687</td>\n",
       "        </tr>\n",
       "        <tr>\n",
       "            <td>1999-10-01</td> <td>7.7832 </td> <td>8.541   </td> <td>0.7578</td>\n",
       "        </tr>\n",
       "        <tr>\n",
       "            <td>2000-07-01</td> <td>7.6915 </td> <td>8.4458  </td> <td>0.7543</td>\n",
       "        </tr>\n",
       "        <tr>\n",
       "            <td>2000-04-01</td> <td>7.6754 </td> <td>8.4199  </td> <td>0.7445</td>\n",
       "        </tr>\n",
       "        <tr>\n",
       "            <td>2000-10-01</td> <td>7.6769 </td> <td>8.4192  </td> <td>0.7423</td>\n",
       "        </tr>\n",
       "        <tr>\n",
       "            <td>2001-01-01</td> <td>7.757  </td> <td>8.4969  </td> <td>0.7399</td>\n",
       "        </tr>\n",
       "        <tr>\n",
       "            <td>2000-01-01</td> <td>7.6128 </td> <td>8.3379  </td> <td>0.7251</td>\n",
       "        </tr>\n",
       "    </tbody>\n",
       "</table>"
      ],
      "text/plain": [
       "<IPython.core.display.HTML object>"
      ]
     },
     "metadata": {},
     "output_type": "display_data"
    }
   ],
   "source": [
    "by_pter = unemployment.with_column(\"PTER\", pter).sort(\"PTER\", descending=True)\n",
    "by_pter.show()"
   ]
  },
  {
   "cell_type": "markdown",
   "metadata": {},
   "source": [
    "**Question 6.** Does it seem true that the PTER rate was very high during the Great Recession, compared to other periods in the dataset? Justify your answer by referring to specific values in the table or by generating a chart."
   ]
  },
  {
   "cell_type": "markdown",
   "metadata": {
    "manual_grade": true,
    "manual_problem_id": "basic_sorting_6"
   },
   "source": [
    "It seems that the years which have a highest PTER rate are 2009 and 2010. we can say that the PTER rate was very high during the Great Recession. The impact of the crisis may have started in 2008 and continued until 2009 and 2010."
   ]
  },
  {
   "cell_type": "markdown",
   "metadata": {},
   "source": [
    "## 2. Birth Rates\n"
   ]
  },
  {
   "cell_type": "markdown",
   "metadata": {},
   "source": [
    "The following table gives census-based population estimates for each state on July 1, 2015 and July 1, 2016. The last four columns describe the components of the estimated change in population during this time interval. *For all questions below, assume that the word \"states\" refers to all 52 rows including Puerto Rico & the District of Columbia.*"
   ]
  },
  {
   "cell_type": "code",
   "execution_count": 48,
   "metadata": {},
   "outputs": [
    {
     "data": {
      "text/html": [
       "<table border=\"1\" class=\"dataframe\">\n",
       "    <thead>\n",
       "        <tr>\n",
       "            <th>REGION</th> <th>NAME</th> <th>2015</th> <th>2016</th> <th>BIRTHS</th> <th>DEATHS</th> <th>MIGRATION</th> <th>OTHER</th>\n",
       "        </tr>\n",
       "    </thead>\n",
       "    <tbody>\n",
       "        <tr>\n",
       "            <td>3     </td> <td>Alabama   </td> <td>4,853,875 </td> <td>4,863,300 </td> <td>58,556 </td> <td>52,405 </td> <td>3,874    </td> <td>-600  </td>\n",
       "        </tr>\n",
       "        <tr>\n",
       "            <td>4     </td> <td>Alaska    </td> <td>737,709   </td> <td>741,894   </td> <td>11,255 </td> <td>4,511  </td> <td>-2,557   </td> <td>-2    </td>\n",
       "        </tr>\n",
       "        <tr>\n",
       "            <td>4     </td> <td>Arizona   </td> <td>6,817,565 </td> <td>6,931,071 </td> <td>87,204 </td> <td>56,564 </td> <td>76,405   </td> <td>6,461 </td>\n",
       "        </tr>\n",
       "        <tr>\n",
       "            <td>3     </td> <td>Arkansas  </td> <td>2,977,853 </td> <td>2,988,248 </td> <td>37,936 </td> <td>30,581 </td> <td>3,530    </td> <td>-490  </td>\n",
       "        </tr>\n",
       "        <tr>\n",
       "            <td>4     </td> <td>California</td> <td>38,993,940</td> <td>39,250,017</td> <td>502,848</td> <td>273,850</td> <td>33,530   </td> <td>-6,451</td>\n",
       "        </tr>\n",
       "    </tbody>\n",
       "</table>\n",
       "<p>... (47 rows omitted)</p>"
      ],
      "text/plain": [
       "<IPython.core.display.HTML object>"
      ]
     },
     "metadata": {},
     "output_type": "display_data"
    }
   ],
   "source": [
    "# Don't change this cell; just run it.\n",
    "# From http://www2.census.gov/programs-surveys/popest/datasets/2010-2016/national/totals/nst-est2016-alldata.csv\n",
    "# See http://www2.census.gov/programs-surveys/popest/datasets/2010-2015/national/totals/nst-est2015-alldata.pdf\n",
    "#     for column descriptions. (As of Feb 2017, no descriptions were posted for 2010-2016.)\n",
    "pop = Table.read_table('nst-est2016-alldata.csv').where('SUMLEV', 40).select([1, 4, 12, 13, 27, 34, 62, 69])\n",
    "pop = pop.relabeled(2, '2015').relabeled(3, '2016')\n",
    "pop = pop.relabeled(4, 'BIRTHS').relabeled(5, 'DEATHS')\n",
    "pop = pop.relabeled(6, 'MIGRATION').relabeled(7, 'OTHER')\n",
    "pop.set_format([2, 3, 4, 5, 6, 7], NumberFormatter(decimals=0)).show(5)"
   ]
  },
  {
   "cell_type": "code",
   "execution_count": 46,
   "metadata": {},
   "outputs": [
    {
     "data": {
      "text/html": [
       "<table border=\"1\" class=\"dataframe\">\n",
       "    <thead>\n",
       "        <tr>\n",
       "            <th>SUMLEV</th> <th>REGION</th> <th>DIVISION</th> <th>STATE</th> <th>NAME</th> <th>CENSUS2010POP</th> <th>ESTIMATESBASE2010</th> <th>POPESTIMATE2010</th> <th>POPESTIMATE2011</th> <th>POPESTIMATE2012</th> <th>POPESTIMATE2013</th> <th>POPESTIMATE2014</th> <th>POPESTIMATE2015</th> <th>POPESTIMATE2016</th> <th>NPOPCHG_2010</th> <th>NPOPCHG_2011</th> <th>NPOPCHG_2012</th> <th>NPOPCHG_2013</th> <th>NPOPCHG_2014</th> <th>NPOPCHG_2015</th> <th>NPOPCHG_2016</th> <th>BIRTHS2010</th> <th>BIRTHS2011</th> <th>BIRTHS2012</th> <th>BIRTHS2013</th> <th>BIRTHS2014</th> <th>BIRTHS2015</th> <th>BIRTHS2016</th> <th>DEATHS2010</th> <th>DEATHS2011</th> <th>DEATHS2012</th> <th>DEATHS2013</th> <th>DEATHS2014</th> <th>DEATHS2015</th> <th>DEATHS2016</th> <th>NATURALINC2010</th> <th>NATURALINC2011</th> <th>NATURALINC2012</th> <th>NATURALINC2013</th> <th>NATURALINC2014</th> <th>NATURALINC2015</th> <th>NATURALINC2016</th> <th>INTERNATIONALMIG2010</th> <th>INTERNATIONALMIG2011</th> <th>INTERNATIONALMIG2012</th> <th>INTERNATIONALMIG2013</th> <th>INTERNATIONALMIG2014</th> <th>INTERNATIONALMIG2015</th> <th>INTERNATIONALMIG2016</th> <th>DOMESTICMIG2010</th> <th>DOMESTICMIG2011</th> <th>DOMESTICMIG2012</th> <th>DOMESTICMIG2013</th> <th>DOMESTICMIG2014</th> <th>DOMESTICMIG2015</th> <th>DOMESTICMIG2016</th> <th>NETMIG2010</th> <th>NETMIG2011</th> <th>NETMIG2012</th> <th>NETMIG2013</th> <th>NETMIG2014</th> <th>NETMIG2015</th> <th>NETMIG2016</th> <th>RESIDUAL2010</th> <th>RESIDUAL2011</th> <th>RESIDUAL2012</th> <th>RESIDUAL2013</th> <th>RESIDUAL2014</th> <th>RESIDUAL2015</th> <th>RESIDUAL2016</th> <th>RBIRTH2011</th> <th>RBIRTH2012</th> <th>RBIRTH2013</th> <th>RBIRTH2014</th> <th>RBIRTH2015</th> <th>RBIRTH2016</th> <th>RDEATH2011</th> <th>RDEATH2012</th> <th>RDEATH2013</th> <th>RDEATH2014</th> <th>RDEATH2015</th> <th>RDEATH2016</th> <th>RNATURALINC2011</th> <th>RNATURALINC2012</th> <th>RNATURALINC2013</th> <th>RNATURALINC2014</th> <th>RNATURALINC2015</th> <th>RNATURALINC2016</th> <th>RINTERNATIONALMIG2011</th> <th>RINTERNATIONALMIG2012</th> <th>RINTERNATIONALMIG2013</th> <th>RINTERNATIONALMIG2014</th> <th>RINTERNATIONALMIG2015</th> <th>RINTERNATIONALMIG2016</th> <th>RDOMESTICMIG2011</th> <th>RDOMESTICMIG2012</th> <th>RDOMESTICMIG2013</th> <th>RDOMESTICMIG2014</th> <th>RDOMESTICMIG2015</th> <th>RDOMESTICMIG2016</th> <th>RNETMIG2011</th> <th>RNETMIG2012</th> <th>RNETMIG2013</th> <th>RNETMIG2014</th> <th>RNETMIG2015</th> <th>RNETMIG2016</th>\n",
       "        </tr>\n",
       "    </thead>\n",
       "    <tbody>\n",
       "        <tr>\n",
       "            <td>40    </td> <td>3     </td> <td>6       </td> <td>1    </td> <td>Alabama</td> <td>4779736      </td> <td>4780131          </td> <td>4785492        </td> <td>4799918        </td> <td>4815960        </td> <td>4829479        </td> <td>4843214        </td> <td>4853875        </td> <td>4863300        </td> <td>5361        </td> <td>14426       </td> <td>16042       </td> <td>13519       </td> <td>13735       </td> <td>10661       </td> <td>9425        </td> <td>14231     </td> <td>59689     </td> <td>59066     </td> <td>57939     </td> <td>58906     </td> <td>59034     </td> <td>58556     </td> <td>11086     </td> <td>48817     </td> <td>48372     </td> <td>50845     </td> <td>49693     </td> <td>51407     </td> <td>52405     </td> <td>3145          </td> <td>10872         </td> <td>10694         </td> <td>7094          </td> <td>9213          </td> <td>7627          </td> <td>6151          </td> <td>1360                </td> <td>4816                </td> <td>4695                </td> <td>4179                </td> <td>4732                </td> <td>5110                </td> <td>4738                </td> <td>866            </td> <td>-1416          </td> <td>414            </td> <td>1619           </td> <td>420            </td> <td>-3114          </td> <td>-864           </td> <td>2226      </td> <td>3400      </td> <td>5109      </td> <td>5798      </td> <td>5152      </td> <td>1996      </td> <td>3874      </td> <td>-10         </td> <td>154         </td> <td>239         </td> <td>627         </td> <td>-630        </td> <td>1038        </td> <td>-600        </td> <td>12.4541   </td> <td>12.2851   </td> <td>12.0138   </td> <td>12.1799   </td> <td>12.1756   </td> <td>12.0521   </td> <td>10.1857   </td> <td>10.0609   </td> <td>10.5428   </td> <td>10.2749   </td> <td>10.6026   </td> <td>10.7861   </td> <td>2.26845        </td> <td>2.22424        </td> <td>1.47095        </td> <td>1.90495        </td> <td>1.57305        </td> <td>1.26601        </td> <td>1.00486              </td> <td>0.97651              </td> <td>0.866524             </td> <td>0.978425             </td> <td>1.05392              </td> <td>0.975181             </td> <td>-0.295449       </td> <td>0.0861076       </td> <td>0.335703        </td> <td>0.0868424       </td> <td>-0.642255       </td> <td>-0.177829       </td> <td>0.709411   </td> <td>1.06262    </td> <td>1.20223    </td> <td>1.06527    </td> <td>0.41167    </td> <td>0.797351   </td>\n",
       "        </tr>\n",
       "    </tbody>\n",
       "</table>\n",
       "<p>... (51 rows omitted)</p>"
      ],
      "text/plain": [
       "<IPython.core.display.HTML object>"
      ]
     },
     "metadata": {},
     "output_type": "display_data"
    }
   ],
   "source": [
    "pop_original = Table.read_table('nst-est2016-alldata.csv').where('SUMLEV', 40)\n",
    "pop_original.show(1)"
   ]
  },
  {
   "cell_type": "markdown",
   "metadata": {},
   "source": [
    "**Question 1.** Assign `us_birth_rate` to the total US annual birth rate during this time interval. The annual birth rate for a year-long period is the number of births in that period as a proportion of the population at the start of the period."
   ]
  },
  {
   "cell_type": "code",
   "execution_count": 49,
   "metadata": {},
   "outputs": [
    {
     "data": {
      "text/plain": [
       "0.012358536498646102"
      ]
     },
     "execution_count": 49,
     "metadata": {},
     "output_type": "execute_result"
    }
   ],
   "source": [
    "us_birth_rate = sum(pop.column(\"BIRTHS\"))/ sum(pop.column(\"2015\"))\n",
    "us_birth_rate\n",
    "#2015-2016 arası doğum sayısı / 2015 nüfusu"
   ]
  },
  {
   "cell_type": "markdown",
   "metadata": {},
   "source": [
    "**Question 2.** Assign `fastest_growth` to an array of the names of the five states with the fastest population growth rates in *descending order of growth rate*."
   ]
  },
  {
   "cell_type": "code",
   "execution_count": 73,
   "metadata": {},
   "outputs": [
    {
     "data": {
      "text/plain": [
       "array(['Utah', 'Nevada', 'Idaho', 'Florida', 'Washington'], dtype='<U20')"
      ]
     },
     "execution_count": 73,
     "metadata": {},
     "output_type": "execute_result"
    }
   ],
   "source": [
    "fastest_growth = pop.with_column(\"GROWTH RATE\",((pop.column(\"2016\") - pop.column(\"2015\"))/pop.column(\"2015\"))*100).sort(\"GROWTH RATE\", descending=True).select(1).take(np.arange(5)).column(0)\n",
    "fastest_growth\n"
   ]
  },
  {
   "cell_type": "markdown",
   "metadata": {},
   "source": [
    "**Question 3.** Assign `movers` to the number of states for which the absolute annual rate of migration was higher than 1%. The annual rate of migration for a year-long period is the net number of migrations (in and out) as a proportion of the population at the start of the period. The `MIGRATION` column contains estimated annual net migration counts by state."
   ]
  },
  {
   "cell_type": "code",
   "execution_count": 91,
   "metadata": {},
   "outputs": [
    {
     "data": {
      "text/plain": [
       "51"
      ]
     },
     "execution_count": 91,
     "metadata": {},
     "output_type": "execute_result"
    }
   ],
   "source": [
    "movers_array = pop.with_column(\"MIGRATION_RATE\",abs(pop.column(\"MIGRATION\")/pop.column(\"2015\"))*100).where(\"MIGRATION_RATE\", are.above(0.01)).column(\"MIGRATION_RATE\")\n",
    "movers=len(movers_array)\n",
    "movers"
   ]
  },
  {
   "cell_type": "markdown",
   "metadata": {},
   "source": [
    "**Question 4.** Assign `west_births` to the total number of births that occurred in region 4 (the Western US)."
   ]
  },
  {
   "cell_type": "code",
   "execution_count": 107,
   "metadata": {},
   "outputs": [
    {
     "data": {
      "text/plain": [
       "979657"
      ]
     },
     "execution_count": 107,
     "metadata": {},
     "output_type": "execute_result"
    }
   ],
   "source": [
    "west_births = sum(pop.where(\"REGION\", \"4\").column(\"BIRTHS\"))\n",
    "west_births"
   ]
  },
  {
   "cell_type": "markdown",
   "metadata": {},
   "source": [
    "**Question 5.** Assign `less_than_west_births` to the number of states that had a total population in 2016 that was smaller than the *number of babies born in region 4 (the Western US)* during this time interval."
   ]
  },
  {
   "cell_type": "code",
   "execution_count": 111,
   "metadata": {},
   "outputs": [
    {
     "data": {
      "text/plain": [
       "7"
      ]
     },
     "execution_count": 111,
     "metadata": {},
     "output_type": "execute_result"
    }
   ],
   "source": [
    "less_than_west_births = len(pop.where(\"2016\", are.below(west_births)).column(0))\n",
    "less_than_west_births"
   ]
  },
  {
   "cell_type": "markdown",
   "metadata": {},
   "source": [
    "**Question 6.** Was there an association between birth rate and death rate during this time interval? Use the code cell below to support your conclusion with a chart. If an association exists, what might explain it?"
   ]
  },
  {
   "cell_type": "markdown",
   "metadata": {
    "manual_grade": true,
    "manual_problem_id": "births_6"
   },
   "source": [
    "as we can see in the scatter diagram there is a slight negative correlation. Locations with low death rate may be more socio-economically developed thats why people here may also be more likely to give birth."
   ]
  },
  {
   "cell_type": "code",
   "execution_count": 146,
   "metadata": {
    "scrolled": true
   },
   "outputs": [
    {
     "data": {
      "text/html": [
       "<table border=\"1\" class=\"dataframe\">\n",
       "    <thead>\n",
       "        <tr>\n",
       "            <th>REGION</th> <th>NAME</th> <th>2015</th> <th>2016</th> <th>BIRTHS</th> <th>DEATHS</th> <th>MIGRATION</th> <th>OTHER</th> <th>BIRTH_RATE</th> <th>DEATH_RATE</th>\n",
       "        </tr>\n",
       "    </thead>\n",
       "    <tbody>\n",
       "        <tr>\n",
       "            <td>3     </td> <td>Alabama             </td> <td>4,853,875 </td> <td>4,863,300 </td> <td>58,556 </td> <td>52,405 </td> <td>3,874    </td> <td>-600  </td> <td>1.20638   </td> <td>1.07965   </td>\n",
       "        </tr>\n",
       "        <tr>\n",
       "            <td>4     </td> <td>Alaska              </td> <td>737,709   </td> <td>741,894   </td> <td>11,255 </td> <td>4,511  </td> <td>-2,557   </td> <td>-2    </td> <td>1.52567   </td> <td>0.611488  </td>\n",
       "        </tr>\n",
       "        <tr>\n",
       "            <td>4     </td> <td>Arizona             </td> <td>6,817,565 </td> <td>6,931,071 </td> <td>87,204 </td> <td>56,564 </td> <td>76,405   </td> <td>6,461 </td> <td>1.27911   </td> <td>0.82968   </td>\n",
       "        </tr>\n",
       "        <tr>\n",
       "            <td>3     </td> <td>Arkansas            </td> <td>2,977,853 </td> <td>2,988,248 </td> <td>37,936 </td> <td>30,581 </td> <td>3,530    </td> <td>-490  </td> <td>1.27394   </td> <td>1.02695   </td>\n",
       "        </tr>\n",
       "        <tr>\n",
       "            <td>4     </td> <td>California          </td> <td>38,993,940</td> <td>39,250,017</td> <td>502,848</td> <td>273,850</td> <td>33,530   </td> <td>-6,451</td> <td>1.28955   </td> <td>0.702289  </td>\n",
       "        </tr>\n",
       "        <tr>\n",
       "            <td>4     </td> <td>Colorado            </td> <td>5,448,819 </td> <td>5,540,545 </td> <td>67,453 </td> <td>37,121 </td> <td>60,773   </td> <td>621   </td> <td>1.23794   </td> <td>0.681267  </td>\n",
       "        </tr>\n",
       "        <tr>\n",
       "            <td>1     </td> <td>Connecticut         </td> <td>3,584,730 </td> <td>3,576,452 </td> <td>35,848 </td> <td>30,638 </td> <td>-12,822  </td> <td>-666  </td> <td>1.00002   </td> <td>0.854681  </td>\n",
       "        </tr>\n",
       "        <tr>\n",
       "            <td>3     </td> <td>Delaware            </td> <td>944,076   </td> <td>952,065   </td> <td>10,922 </td> <td>8,945  </td> <td>5,583    </td> <td>429   </td> <td>1.1569    </td> <td>0.947487  </td>\n",
       "        </tr>\n",
       "        <tr>\n",
       "            <td>3     </td> <td>District of Columbia</td> <td>670,377   </td> <td>681,170   </td> <td>9,779  </td> <td>5,455  </td> <td>6,392    </td> <td>77    </td> <td>1.45873   </td> <td>0.813721  </td>\n",
       "        </tr>\n",
       "        <tr>\n",
       "            <td>3     </td> <td>Florida             </td> <td>20,244,914</td> <td>20,612,439</td> <td>222,793</td> <td>201,485</td> <td>325,986  </td> <td>20,231</td> <td>1.10049   </td> <td>0.995238  </td>\n",
       "        </tr>\n",
       "    </tbody>\n",
       "</table>\n",
       "<p>... (42 rows omitted)</p>"
      ],
      "text/plain": [
       "REGION | NAME                 | 2015       | 2016       | BIRTHS  | DEATHS  | MIGRATION | OTHER  | BIRTH_RATE | DEATH_RATE\n",
       "3      | Alabama              | 4,853,875  | 4,863,300  | 58,556  | 52,405  | 3,874     | -600   | 1.20638    | 1.07965\n",
       "4      | Alaska               | 737,709    | 741,894    | 11,255  | 4,511   | -2,557    | -2     | 1.52567    | 0.611488\n",
       "4      | Arizona              | 6,817,565  | 6,931,071  | 87,204  | 56,564  | 76,405    | 6,461  | 1.27911    | 0.82968\n",
       "3      | Arkansas             | 2,977,853  | 2,988,248  | 37,936  | 30,581  | 3,530     | -490   | 1.27394    | 1.02695\n",
       "4      | California           | 38,993,940 | 39,250,017 | 502,848 | 273,850 | 33,530    | -6,451 | 1.28955    | 0.702289\n",
       "4      | Colorado             | 5,448,819  | 5,540,545  | 67,453  | 37,121  | 60,773    | 621    | 1.23794    | 0.681267\n",
       "1      | Connecticut          | 3,584,730  | 3,576,452  | 35,848  | 30,638  | -12,822   | -666   | 1.00002    | 0.854681\n",
       "3      | Delaware             | 944,076    | 952,065    | 10,922  | 8,945   | 5,583     | 429    | 1.1569     | 0.947487\n",
       "3      | District of Columbia | 670,377    | 681,170    | 9,779   | 5,455   | 6,392     | 77     | 1.45873    | 0.813721\n",
       "3      | Florida              | 20,244,914 | 20,612,439 | 222,793 | 201,485 | 325,986   | 20,231 | 1.10049    | 0.995238\n",
       "... (42 rows omitted)"
      ]
     },
     "execution_count": 146,
     "metadata": {},
     "output_type": "execute_result"
    }
   ],
   "source": [
    "test_rate=pop.with_columns(\"BIRTH_RATE\",(pop.column(\"BIRTHS\")/pop.column(\"2015\"))*100,\"DEATH_RATE\", (pop.column(\"DEATHS\")/pop.column(\"2015\"))*100)\n",
    "test_rate"
   ]
  },
  {
   "cell_type": "code",
   "execution_count": 147,
   "metadata": {},
   "outputs": [
    {
     "data": {
      "image/png": "[encoded data removed]",
      "text/plain": [
       "<Figure size 360x360 with 1 Axes>"
      ]
     },
     "metadata": {},
     "output_type": "display_data"
    }
   ],
   "source": [
    "tt=test_rate.scatter(8,9)\n"
   ]
  },
  {
   "cell_type": "markdown",
   "metadata": {},
   "source": [
    "## 3. Consumer Financial Protection Bureau Complaints\n"
   ]
  },
  {
   "cell_type": "markdown",
   "metadata": {},
   "source": [
    "The Consumer Financial Protection Bureau has collected and published consumer complaints against financial companies since 2011.  The data are available [here](https://dev.socrata.com/foundry/data.consumerfinance.gov/jhzv-w97w) (or at this [direct link](https://data.consumerfinance.gov/resource/jhzv-w97w.csv).  For this exercise, to make your code run faster, we've selected only the data from May 2016.\n",
    "\n",
    "Run the next cell to load the data.  Each row represents one consumer's complaint."
   ]
  },
  {
   "cell_type": "code",
   "execution_count": 2,
   "metadata": {},
   "outputs": [
    {
     "data": {
      "text/html": [
       "<table border=\"1\" class=\"dataframe\">\n",
       "    <thead>\n",
       "        <tr>\n",
       "            <th>company</th> <th>company_public_response</th> <th>company_response</th> <th>complaint_id</th> <th>complaint_what_happened</th> <th>consumer_consent_provided</th> <th>consumer_disputed</th> <th>date_received</th> <th>date_sent_to_company</th> <th>issue</th> <th>product</th> <th>state</th> <th>sub_issue</th> <th>sub_product</th> <th>submitted_via</th> <th>tags</th> <th>timely</th> <th>zip_code</th>\n",
       "        </tr>\n",
       "    </thead>\n",
       "    <tbody>\n",
       "        <tr>\n",
       "            <td>TransUnion Intermediate Holdings, Inc.</td> <td>Company has responded to the consumer and the CFPB and c ...</td> <td>Closed with explanation        </td> <td>1920073     </td> <td>(None)                                                      </td> <td>(None)                   </td> <td>Yes              </td> <td>2016-05-11T15:39:07.000</td> <td>2016-05-11T15:39:07.000</td> <td>Credit reporting company's investigation</td> <td>Credit reporting</td> <td>VT   </td> <td>Inadequate help over the phone       </td> <td>(None)                                </td> <td>Phone        </td> <td>(None)        </td> <td>Yes   </td> <td>05035   </td>\n",
       "        </tr>\n",
       "        <tr>\n",
       "            <td>TransUnion Intermediate Holdings, Inc.</td> <td>Company has responded to the consumer and the CFPB and c ...</td> <td>Closed with explanation        </td> <td>1914777     </td> <td>(None)                                                      </td> <td>Consent not provided     </td> <td>No               </td> <td>2016-05-08T00:53:47.000</td> <td>2016-05-12T18:40:34.000</td> <td>Incorrect information on credit report  </td> <td>Credit reporting</td> <td>MO   </td> <td>Information is not mine              </td> <td>(None)                                </td> <td>Web          </td> <td>(None)        </td> <td>Yes   </td> <td>63020   </td>\n",
       "        </tr>\n",
       "        <tr>\n",
       "            <td>Bank of America                       </td> <td>Company has responded to the consumer and the CFPB and c ...</td> <td>Closed with explanation        </td> <td>1907306     </td> <td>I became aware of several charges on a Bank of America c ...</td> <td>Consent provided         </td> <td>No               </td> <td>2016-05-03T16:49:33.000</td> <td>2016-05-03T16:49:34.000</td> <td>Other                                   </td> <td>Credit card     </td> <td>VA   </td> <td>(None)                               </td> <td>(None)                                </td> <td>Web          </td> <td>(None)        </td> <td>Yes   </td> <td>239XX   </td>\n",
       "        </tr>\n",
       "        <tr>\n",
       "            <td>Finance of America Reverse LLC        </td> <td>Company believes it acted appropriately as authorized by ...</td> <td>Closed with explanation        </td> <td>1919055     </td> <td>I applied for a reverse mortgage and everthing was going ...</td> <td>Consent provided         </td> <td>No               </td> <td>2016-05-10T20:13:22.000</td> <td>2016-05-10T20:13:23.000</td> <td>Application, originator, mortgage broker</td> <td>Mortgage        </td> <td>TX   </td> <td>(None)                               </td> <td>Reverse mortgage                      </td> <td>Web          </td> <td>Older American</td> <td>Yes   </td> <td>774XX   </td>\n",
       "        </tr>\n",
       "        <tr>\n",
       "            <td>Acceptance Solutions Group, INC       </td> <td>Company believes it acted appropriately as authorized by ...</td> <td>Closed with explanation        </td> <td>1908628     </td> <td>Keeps calling numbers that are not mine. And talking to  ...</td> <td>Consent provided         </td> <td>No               </td> <td>2016-05-03T21:05:42.000</td> <td>2016-05-06T13:42:45.000</td> <td>Improper contact or sharing of info     </td> <td>Debt collection </td> <td>OH   </td> <td>Talked to a third party about my debt</td> <td>Payday loan                           </td> <td>Web          </td> <td>(None)        </td> <td>Yes   </td> <td>430XX   </td>\n",
       "        </tr>\n",
       "        <tr>\n",
       "            <td>Equifax                               </td> <td>(None)                                                      </td> <td>Closed with explanation        </td> <td>1909176     </td> <td>(None)                                                      </td> <td>(None)                   </td> <td>No               </td> <td>2016-05-04T20:08:06.000</td> <td>2016-05-09T15:11:00.000</td> <td>Incorrect information on credit report  </td> <td>Credit reporting</td> <td>NC   </td> <td>Information is not mine              </td> <td>(None)                                </td> <td>Postal mail  </td> <td>(None)        </td> <td>Yes   </td> <td>28052   </td>\n",
       "        </tr>\n",
       "        <tr>\n",
       "            <td>TransUnion Intermediate Holdings, Inc.</td> <td>Company has responded to the consumer and the CFPB and c ...</td> <td>Closed with explanation        </td> <td>1914477     </td> <td>When I enter my personal information to receive my credi ...</td> <td>Consent provided         </td> <td>No               </td> <td>2016-05-06T23:09:50.000</td> <td>2016-05-08T22:40:19.000</td> <td>Unable to get credit report/credit score</td> <td>Credit reporting</td> <td>OH   </td> <td>Problem getting my free annual report</td> <td>(None)                                </td> <td>Web          </td> <td>(None)        </td> <td>Yes   </td> <td>450XX   </td>\n",
       "        </tr>\n",
       "        <tr>\n",
       "            <td>Encore Capital Group                  </td> <td>(None)                                                      </td> <td>Closed with non-monetary relief</td> <td>1919937     </td> <td>(None)                                                      </td> <td>Consent not provided     </td> <td>(None)           </td> <td>2016-05-11T18:58:25.000</td> <td>2016-05-11T21:53:54.000</td> <td>Cont'd attempts collect debt not owed   </td> <td>Debt collection </td> <td>CT   </td> <td>Debt is not mine                     </td> <td>Credit card                           </td> <td>Web          </td> <td>Older American</td> <td>Yes   </td> <td>06801   </td>\n",
       "        </tr>\n",
       "        <tr>\n",
       "            <td>Nationstar Mortgage                   </td> <td>(None)                                                      </td> <td>Closed with explanation        </td> <td>1920517     </td> <td>I am livid with Nation Star for refusing to work with me ...</td> <td>Consent provided         </td> <td>(None)           </td> <td>2016-05-11T20:38:09.000</td> <td>2016-05-11T20:38:09.000</td> <td>Application, originator, mortgage broker</td> <td>Mortgage        </td> <td>IL   </td> <td>(None)                               </td> <td>Conventional adjustable mortgage (ARM)</td> <td>Web          </td> <td>(None)        </td> <td>Yes   </td> <td>606XX   </td>\n",
       "        </tr>\n",
       "        <tr>\n",
       "            <td>Convergent Resources, Inc.            </td> <td>(None)                                                      </td> <td>Closed with explanation        </td> <td>1920464     </td> <td>(None)                                                      </td> <td>Consent not provided     </td> <td>No               </td> <td>2016-05-11T12:16:31.000</td> <td>2016-05-11T12:16:32.000</td> <td>Cont'd attempts collect debt not owed   </td> <td>Debt collection </td> <td>TX   </td> <td>Debt is not mine                     </td> <td>Other (i.e. phone, health club, etc.) </td> <td>Web          </td> <td>(None)        </td> <td>Yes   </td> <td>78109   </td>\n",
       "        </tr>\n",
       "    </tbody>\n",
       "</table>\n",
       "<p>... (15021 rows omitted)</p>"
      ],
      "text/plain": [
       "company                                | company_public_response                                      | company_response                | complaint_id | complaint_what_happened                                      | consumer_consent_provided | consumer_disputed | date_received           | date_sent_to_company    | issue                                    | product          | state | sub_issue                             | sub_product                            | submitted_via | tags           | timely | zip_code\n",
       "TransUnion Intermediate Holdings, Inc. | Company has responded to the consumer and the CFPB and c ... | Closed with explanation         | 1920073      | (None)                                                       | (None)                    | Yes               | 2016-05-11T15:39:07.000 | 2016-05-11T15:39:07.000 | Credit reporting company's investigation | Credit reporting | VT    | Inadequate help over the phone        | (None)                                 | Phone         | (None)         | Yes    | 05035\n",
       "TransUnion Intermediate Holdings, Inc. | Company has responded to the consumer and the CFPB and c ... | Closed with explanation         | 1914777      | (None)                                                       | Consent not provided      | No                | 2016-05-08T00:53:47.000 | 2016-05-12T18:40:34.000 | Incorrect information on credit report   | Credit reporting | MO    | Information is not mine               | (None)                                 | Web           | (None)         | Yes    | 63020\n",
       "Bank of America                        | Company has responded to the consumer and the CFPB and c ... | Closed with explanation         | 1907306      | I became aware of several charges on a Bank of America c ... | Consent provided          | No                | 2016-05-03T16:49:33.000 | 2016-05-03T16:49:34.000 | Other                                    | Credit card      | VA    | (None)                                | (None)                                 | Web           | (None)         | Yes    | 239XX\n",
       "Finance of America Reverse LLC         | Company believes it acted appropriately as authorized by ... | Closed with explanation         | 1919055      | I applied for a reverse mortgage and everthing was going ... | Consent provided          | No                | 2016-05-10T20:13:22.000 | 2016-05-10T20:13:23.000 | Application, originator, mortgage broker | Mortgage         | TX    | (None)                                | Reverse mortgage                       | Web           | Older American | Yes    | 774XX\n",
       "Acceptance Solutions Group, INC        | Company believes it acted appropriately as authorized by ... | Closed with explanation         | 1908628      | Keeps calling numbers that are not mine. And talking to  ... | Consent provided          | No                | 2016-05-03T21:05:42.000 | 2016-05-06T13:42:45.000 | Improper contact or sharing of info      | Debt collection  | OH    | Talked to a third party about my debt | Payday loan                            | Web           | (None)         | Yes    | 430XX\n",
       "Equifax                                | (None)                                                       | Closed with explanation         | 1909176      | (None)                                                       | (None)                    | No                | 2016-05-04T20:08:06.000 | 2016-05-09T15:11:00.000 | Incorrect information on credit report   | Credit reporting | NC    | Information is not mine               | (None)                                 | Postal mail   | (None)         | Yes    | 28052\n",
       "TransUnion Intermediate Holdings, Inc. | Company has responded to the consumer and the CFPB and c ... | Closed with explanation         | 1914477      | When I enter my personal information to receive my credi ... | Consent provided          | No                | 2016-05-06T23:09:50.000 | 2016-05-08T22:40:19.000 | Unable to get credit report/credit score | Credit reporting | OH    | Problem getting my free annual report | (None)                                 | Web           | (None)         | Yes    | 450XX\n",
       "Encore Capital Group                   | (None)                                                       | Closed with non-monetary relief | 1919937      | (None)                                                       | Consent not provided      | (None)            | 2016-05-11T18:58:25.000 | 2016-05-11T21:53:54.000 | Cont'd attempts collect debt not owed    | Debt collection  | CT    | Debt is not mine                      | Credit card                            | Web           | Older American | Yes    | 06801\n",
       "Nationstar Mortgage                    | (None)                                                       | Closed with explanation         | 1920517      | I am livid with Nation Star for refusing to work with me ... | Consent provided          | (None)            | 2016-05-11T20:38:09.000 | 2016-05-11T20:38:09.000 | Application, originator, mortgage broker | Mortgage         | IL    | (None)                                | Conventional adjustable mortgage (ARM) | Web           | (None)         | Yes    | 606XX\n",
       "Convergent Resources, Inc.             | (None)                                                       | Closed with explanation         | 1920464      | (None)                                                       | Consent not provided      | No                | 2016-05-11T12:16:31.000 | 2016-05-11T12:16:32.000 | Cont'd attempts collect debt not owed    | Debt collection  | TX    | Debt is not mine                      | Other (i.e. phone, health club, etc.)  | Web           | (None)         | Yes    | 78109\n",
       "... (15021 rows omitted)"
      ]
     },
     "execution_count": 2,
     "metadata": {},
     "output_type": "execute_result"
    }
   ],
   "source": [
    "# Just run this cell.\n",
    "complaints = Table.read_table(\"complaints.csv\")\n",
    "complaints"
   ]
  },
  {
   "cell_type": "markdown",
   "metadata": {},
   "source": [
    "**Question 1.** Financial companies offer a variety of products.  How many complaints were made against each kind of product?  Make a table called `complaints_per_product` with one row per product category and 2 columns: \"product\" (the name of the product) and \"number of complaints\" (the number of complaints made against that kind of product)."
   ]
  },
  {
   "cell_type": "code",
   "execution_count": 3,
   "metadata": {},
   "outputs": [
    {
     "data": {
      "text/html": [
       "<table border=\"1\" class=\"dataframe\">\n",
       "    <thead>\n",
       "        <tr>\n",
       "            <th>product</th> <th>number of complaints</th>\n",
       "        </tr>\n",
       "    </thead>\n",
       "    <tbody>\n",
       "        <tr>\n",
       "            <td>Bank account or service</td> <td>1687                </td>\n",
       "        </tr>\n",
       "        <tr>\n",
       "            <td>Consumer Loan          </td> <td>775                 </td>\n",
       "        </tr>\n",
       "        <tr>\n",
       "            <td>Credit card            </td> <td>1566                </td>\n",
       "        </tr>\n",
       "        <tr>\n",
       "            <td>Credit reporting       </td> <td>3820                </td>\n",
       "        </tr>\n",
       "        <tr>\n",
       "            <td>Debt collection        </td> <td>3022                </td>\n",
       "        </tr>\n",
       "        <tr>\n",
       "            <td>Money transfers        </td> <td>142                 </td>\n",
       "        </tr>\n",
       "        <tr>\n",
       "            <td>Mortgage               </td> <td>3468                </td>\n",
       "        </tr>\n",
       "        <tr>\n",
       "            <td>Other financial service</td> <td>16                  </td>\n",
       "        </tr>\n",
       "        <tr>\n",
       "            <td>Payday loan            </td> <td>119                 </td>\n",
       "        </tr>\n",
       "        <tr>\n",
       "            <td>Prepaid card           </td> <td>110                 </td>\n",
       "        </tr>\n",
       "    </tbody>\n",
       "</table>\n",
       "<p>... (1 rows omitted)</p>"
      ],
      "text/plain": [
       "product                 | number of complaints\n",
       "Bank account or service | 1687\n",
       "Consumer Loan           | 775\n",
       "Credit card             | 1566\n",
       "Credit reporting        | 3820\n",
       "Debt collection         | 3022\n",
       "Money transfers         | 142\n",
       "Mortgage                | 3468\n",
       "Other financial service | 16\n",
       "Payday loan             | 119\n",
       "Prepaid card            | 110\n",
       "... (1 rows omitted)"
      ]
     },
     "execution_count": 3,
     "metadata": {},
     "output_type": "execute_result"
    }
   ],
   "source": [
    "complaints_per_product = complaints.group(\"product\")\n",
    "complaints_per_product_RE=complaints_per_product.relabeled(1, \"number of complaints\")\n",
    "complaints_per_product_RE\n"
   ]
  },
  {
   "cell_type": "markdown",
   "metadata": {},
   "source": [
    "**Question 2.** Make a bar chart showing how many complaints were made about each product category. Sort the bars from shortest to longest."
   ]
  },
  {
   "cell_type": "code",
   "execution_count": 6,
   "metadata": {},
   "outputs": [
    {
     "data": {
      "image/png": "[encoded data removed]",
      "text/plain": [
       "<Figure size 432x396 with 1 Axes>"
      ]
     },
     "metadata": {},
     "output_type": "display_data"
    }
   ],
   "source": [
    "complaints_per_product.sort(1).barh(0,1)"
   ]
  },
  {
   "cell_type": "markdown",
   "metadata": {},
   "source": [
    "**Question 3.** Make a table of the number of complaints made against each *company*.  Call it `complaints_per_company`.  It should have one row per company and 2 columns: \"company\" (the name of the company) and \"number of complaints\" (the number of complaints made against that company)."
   ]
  },
  {
   "cell_type": "code",
   "execution_count": 31,
   "metadata": {},
   "outputs": [
    {
     "data": {
      "text/html": [
       "<table border=\"1\" class=\"dataframe\">\n",
       "    <thead>\n",
       "        <tr>\n",
       "            <th>company</th> <th>number of complaints</th>\n",
       "        </tr>\n",
       "    </thead>\n",
       "    <tbody>\n",
       "        <tr>\n",
       "            <td>Equifax                               </td> <td>1440                </td>\n",
       "        </tr>\n",
       "        <tr>\n",
       "            <td>Experian                              </td> <td>1240                </td>\n",
       "        </tr>\n",
       "        <tr>\n",
       "            <td>TransUnion Intermediate Holdings, Inc.</td> <td>1034                </td>\n",
       "        </tr>\n",
       "        <tr>\n",
       "            <td>Wells Fargo & Company                 </td> <td>771                 </td>\n",
       "        </tr>\n",
       "        <tr>\n",
       "            <td>Bank of America                       </td> <td>769                 </td>\n",
       "        </tr>\n",
       "        <tr>\n",
       "            <td>JPMorgan Chase & Co.                  </td> <td>730                 </td>\n",
       "        </tr>\n",
       "        <tr>\n",
       "            <td>Citibank                              </td> <td>717                 </td>\n",
       "        </tr>\n",
       "        <tr>\n",
       "            <td>Ocwen                                 </td> <td>344                 </td>\n",
       "        </tr>\n",
       "        <tr>\n",
       "            <td>Capital One                           </td> <td>315                 </td>\n",
       "        </tr>\n",
       "        <tr>\n",
       "            <td>Nationstar Mortgage                   </td> <td>269                 </td>\n",
       "        </tr>\n",
       "    </tbody>\n",
       "</table>\n",
       "<p>... (1131 rows omitted)</p>"
      ],
      "text/plain": [
       "company                                | number of complaints\n",
       "Equifax                                | 1440\n",
       "Experian                               | 1240\n",
       "TransUnion Intermediate Holdings, Inc. | 1034\n",
       "Wells Fargo & Company                  | 771\n",
       "Bank of America                        | 769\n",
       "JPMorgan Chase & Co.                   | 730\n",
       "Citibank                               | 717\n",
       "Ocwen                                  | 344\n",
       "Capital One                            | 315\n",
       "Nationstar Mortgage                    | 269\n",
       "... (1131 rows omitted)"
      ]
     },
     "execution_count": 31,
     "metadata": {},
     "output_type": "execute_result"
    }
   ],
   "source": [
    "complaints_per_company =complaints.group(\"company\")\n",
    "complaints_per_company_RE= complaints_per_company.relabeled(1, \"number of complaints\")\n",
    "complaints_per_company_RE.sort(1, descending=True)"
   ]
  },
  {
   "cell_type": "code",
   "execution_count": 44,
   "metadata": {},
   "outputs": [
    {
     "data": {
      "image/png": "[encoded data removed]",
      "text/plain": [
       "<Figure size 432x288 with 1 Axes>"
      ]
     },
     "metadata": {},
     "output_type": "display_data"
    }
   ],
   "source": [
    "complaints_per_company_RE.hist(1,bins= np.arange(0,25,1))"
   ]
  },
  {
   "cell_type": "markdown",
   "metadata": {},
   "source": [
    "**Question 4.** It wouldn't be a good idea to make a bar chart of that data.  (Don't try it!)  Why not?"
   ]
  },
  {
   "cell_type": "markdown",
   "metadata": {
    "manual_grade": true,
    "manual_problem_id": "cfpb_complaints_4"
   },
   "source": [
    "as we can see there are 1141 rows. It may be very hard to read the data if we create a bar chart with 1141 bars.\n"
   ]
  },
  {
   "cell_type": "markdown",
   "metadata": {},
   "source": [
    "**Question 5.** Make a bar chart of just the 10 companies with the most complaints. "
   ]
  },
  {
   "cell_type": "code",
   "execution_count": 166,
   "metadata": {},
   "outputs": [
    {
     "data": {
      "image/png": "[encoded data removed]",
      "text/plain": [
       "<Figure size 432x360 with 1 Axes>"
      ]
     },
     "metadata": {},
     "output_type": "display_data"
    }
   ],
   "source": [
    "complaints_per_company.sort(1, descending=True).take(np.arange(10)).barh(0,1)"
   ]
  },
  {
   "cell_type": "markdown",
   "metadata": {},
   "source": [
    "**Question 6.** Make a bar chart like the one above, with one difference: The size of each company's bar should be the *proportion* (among *all complaints* made against any company in `complaints`) that were made against that company.\n",
    "\n",
    "**Note:** Graphs aren't very useful without accurate labels.  Make sure that the text on the horizontal axis of the graph makes sense."
   ]
  },
  {
   "cell_type": "code",
   "execution_count": 182,
   "metadata": {},
   "outputs": [
    {
     "data": {
      "image/png": "[encoded data removed]",
      "text/plain": [
       "<Figure size 432x360 with 1 Axes>"
      ]
     },
     "metadata": {},
     "output_type": "display_data"
    }
   ],
   "source": [
    "test_q6=complaints_per_company.with_column(\"proportion of complaints among all companies(%)\", (complaints_per_company.column(1)/sum(complaints_per_company.column(1)))*100).sort(2, descending=True).take(np.arange(10)).barh(0,2)\n",
    "test_q6                                \n",
    "                                "
   ]
  },
  {
   "cell_type": "markdown",
   "metadata": {},
   "source": [
    "You've reached the end of homework 3. Don't forget to run all cells before submitting!"
   ]
  }
 ],
 "metadata": {
  "kernelspec": {
   "display_name": "Python 3",
   "language": "python",
   "name": "python3"
  },
  "language_info": {
   "codemirror_mode": {
    "name": "ipython",
    "version": 3
   },
   "file_extension": ".py",
   "mimetype": "text/x-python",
   "name": "python",
   "nbconvert_exporter": "python",
   "pygments_lexer": "ipython3",
   "version": "3.8.3"
  }
 },
 "nbformat": 4,
 "nbformat_minor": 1
}
