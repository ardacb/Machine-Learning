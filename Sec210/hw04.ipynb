{
 "cells": [
  {
   "cell_type": "markdown",
   "metadata": {},
   "source": [
    "# Homework 4: Functions, Histograms,  Groups and Pivot Tables"
   ]
  },
  {
   "cell_type": "markdown",
   "metadata": {},
   "source": [
    "**Reading**: Textbook chapter [7.2](https://www.inferentialthinking.com/chapters/07/2/visualizing-numerical-distributions.html) and chapter [8](https://www.inferentialthinking.com/chapters/08/functions-and-tables.html)."
   ]
  },
  {
   "cell_type": "markdown",
   "metadata": {},
   "source": [
    "Please complete this notebook by filling in the cells provided. Before you begin, execute the following cell to import the relevant libraries. Each time you start your server, you will need to execute this cell again."
   ]
  },
  {
   "cell_type": "code",
   "execution_count": 1,
   "metadata": {},
   "outputs": [],
   "source": [
    "# Don't change this cell; just run it. \n",
    "\n",
    "import numpy as np\n",
    "from datascience import *\n",
    "\n",
    "# These lines do some fancy plotting magic.\\n\",\n",
    "import matplotlib\n",
    "%matplotlib inline\n",
    "import matplotlib.pyplot as plots\n",
    "plots.style.use('fivethirtyeight')\n"
   ]
  },
  {
   "cell_type": "markdown",
   "metadata": {},
   "source": [
    "## 1. Working with Text using Functions\n"
   ]
  },
  {
   "cell_type": "markdown",
   "metadata": {},
   "source": [
    "The following table contains the words from four chapters of Charles Dickens' [*A Tale of Two Cities*](http://www.gutenberg.org/cache/epub/98/pg98.txt).  We're going to compute some simple facts about each chapter.  Since we're performing the same computation on each chapter, it's best to encapsulate each computational procedure in a function, and then call the function several times. Run the cell to get a table with one column."
   ]
  },
  {
   "cell_type": "code",
   "execution_count": 72,
   "metadata": {},
   "outputs": [
    {
     "data": {
      "text/html": [
       "<table border=\"1\" class=\"dataframe\">\n",
       "    <thead>\n",
       "        <tr>\n",
       "            <th>Chapter text</th>\n",
       "        </tr>\n",
       "    </thead>\n",
       "    <tbody>\n",
       "        <tr>\n",
       "            <td>I. The Period\n",
       "\n",
       "\n",
       "It was the best of times,\n",
       "it was the wor ...</td>\n",
       "        </tr>\n",
       "        <tr>\n",
       "            <td>II. The Mail\n",
       "\n",
       "\n",
       "It was the Dover road that lay, on a Frid ...</td>\n",
       "        </tr>\n",
       "        <tr>\n",
       "            <td>III. The Night Shadows\n",
       "\n",
       "\n",
       "A wonderful fact to reflect upo ...</td>\n",
       "        </tr>\n",
       "        <tr>\n",
       "            <td>IV. The Preparation\n",
       "\n",
       "\n",
       "When the mail got successfully to  ...</td>\n",
       "        </tr>\n",
       "    </tbody>\n",
       "</table>"
      ],
      "text/plain": [
       "Chapter text\n",
       "I. The Period\n",
       "\n",
       "\n",
       "It was the best of times,\n",
       "it was the wor ...\n",
       "II. The Mail\n",
       "\n",
       "\n",
       "It was the Dover road that lay, on a Frid ...\n",
       "III. The Night Shadows\n",
       "\n",
       "\n",
       "A wonderful fact to reflect upo ...\n",
       "IV. The Preparation\n",
       "\n",
       "\n",
       "When the mail got successfully to  ..."
      ]
     },
     "execution_count": 72,
     "metadata": {},
     "output_type": "execute_result"
    }
   ],
   "source": [
    "# Just run this cell to load the data.\n",
    "tale_chapters = Table.read_table(\"tale.csv\")\n",
    "tale_chapters\n"
   ]
  },
  {
   "cell_type": "markdown",
   "metadata": {},
   "source": [
    "**Question 1.** Write a function called `word_count` that takes a single argument, the text of a single chapter, and returns the number of words in that chapter.  Assume that words are separated from each other by spaces. \n",
    "\n",
    "*Hint:* Try the string method [`split`](https://docs.python.org/3/library/stdtypes.html#str.split) and the function [`len`](https://docs.python.org/3/library/functions.html#len)."
   ]
  },
  {
   "cell_type": "code",
   "execution_count": 73,
   "metadata": {
    "for_assignment_type": "student"
   },
   "outputs": [
    {
     "data": {
      "text/plain": [
       "911"
      ]
     },
     "execution_count": 73,
     "metadata": {},
     "output_type": "execute_result"
    }
   ],
   "source": [
    "def word_count(x):\n",
    "    return len(x.split(\" \"))\n",
    "    \n",
    "    \n",
    "    \n",
    "\n",
    "word_count(tale_chapters.column(\"Chapter text\").item(0))"
   ]
  },
  {
   "cell_type": "markdown",
   "metadata": {},
   "source": [
    "**Question 2.** Use the `apply` function on the table from before to create an array called `chapter_lengths` which contains the length of each chapter in `tale_chapters`."
   ]
  },
  {
   "cell_type": "code",
   "execution_count": 74,
   "metadata": {},
   "outputs": [
    {
     "data": {
      "text/plain": [
       "array([ 911, 1827, 1468, 3994])"
      ]
     },
     "execution_count": 74,
     "metadata": {},
     "output_type": "execute_result"
    }
   ],
   "source": [
    "chapter_lengths= tale_chapters.apply(word_count, \"Chapter text\")\n",
    "chapter_lengths"
   ]
  },
  {
   "cell_type": "markdown",
   "metadata": {},
   "source": [
    "**Question 3.** Write a function called `character_count`.  It should take a string as its argument and return the number of characters in that string that aren't spaces (\" \"), periods (\".\"), exclamation marks (\"!\"), or question marks (\"?\"). Remember that `tale_chapters` is a table, and that the function takes in only the text of one chapter as input.\n",
    "\n",
    "*Hint:* Try using the string method `replace` several times to remove the characters we don't want to count."
   ]
  },
  {
   "cell_type": "code",
   "execution_count": 75,
   "metadata": {
    "for_assignment_type": "student"
   },
   "outputs": [
    {
     "data": {
      "text/plain": [
       "4882"
      ]
     },
     "execution_count": 75,
     "metadata": {},
     "output_type": "execute_result"
    }
   ],
   "source": [
    "def character_count(string):\n",
    "    return string.replace(\" \",\"\")\n",
    "    string.replace(\".\",\"\")\n",
    "    string.replace(\"!\",\"\")\n",
    "    string.replace(\"?\",\"\")\n",
    "    \n",
    "len(character_count(tale_chapters.column(\"Chapter text\").item(0)))\n"
   ]
  },
  {
   "cell_type": "markdown",
   "metadata": {},
   "source": [
    "## 2. Uber\n"
   ]
  },
  {
   "cell_type": "markdown",
   "metadata": {},
   "source": [
    "Below we load tables containing 200,000 weekday Uber rides in the Manila, Philippines, and Boston, Massachusetts metropolitan areas from the [Uber Movement](https://movement.uber.com) project. The `sourceid` and `dstid` columns contain codes corresponding to start and end locations of each ride. The `hod` column contains codes corresponding to the hour of the day the ride took place. The `ride time` table contains the length of the ride, in minutes."
   ]
  },
  {
   "cell_type": "code",
   "execution_count": 76,
   "metadata": {
    "for_question_type": "solution",
    "scrolled": true
   },
   "outputs": [
    {
     "name": "stdout",
     "output_type": "stream",
     "text": [
      "Boston\n"
     ]
    },
    {
     "data": {
      "text/html": [
       "<table border=\"1\" class=\"dataframe\">\n",
       "    <thead>\n",
       "        <tr>\n",
       "            <th>sourceid</th> <th>dstid</th> <th>hod</th> <th>ride time</th>\n",
       "        </tr>\n",
       "    </thead>\n",
       "    <tbody>\n",
       "        <tr>\n",
       "            <td>584     </td> <td>33   </td> <td>7   </td> <td>11.866   </td>\n",
       "        </tr>\n",
       "        <tr>\n",
       "            <td>1013    </td> <td>1116 </td> <td>13  </td> <td>17.7993  </td>\n",
       "        </tr>\n",
       "        <tr>\n",
       "            <td>884     </td> <td>1190 </td> <td>22  </td> <td>19.3488  </td>\n",
       "        </tr>\n",
       "        <tr>\n",
       "            <td>211     </td> <td>364  </td> <td>1   </td> <td>1.7235   </td>\n",
       "        </tr>\n",
       "    </tbody>\n",
       "</table>\n",
       "<p>... (199996 rows omitted)</p>"
      ],
      "text/plain": [
       "<IPython.core.display.HTML object>"
      ]
     },
     "metadata": {},
     "output_type": "display_data"
    },
    {
     "name": "stdout",
     "output_type": "stream",
     "text": [
      "Manila\n"
     ]
    },
    {
     "data": {
      "text/html": [
       "<table border=\"1\" class=\"dataframe\">\n",
       "    <thead>\n",
       "        <tr>\n",
       "            <th>sourceid</th> <th>dstid</th> <th>hod</th> <th>ride time</th>\n",
       "        </tr>\n",
       "    </thead>\n",
       "    <tbody>\n",
       "        <tr>\n",
       "            <td>544     </td> <td>5    </td> <td>22  </td> <td>22.8115  </td>\n",
       "        </tr>\n",
       "        <tr>\n",
       "            <td>302     </td> <td>240  </td> <td>21  </td> <td>7.02267  </td>\n",
       "        </tr>\n",
       "        <tr>\n",
       "            <td>278     </td> <td>99   </td> <td>16  </td> <td>21.6437  </td>\n",
       "        </tr>\n",
       "        <tr>\n",
       "            <td>720     </td> <td>775  </td> <td>18  </td> <td>13.0597  </td>\n",
       "        </tr>\n",
       "    </tbody>\n",
       "</table>\n",
       "<p>... (199996 rows omitted)</p>"
      ],
      "text/plain": [
       "<IPython.core.display.HTML object>"
      ]
     },
     "metadata": {},
     "output_type": "display_data"
    }
   ],
   "source": [
    "boston = Table.read_table(\"boston.csv\")\n",
    "manila = Table.read_table(\"manila.csv\")\n",
    "print(\"Boston\")\n",
    "boston.show(4)\n",
    "print(\"Manila\")\n",
    "manila.show(4)"
   ]
  },
  {
   "cell_type": "markdown",
   "metadata": {},
   "source": [
    "**Question 1**\n",
    "Produce histograms of all ride times in Boston and in Manila, using the given bins. Please put the code for both of them in the following cell, and put the ride times for Boston first.  "
   ]
  },
  {
   "cell_type": "code",
   "execution_count": 77,
   "metadata": {
    "deletable": false,
    "manual_problem_id": "uber_1"
   },
   "outputs": [
    {
     "data": {
      "image/png": "[encoded data removed]",
      "text/plain": [
       "<Figure size 432x288 with 1 Axes>"
      ]
     },
     "metadata": {},
     "output_type": "display_data"
    },
    {
     "data": {
      "image/png": "[encoded data removed]",
      "text/plain": [
       "<Figure size 432x288 with 1 Axes>"
      ]
     },
     "metadata": {},
     "output_type": "display_data"
    }
   ],
   "source": [
    "bins = np.arange(0, 120, 5)\n",
    "boston.hist(\"ride time\", bins=np.arange(0,120,5))\n",
    "manila.hist(\"ride time\", bins=np.arange(0,120,5))"
   ]
  },
  {
   "cell_type": "markdown",
   "metadata": {},
   "source": [
    "**Question 2** Set the two variables below to estimates of what percentage of rides are less than 10 minutes in Boston and Manila. Find your estimates by visually assessing the histograms. Your solution should consist of only mathematical operations and numbers."
   ]
  },
  {
   "cell_type": "code",
   "execution_count": 78,
   "metadata": {
    "deletable": false,
    "manual_problem_id": "uber_2"
   },
   "outputs": [
    {
     "name": "stdout",
     "output_type": "stream",
     "text": [
      "boston_under_10:  23.0  , manila_under_10:  10.0\n"
     ]
    }
   ],
   "source": [
    "boston_under_10 = (1.3*5)+(3.3*5)\n",
    "manila_under_10 = (0.6*5)+(1.4*5)\n",
    "print('boston_under_10: ', boston_under_10 , ' , ' 'manila_under_10: ', manila_under_10)"
   ]
  },
  {
   "cell_type": "code",
   "execution_count": 79,
   "metadata": {},
   "outputs": [
    {
     "data": {
      "text/plain": [
       "array([1.7235    , 7.9155    , 8.20816667, ..., 8.43133333, 8.29166667,\n",
       "       4.03766667])"
      ]
     },
     "execution_count": 79,
     "metadata": {},
     "output_type": "execute_result"
    }
   ],
   "source": [
    "test=boston.where(\"ride time\", are.below(10)).column(3)\n",
    "test"
   ]
  },
  {
   "cell_type": "markdown",
   "metadata": {},
   "source": [
    "**Question 3** Now use the data to calculate the percentage of rides that are less than 10 minutes in Boston and Manila."
   ]
  },
  {
   "cell_type": "code",
   "execution_count": 80,
   "metadata": {},
   "outputs": [
    {
     "name": "stdout",
     "output_type": "stream",
     "text": [
      "boston_under_10:  0.22829  , manila_under_10:  0.10039\n"
     ]
    }
   ],
   "source": [
    "boston_under_10 = len(boston.where(\"ride time\", are.below(10)).column(3))/len(boston.column(3))\n",
    "manila_under_10 = len(manila.where(\"ride time\", are.below(10)).column(3))/len(manila.column(3))\n",
    "print('boston_under_10: ', boston_under_10 , ' , ' 'manila_under_10: ', manila_under_10)"
   ]
  },
  {
   "cell_type": "markdown",
   "metadata": {},
   "source": [
    "## 3. Faculty salaries\n"
   ]
  },
  {
   "cell_type": "markdown",
   "metadata": {},
   "source": [
    "In the next cell we load a dataset created by the [Daily Cal](http://projects.dailycal.org/paychecker/), containing berkeley faculty, their departments, their positions, and their gross salaries in 2015."
   ]
  },
  {
   "cell_type": "code",
   "execution_count": 6,
   "metadata": {},
   "outputs": [
    {
     "data": {
      "text/html": [
       "<table border=\"1\" class=\"dataframe\">\n",
       "    <thead>\n",
       "        <tr>\n",
       "            <th>name</th> <th>department</th> <th>position</th> <th>gross_salary</th>\n",
       "        </tr>\n",
       "    </thead>\n",
       "    <tbody>\n",
       "        <tr>\n",
       "            <td>CYNTHIA ABAN   </td> <td>South & Southeast Asian Studies</td> <td>lecturer           </td> <td>64450       </td>\n",
       "        </tr>\n",
       "        <tr>\n",
       "            <td>PIETER ABBEEL  </td> <td>Computer Science               </td> <td>associate professor</td> <td>184998      </td>\n",
       "        </tr>\n",
       "        <tr>\n",
       "            <td>SALLY ABEL     </td> <td>Law                            </td> <td>lecturer           </td> <td>3466        </td>\n",
       "        </tr>\n",
       "        <tr>\n",
       "            <td>ELIZABETH ABEL </td> <td>English                        </td> <td>professor          </td> <td>138775      </td>\n",
       "        </tr>\n",
       "        <tr>\n",
       "            <td>DOR ABRAHAMSON </td> <td>Education                      </td> <td>associate professor</td> <td>100300      </td>\n",
       "        </tr>\n",
       "        <tr>\n",
       "            <td>KATHRYN ABRAMS </td> <td>Law                            </td> <td>professor          </td> <td>319693      </td>\n",
       "        </tr>\n",
       "        <tr>\n",
       "            <td>BARBARA ABRAMS </td> <td>Public Health                  </td> <td>professor          </td> <td>191162      </td>\n",
       "        </tr>\n",
       "        <tr>\n",
       "            <td>SARAH ACCOMAZZO</td> <td>Social Welfare                 </td> <td>lecturer           </td> <td>14779       </td>\n",
       "        </tr>\n",
       "        <tr>\n",
       "            <td>CHARISMA ACEY  </td> <td>City and Regional Planning     </td> <td>assistant professor</td> <td>101567      </td>\n",
       "        </tr>\n",
       "        <tr>\n",
       "            <td>DAVID ACKERLY  </td> <td>Biology                        </td> <td>professor          </td> <td>182288      </td>\n",
       "        </tr>\n",
       "    </tbody>\n",
       "</table>\n",
       "<p>... (2049 rows omitted)</p>"
      ],
      "text/plain": [
       "name            | department                      | position            | gross_salary\n",
       "CYNTHIA ABAN    | South & Southeast Asian Studies | lecturer            | 64450\n",
       "PIETER ABBEEL   | Computer Science                | associate professor | 184998\n",
       "SALLY ABEL      | Law                             | lecturer            | 3466\n",
       "ELIZABETH ABEL  | English                         | professor           | 138775\n",
       "DOR ABRAHAMSON  | Education                       | associate professor | 100300\n",
       "KATHRYN ABRAMS  | Law                             | professor           | 319693\n",
       "BARBARA ABRAMS  | Public Health                   | professor           | 191162\n",
       "SARAH ACCOMAZZO | Social Welfare                  | lecturer            | 14779\n",
       "CHARISMA ACEY   | City and Regional Planning      | assistant professor | 101567\n",
       "DAVID ACKERLY   | Biology                         | professor           | 182288\n",
       "... (2049 rows omitted)"
      ]
     },
     "execution_count": 6,
     "metadata": {},
     "output_type": "execute_result"
    }
   ],
   "source": [
    "profs = Table.read_table(\"faculty.csv\").where(\"year\", are.equal_to(2015))\\\n",
    "                                       .drop(\"year\", \"title\")\\\n",
    "                                       .relabeled(\"title_category\", \"position\")\n",
    "profs"
   ]
  },
  {
   "cell_type": "markdown",
   "metadata": {},
   "source": [
    "We want to use this table to generate arrays with the names of each professor in each department."
   ]
  },
  {
   "cell_type": "markdown",
   "metadata": {},
   "source": [
    "**Question 1** Set `prof_names` to a table with two columns. The first column should be called \"department\" and have the name of every department once, and the second column should be called \"faculty\" and contain an *array* of the names of all faculty members in that department. \n",
    "\n",
    "*Hint:* Think about how ```group``` works: it collects values into an array and then applies a function to that array. We have defined two functions below for you, and you will need to use one of them in your call to ```group```."
   ]
  },
  {
   "cell_type": "code",
   "execution_count": 82,
   "metadata": {},
   "outputs": [],
   "source": [
    "# Pick between the two functions defined below \n",
    "def identity(array):\n",
    "    return array \n",
    "\n",
    "def first(array):\n",
    "    return array.item(0)"
   ]
  },
  {
   "cell_type": "code",
   "execution_count": 83,
   "metadata": {},
   "outputs": [
    {
     "data": {
      "text/html": [
       "<table border=\"1\" class=\"dataframe\">\n",
       "    <thead>\n",
       "        <tr>\n",
       "            <th>department</th> <th>name list</th>\n",
       "        </tr>\n",
       "    </thead>\n",
       "    <tbody>\n",
       "        <tr>\n",
       "            <td>African American Studies                      </td> <td>['AYA DE LEON', 'CHIYUMA ELLIOTT', 'NIKKI JONES', 'DAVID ...</td>\n",
       "        </tr>\n",
       "        <tr>\n",
       "            <td>Agricultural and Resource Economics and Policy</td> <td>['MAXIMILIAN AUFFHAMMER', 'CHARLES GIBBONS', 'JEFFREY PE ...</td>\n",
       "        </tr>\n",
       "        <tr>\n",
       "            <td>Anthroplogy                                   </td> <td>['SABRINA AGARWAL', 'STANLEY BRANDES', 'CHARLES BRIGGS', ...</td>\n",
       "        </tr>\n",
       "        <tr>\n",
       "            <td>Architecture                                  </td> <td>['MARK ANDERSON', 'JACOB ATHERTON', 'WILLIAM ATWOOD', 'R ...</td>\n",
       "        </tr>\n",
       "        <tr>\n",
       "            <td>Art History                                   </td> <td>['DILIANA ANGELOVA', 'PATRICIA BERGER', 'JULIA BRYAN-WIL ...</td>\n",
       "        </tr>\n",
       "        <tr>\n",
       "            <td>Art Practice                                  </td> <td>['ALLAN DESOUZA', 'AIDA GAMEZ', 'RANDY HUSSONG', 'JENNIF ...</td>\n",
       "        </tr>\n",
       "        <tr>\n",
       "            <td>Astronomy                                     </td> <td>['GIBOR BASRI', 'STEVEN BECKWITH', 'LEO BLITZ', 'EUGENE  ...</td>\n",
       "        </tr>\n",
       "        <tr>\n",
       "            <td>Bioengineering                                </td> <td>['ADAM ARKIN', 'IRINA CONBOY', 'STEVEN CONOLLY', 'JOHN D ...</td>\n",
       "        </tr>\n",
       "        <tr>\n",
       "            <td>Biology                                       </td> <td>['DAVID ACKERLY', 'HILLEL ADESNIK', 'KELLY AGNEW', 'DORI ...</td>\n",
       "        </tr>\n",
       "        <tr>\n",
       "            <td>Buddhist Studies                              </td> <td>['JANN RONIS']                                              </td>\n",
       "        </tr>\n",
       "    </tbody>\n",
       "</table>\n",
       "<p>... (61 rows omitted)</p>"
      ],
      "text/plain": [
       "department                                     | name list\n",
       "African American Studies                       | ['AYA DE LEON', 'CHIYUMA ELLIOTT', 'NIKKI JONES', 'DAVID ...\n",
       "Agricultural and Resource Economics and Policy | ['MAXIMILIAN AUFFHAMMER', 'CHARLES GIBBONS', 'JEFFREY PE ...\n",
       "Anthroplogy                                    | ['SABRINA AGARWAL', 'STANLEY BRANDES', 'CHARLES BRIGGS', ...\n",
       "Architecture                                   | ['MARK ANDERSON', 'JACOB ATHERTON', 'WILLIAM ATWOOD', 'R ...\n",
       "Art History                                    | ['DILIANA ANGELOVA', 'PATRICIA BERGER', 'JULIA BRYAN-WIL ...\n",
       "Art Practice                                   | ['ALLAN DESOUZA', 'AIDA GAMEZ', 'RANDY HUSSONG', 'JENNIF ...\n",
       "Astronomy                                      | ['GIBOR BASRI', 'STEVEN BECKWITH', 'LEO BLITZ', 'EUGENE  ...\n",
       "Bioengineering                                 | ['ADAM ARKIN', 'IRINA CONBOY', 'STEVEN CONOLLY', 'JOHN D ...\n",
       "Biology                                        | ['DAVID ACKERLY', 'HILLEL ADESNIK', 'KELLY AGNEW', 'DORI ...\n",
       "Buddhist Studies                               | ['JANN RONIS']\n",
       "... (61 rows omitted)"
      ]
     },
     "execution_count": 83,
     "metadata": {},
     "output_type": "execute_result"
    }
   ],
   "source": [
    "prof_names = profs.select(1,0).group(\"department\", list) ##üst kısmı anlamadım tekrar bak!!\n",
    "prof_names"
   ]
  },
  {
   "cell_type": "markdown",
   "metadata": {},
   "source": [
    "**Question 2** At the moment, the ```name``` column is sorted by last name. Would the arrays you generated in the previous part be the same as if we had sorted by first name instead? When we say that two arrays are the same, we mean that they contain the same number of elements and the elements in the corresponding positions are identical. Explain your answer. If you feel you need to make certain assumptions about the data, feel free to state them in your response. "
   ]
  },
  {
   "cell_type": "markdown",
   "metadata": {
    "deletable": false,
    "manual_problem_id": "faculty_1"
   },
   "source": [
    "If the name column is sorted by last name, array elements we generated will also change. because when we sort by last name, we change the elements of the array. for example, corresponding array for biology department, if we sort by last name, will be ['ACKERLY DAVID' ....] so 'David Ackerly' is no longer elements of new array. Furthermore, All indexes will change after sorting by last name so it wouldnt be the same."
   ]
  },
  {
   "cell_type": "markdown",
   "metadata": {},
   "source": [
    "**Question 3** Set `biggest_range_dept` to the name of the department with the largest salary range, where range is defined as the difference between the lowest and highest salaries in the department. \n",
    "\n",
    "*Hint:* First you'll need to define a new function `salary_range` which takes in an array of salaries and returns the salary range of the corresponding department. Think about what functions we have discussed can combine and give you this range. Then, set `department_ranges` to a table containing the names and salary ranges of each department. "
   ]
  },
  {
   "cell_type": "code",
   "execution_count": 16,
   "metadata": {},
   "outputs": [
    {
     "data": {
      "text/html": [
       "<table border=\"1\" class=\"dataframe\">\n",
       "    <thead>\n",
       "        <tr>\n",
       "            <th>department</th> <th>gross_salary min</th>\n",
       "        </tr>\n",
       "    </thead>\n",
       "    <tbody>\n",
       "        <tr>\n",
       "            <td>African American Studies                      </td> <td>14422           </td>\n",
       "        </tr>\n",
       "        <tr>\n",
       "            <td>Agricultural and Resource Economics and Policy</td> <td>16062           </td>\n",
       "        </tr>\n",
       "        <tr>\n",
       "            <td>Anthroplogy                                   </td> <td>16830           </td>\n",
       "        </tr>\n",
       "        <tr>\n",
       "            <td>Architecture                                  </td> <td>2010            </td>\n",
       "        </tr>\n",
       "        <tr>\n",
       "            <td>Art History                                   </td> <td>23567           </td>\n",
       "        </tr>\n",
       "        <tr>\n",
       "            <td>Art Practice                                  </td> <td>883             </td>\n",
       "        </tr>\n",
       "        <tr>\n",
       "            <td>Astronomy                                     </td> <td>14826           </td>\n",
       "        </tr>\n",
       "        <tr>\n",
       "            <td>Bioengineering                                </td> <td>69336           </td>\n",
       "        </tr>\n",
       "        <tr>\n",
       "            <td>Biology                                       </td> <td>5462            </td>\n",
       "        </tr>\n",
       "        <tr>\n",
       "            <td>Buddhist Studies                              </td> <td>53555           </td>\n",
       "        </tr>\n",
       "    </tbody>\n",
       "</table>\n",
       "<p>... (61 rows omitted)</p>"
      ],
      "text/plain": [
       "department                                     | gross_salary min\n",
       "African American Studies                       | 14422\n",
       "Agricultural and Resource Economics and Policy | 16062\n",
       "Anthroplogy                                    | 16830\n",
       "Architecture                                   | 2010\n",
       "Art History                                    | 23567\n",
       "Art Practice                                   | 883\n",
       "Astronomy                                      | 14826\n",
       "Bioengineering                                 | 69336\n",
       "Biology                                        | 5462\n",
       "Buddhist Studies                               | 53555\n",
       "... (61 rows omitted)"
      ]
     },
     "execution_count": 16,
     "metadata": {},
     "output_type": "execute_result"
    }
   ],
   "source": [
    "test=profs.select(\"department\",\"gross_salary\").group(0,min)\n",
    "test"
   ]
  },
  {
   "cell_type": "code",
   "execution_count": 7,
   "metadata": {},
   "outputs": [],
   "source": [
    "# Define salary_range in this cell\n",
    "salary_range_max= profs.select(\"department\",\"gross_salary\").group(0,max).column(1)\n",
    "salary_range_min=profs.select(\"department\",\"gross_salary\").group(0,min).column(1)\n",
    "salary_range=salary_range_max-salary_range_min\n",
    "salary_range\n",
    "\n"
   ]
  },
  {
   "cell_type": "code",
   "execution_count": 85,
   "metadata": {},
   "outputs": [
    {
     "data": {
      "text/plain": [
       "'Economics'"
      ]
     },
     "execution_count": 85,
     "metadata": {},
     "output_type": "execute_result"
    }
   ],
   "source": [
    "department_ranges = profs.select(\"department\",\"gross_salary\").group(0).with_column(\"salary range\", salary_range).sort(\"salary range\", descending=True)\n",
    "biggest_range_dept= department_ranges.column(0).item(0)\n",
    "biggest_range_dept\n"
   ]
  },
  {
   "cell_type": "markdown",
   "metadata": {},
   "source": [
    "## 4. Causes of Death by Year"
   ]
  },
  {
   "cell_type": "markdown",
   "metadata": {},
   "source": [
    "This exercise is designed to give you practice using the Table method `pivot`. [Here](http://data8.org/sp18/python-reference.html) is a link to the Python reference page in case you need a quick refresher.\n",
    "\n",
    "We'll be looking at a dataset from the California Department of Public Health (available [here](http://www.healthdata.gov/dataset/leading-causes-death-zip-code-1999-2013)) that records the cause of death (as recorded on a death certificate) for everyone who died in California from 1999 to 2013.  The data are in the file `causes_of_death.csv.zip`.  Each row records the number of deaths by one cause in one year in one ZIP code.\n",
    "\n",
    "To make the file smaller, we've compressed it; run the next cell to unzip and load it."
   ]
  },
  {
   "cell_type": "code",
   "execution_count": 86,
   "metadata": {},
   "outputs": [
    {
     "data": {
      "text/html": [
       "<table border=\"1\" class=\"dataframe\">\n",
       "    <thead>\n",
       "        <tr>\n",
       "            <th>Year</th> <th>ZIP Code</th> <th>Cause of Death</th> <th>Count</th> <th>Location </th>\n",
       "        </tr>\n",
       "    </thead>\n",
       "    <tbody>\n",
       "        <tr>\n",
       "            <td>1999</td> <td>90002   </td> <td>SUI           </td> <td>1    </td> <td>(33.94969, -118.246213) </td>\n",
       "        </tr>\n",
       "        <tr>\n",
       "            <td>1999</td> <td>90005   </td> <td>HOM           </td> <td>1    </td> <td>(34.058508, -118.301197)</td>\n",
       "        </tr>\n",
       "        <tr>\n",
       "            <td>1999</td> <td>90006   </td> <td>ALZ           </td> <td>1    </td> <td>(34.049323, -118.291687)</td>\n",
       "        </tr>\n",
       "        <tr>\n",
       "            <td>1999</td> <td>90007   </td> <td>ALZ           </td> <td>1    </td> <td>(34.029442, -118.287095)</td>\n",
       "        </tr>\n",
       "        <tr>\n",
       "            <td>1999</td> <td>90009   </td> <td>DIA           </td> <td>1    </td> <td>(33.9452, -118.3832)    </td>\n",
       "        </tr>\n",
       "        <tr>\n",
       "            <td>1999</td> <td>90009   </td> <td>LIV           </td> <td>1    </td> <td>(33.9452, -118.3832)    </td>\n",
       "        </tr>\n",
       "        <tr>\n",
       "            <td>1999</td> <td>90009   </td> <td>OTH           </td> <td>1    </td> <td>(33.9452, -118.3832)    </td>\n",
       "        </tr>\n",
       "        <tr>\n",
       "            <td>1999</td> <td>90010   </td> <td>STK           </td> <td>1    </td> <td>(34.060633, -118.302664)</td>\n",
       "        </tr>\n",
       "        <tr>\n",
       "            <td>1999</td> <td>90010   </td> <td>CLD           </td> <td>1    </td> <td>(34.060633, -118.302664)</td>\n",
       "        </tr>\n",
       "        <tr>\n",
       "            <td>1999</td> <td>90010   </td> <td>DIA           </td> <td>1    </td> <td>(34.060633, -118.302664)</td>\n",
       "        </tr>\n",
       "    </tbody>\n",
       "</table>\n",
       "<p>... (320142 rows omitted)</p>"
      ],
      "text/plain": [
       "Year | ZIP Code | Cause of Death | Count | Location\n",
       "1999 | 90002    | SUI            | 1     | (33.94969, -118.246213)\n",
       "1999 | 90005    | HOM            | 1     | (34.058508, -118.301197)\n",
       "1999 | 90006    | ALZ            | 1     | (34.049323, -118.291687)\n",
       "1999 | 90007    | ALZ            | 1     | (34.029442, -118.287095)\n",
       "1999 | 90009    | DIA            | 1     | (33.9452, -118.3832)\n",
       "1999 | 90009    | LIV            | 1     | (33.9452, -118.3832)\n",
       "1999 | 90009    | OTH            | 1     | (33.9452, -118.3832)\n",
       "1999 | 90010    | STK            | 1     | (34.060633, -118.302664)\n",
       "1999 | 90010    | CLD            | 1     | (34.060633, -118.302664)\n",
       "1999 | 90010    | DIA            | 1     | (34.060633, -118.302664)\n",
       "... (320142 rows omitted)"
      ]
     },
     "execution_count": 86,
     "metadata": {},
     "output_type": "execute_result"
    }
   ],
   "source": [
    "causes = Table.read_table('causes_of_death.csv')\n",
    "causes"
   ]
  },
  {
   "cell_type": "code",
   "execution_count": 87,
   "metadata": {},
   "outputs": [
    {
     "data": {
      "text/html": [
       "<table border=\"1\" class=\"dataframe\">\n",
       "    <thead>\n",
       "        <tr>\n",
       "            <th>Year</th> <th>ZIP Code</th> <th>Cause of Death</th> <th>Count</th> <th>Location </th>\n",
       "        </tr>\n",
       "    </thead>\n",
       "    <tbody>\n",
       "        <tr>\n",
       "            <td>1999</td> <td>90009   </td> <td>DIA           </td> <td>1    </td> <td>(33.9452, -118.3832)    </td>\n",
       "        </tr>\n",
       "        <tr>\n",
       "            <td>1999</td> <td>90010   </td> <td>DIA           </td> <td>1    </td> <td>(34.060633, -118.302664)</td>\n",
       "        </tr>\n",
       "        <tr>\n",
       "            <td>1999</td> <td>90014   </td> <td>DIA           </td> <td>1    </td> <td>(34.044272, -118.250937)</td>\n",
       "        </tr>\n",
       "        <tr>\n",
       "            <td>1999</td> <td>90015   </td> <td>DIA           </td> <td>1    </td> <td>(34.043439, -118.271613)</td>\n",
       "        </tr>\n",
       "        <tr>\n",
       "            <td>1999</td> <td>90017   </td> <td>DIA           </td> <td>1    </td> <td>(34.055864, -118.266582)</td>\n",
       "        </tr>\n",
       "        <tr>\n",
       "            <td>1999</td> <td>90049   </td> <td>DIA           </td> <td>1    </td> <td>(34.066, -118.473967)   </td>\n",
       "        </tr>\n",
       "        <tr>\n",
       "            <td>1999</td> <td>90064   </td> <td>DIA           </td> <td>1    </td> <td>(34.035279, -118.425911)</td>\n",
       "        </tr>\n",
       "        <tr>\n",
       "            <td>1999</td> <td>90068   </td> <td>DIA           </td> <td>1    </td> <td>(34.115625, -118.330476)</td>\n",
       "        </tr>\n",
       "        <tr>\n",
       "            <td>1999</td> <td>90077   </td> <td>DIA           </td> <td>1    </td> <td>(34.111245, -118.450155)</td>\n",
       "        </tr>\n",
       "        <tr>\n",
       "            <td>1999</td> <td>90245   </td> <td>DIA           </td> <td>1    </td> <td>(33.924275, -118.411924)</td>\n",
       "        </tr>\n",
       "    </tbody>\n",
       "</table>\n",
       "<p>... (22858 rows omitted)</p>"
      ],
      "text/plain": [
       "Year | ZIP Code | Cause of Death | Count | Location\n",
       "1999 | 90009    | DIA            | 1     | (33.9452, -118.3832)\n",
       "1999 | 90010    | DIA            | 1     | (34.060633, -118.302664)\n",
       "1999 | 90014    | DIA            | 1     | (34.044272, -118.250937)\n",
       "1999 | 90015    | DIA            | 1     | (34.043439, -118.271613)\n",
       "1999 | 90017    | DIA            | 1     | (34.055864, -118.266582)\n",
       "1999 | 90049    | DIA            | 1     | (34.066, -118.473967)\n",
       "1999 | 90064    | DIA            | 1     | (34.035279, -118.425911)\n",
       "1999 | 90068    | DIA            | 1     | (34.115625, -118.330476)\n",
       "1999 | 90077    | DIA            | 1     | (34.111245, -118.450155)\n",
       "1999 | 90245    | DIA            | 1     | (33.924275, -118.411924)\n",
       "... (22858 rows omitted)"
      ]
     },
     "execution_count": 87,
     "metadata": {},
     "output_type": "execute_result"
    }
   ],
   "source": [
    "test=causes.where(\"Cause of Death\", \"DIA\")\n",
    "test\n"
   ]
  },
  {
   "cell_type": "code",
   "execution_count": 88,
   "metadata": {},
   "outputs": [
    {
     "data": {
      "text/html": [
       "<table border=\"1\" class=\"dataframe\">\n",
       "    <thead>\n",
       "        <tr>\n",
       "            <th>Year</th> <th>DIA</th>\n",
       "        </tr>\n",
       "    </thead>\n",
       "    <tbody>\n",
       "        <tr>\n",
       "            <td>1999</td> <td>1515</td>\n",
       "        </tr>\n",
       "        <tr>\n",
       "            <td>2000</td> <td>1519</td>\n",
       "        </tr>\n",
       "        <tr>\n",
       "            <td>2001</td> <td>1523</td>\n",
       "        </tr>\n",
       "        <tr>\n",
       "            <td>2002</td> <td>1537</td>\n",
       "        </tr>\n",
       "        <tr>\n",
       "            <td>2003</td> <td>1529</td>\n",
       "        </tr>\n",
       "        <tr>\n",
       "            <td>2004</td> <td>1515</td>\n",
       "        </tr>\n",
       "        <tr>\n",
       "            <td>2005</td> <td>1529</td>\n",
       "        </tr>\n",
       "        <tr>\n",
       "            <td>2006</td> <td>1529</td>\n",
       "        </tr>\n",
       "        <tr>\n",
       "            <td>2007</td> <td>1532</td>\n",
       "        </tr>\n",
       "        <tr>\n",
       "            <td>2008</td> <td>1537</td>\n",
       "        </tr>\n",
       "    </tbody>\n",
       "</table>\n",
       "<p>... (5 rows omitted)</p>"
      ],
      "text/plain": [
       "Year | DIA\n",
       "1999 | 1515\n",
       "2000 | 1519\n",
       "2001 | 1523\n",
       "2002 | 1537\n",
       "2003 | 1529\n",
       "2004 | 1515\n",
       "2005 | 1529\n",
       "2006 | 1529\n",
       "2007 | 1532\n",
       "2008 | 1537\n",
       "... (5 rows omitted)"
      ]
     },
     "execution_count": 88,
     "metadata": {},
     "output_type": "execute_result"
    }
   ],
   "source": [
    "test.pivot(\"Cause of Death\", \"Year\")"
   ]
  },
  {
   "cell_type": "markdown",
   "metadata": {},
   "source": [
    "The causes of death in the data are abbreviated.  We've provided a table called `abbreviations.csv` to translate the abbreviations."
   ]
  },
  {
   "cell_type": "code",
   "execution_count": 89,
   "metadata": {},
   "outputs": [
    {
     "data": {
      "text/html": [
       "<table border=\"1\" class=\"dataframe\">\n",
       "    <thead>\n",
       "        <tr>\n",
       "            <th>Cause of Death</th> <th>Cause of Death (Full Description)</th>\n",
       "        </tr>\n",
       "    </thead>\n",
       "    <tbody>\n",
       "        <tr>\n",
       "            <td>AID           </td> <td>Acquired Immune Deficiency Syndrome (AIDS)           </td>\n",
       "        </tr>\n",
       "        <tr>\n",
       "            <td>ALZ           </td> <td>Alzheimer's Disease                                  </td>\n",
       "        </tr>\n",
       "        <tr>\n",
       "            <td>CAN           </td> <td>Malignant Neoplasms (Cancers)                        </td>\n",
       "        </tr>\n",
       "        <tr>\n",
       "            <td>CLD           </td> <td>Chronic Lower Respiratory Disease (CLRD)             </td>\n",
       "        </tr>\n",
       "        <tr>\n",
       "            <td>CPD           </td> <td>Chronic Obstructive Pulmonary Disease (COPD)         </td>\n",
       "        </tr>\n",
       "        <tr>\n",
       "            <td>DIA           </td> <td>Diabetes Mellitus                                    </td>\n",
       "        </tr>\n",
       "        <tr>\n",
       "            <td>HIV           </td> <td>Human Immunodeficiency Virus Disease (HIVD)          </td>\n",
       "        </tr>\n",
       "        <tr>\n",
       "            <td>HOM           </td> <td>Homicide                                             </td>\n",
       "        </tr>\n",
       "        <tr>\n",
       "            <td>HTD           </td> <td>Diseases of the Heart                                </td>\n",
       "        </tr>\n",
       "        <tr>\n",
       "            <td>HYP           </td> <td>Essential Hypertension and Hypertensive Renal Disease</td>\n",
       "        </tr>\n",
       "        <tr>\n",
       "            <td>INJ           </td> <td>Unintentional Injuries                               </td>\n",
       "        </tr>\n",
       "        <tr>\n",
       "            <td>LIV           </td> <td>Chronic Liver Disease and Cirrhosis                  </td>\n",
       "        </tr>\n",
       "        <tr>\n",
       "            <td>NEP           </td> <td>Kidney Disease (Nephritis)                           </td>\n",
       "        </tr>\n",
       "        <tr>\n",
       "            <td>OTH           </td> <td>All Other Causes                                     </td>\n",
       "        </tr>\n",
       "        <tr>\n",
       "            <td>PNF           </td> <td>Pneumonia and Influenza                              </td>\n",
       "        </tr>\n",
       "        <tr>\n",
       "            <td>STK           </td> <td>Cerebrovascular Disease (Stroke)                     </td>\n",
       "        </tr>\n",
       "        <tr>\n",
       "            <td>SUI           </td> <td>Intentional Self Harm (Suicide)                      </td>\n",
       "        </tr>\n",
       "    </tbody>\n",
       "</table>"
      ],
      "text/plain": [
       "<IPython.core.display.HTML object>"
      ]
     },
     "metadata": {},
     "output_type": "display_data"
    }
   ],
   "source": [
    "abbreviations = Table.read_table('abbreviations.csv')\n",
    "abbreviations.show()"
   ]
  },
  {
   "cell_type": "markdown",
   "metadata": {},
   "source": [
    "The dataset is missing data on certain causes of death for certain years.  It looks like those causes of death are relatively rare, so for some purposes it makes sense to drop them from consideration.  Of course, we'll have to keep in mind that we're no longer looking at a comprehensive report on all deaths in California.\n",
    "\n",
    "**Question 1.** Let's clean up our data. First, filter out the HOM, HYP, and NEP rows from the table for the reasons described in the above paragraph. Next, join together the abbreviations table and our causes of death table so that we have a more detailed discription of each disease in each row. Lastly, drop the column which contains the acronym of the disease, and rename the column with the full description 'Cause of Death'. Assign the variable `cleaned_causes` to the resulting table. "
   ]
  },
  {
   "cell_type": "code",
   "execution_count": 90,
   "metadata": {
    "for_assignment_type": "student"
   },
   "outputs": [
    {
     "data": {
      "text/html": [
       "<table border=\"1\" class=\"dataframe\">\n",
       "    <thead>\n",
       "        <tr>\n",
       "            <th>Year</th> <th>ZIP Code</th> <th>Count</th> <th>Location </th> <th>Cause of Death</th>\n",
       "        </tr>\n",
       "    </thead>\n",
       "    <tbody>\n",
       "        <tr>\n",
       "            <td>1999</td> <td>90006   </td> <td>1    </td> <td>(34.049323, -118.291687)</td> <td>Alzheimer's Disease</td>\n",
       "        </tr>\n",
       "        <tr>\n",
       "            <td>1999</td> <td>90007   </td> <td>1    </td> <td>(34.029442, -118.287095)</td> <td>Alzheimer's Disease</td>\n",
       "        </tr>\n",
       "        <tr>\n",
       "            <td>1999</td> <td>90012   </td> <td>1    </td> <td>(34.061396, -118.238479)</td> <td>Alzheimer's Disease</td>\n",
       "        </tr>\n",
       "        <tr>\n",
       "            <td>1999</td> <td>90015   </td> <td>1    </td> <td>(34.043439, -118.271613)</td> <td>Alzheimer's Disease</td>\n",
       "        </tr>\n",
       "        <tr>\n",
       "            <td>1999</td> <td>90017   </td> <td>1    </td> <td>(34.055864, -118.266582)</td> <td>Alzheimer's Disease</td>\n",
       "        </tr>\n",
       "        <tr>\n",
       "            <td>1999</td> <td>90020   </td> <td>1    </td> <td>(34.066535, -118.302211)</td> <td>Alzheimer's Disease</td>\n",
       "        </tr>\n",
       "        <tr>\n",
       "            <td>1999</td> <td>90031   </td> <td>1    </td> <td>(34.078349, -118.211279)</td> <td>Alzheimer's Disease</td>\n",
       "        </tr>\n",
       "        <tr>\n",
       "            <td>1999</td> <td>90033   </td> <td>1    </td> <td>(34.048676, -118.208442)</td> <td>Alzheimer's Disease</td>\n",
       "        </tr>\n",
       "        <tr>\n",
       "            <td>1999</td> <td>90042   </td> <td>1    </td> <td>(34.114527, -118.192902)</td> <td>Alzheimer's Disease</td>\n",
       "        </tr>\n",
       "        <tr>\n",
       "            <td>1999</td> <td>90044   </td> <td>1    </td> <td>(33.955089, -118.290119)</td> <td>Alzheimer's Disease</td>\n",
       "        </tr>\n",
       "    </tbody>\n",
       "</table>\n",
       "<p>... (251538 rows omitted)</p>"
      ],
      "text/plain": [
       "Year | ZIP Code | Count | Location                 | Cause of Death\n",
       "1999 | 90006    | 1     | (34.049323, -118.291687) | Alzheimer's Disease\n",
       "1999 | 90007    | 1     | (34.029442, -118.287095) | Alzheimer's Disease\n",
       "1999 | 90012    | 1     | (34.061396, -118.238479) | Alzheimer's Disease\n",
       "1999 | 90015    | 1     | (34.043439, -118.271613) | Alzheimer's Disease\n",
       "1999 | 90017    | 1     | (34.055864, -118.266582) | Alzheimer's Disease\n",
       "1999 | 90020    | 1     | (34.066535, -118.302211) | Alzheimer's Disease\n",
       "1999 | 90031    | 1     | (34.078349, -118.211279) | Alzheimer's Disease\n",
       "1999 | 90033    | 1     | (34.048676, -118.208442) | Alzheimer's Disease\n",
       "1999 | 90042    | 1     | (34.114527, -118.192902) | Alzheimer's Disease\n",
       "1999 | 90044    | 1     | (33.955089, -118.290119) | Alzheimer's Disease\n",
       "... (251538 rows omitted)"
      ]
     },
     "execution_count": 90,
     "metadata": {},
     "output_type": "execute_result"
    }
   ],
   "source": [
    "cleaned_causes = causes.where(\"Cause of Death\", are.not_containing(\"HOM\")).where(\"Cause of Death\", are.not_containing(\"HYP\")).where(\"Cause of Death\", are.not_containing(\"NEP\")).join(\"Cause of Death\", abbreviations, \"Cause of Death\").drop(0).relabeled(4,\"Cause of Death\") \n",
    "cleaned_causes"
   ]
  },
  {
   "cell_type": "markdown",
   "metadata": {},
   "source": [
    "We're going to examine the changes in causes of death over time.  To make a plot of those numbers, we need to have a table with one row per year, and the information about all the causes of death for each year.\n",
    "\n",
    "**Question 2.** Create a table with one row for each year and a column for each kind of death, where each cell contains the number of deaths by that cause in that year. Call the table `cleaned_causes_by_year`."
   ]
  },
  {
   "cell_type": "code",
   "execution_count": 91,
   "metadata": {
    "for_assignment_type": "student"
   },
   "outputs": [
    {
     "data": {
      "text/html": [
       "<table border=\"1\" class=\"dataframe\">\n",
       "    <thead>\n",
       "        <tr>\n",
       "            <th>Year</th> <th>All Other Causes</th> <th>Alzheimer's Disease</th> <th>Cerebrovascular Disease (Stroke)</th> <th>Chronic Liver Disease and Cirrhosis</th> <th>Chronic Lower Respiratory Disease (CLRD)</th> <th>Diabetes Mellitus</th> <th>Diseases of the Heart</th> <th>Intentional Self Harm (Suicide)</th> <th>Malignant Neoplasms (Cancers)</th> <th>Pneumonia and Influenza</th> <th>Unintentional Injuries</th>\n",
       "        </tr>\n",
       "    </thead>\n",
       "    <tbody>\n",
       "        <tr>\n",
       "            <td>1999</td> <td>1515            </td> <td>1515               </td> <td>1515                            </td> <td>1515                               </td> <td>1515                                    </td> <td>1515             </td> <td>1515                 </td> <td>1515                           </td> <td>1515                         </td> <td>1515                   </td> <td>1515                  </td>\n",
       "        </tr>\n",
       "        <tr>\n",
       "            <td>2000</td> <td>1519            </td> <td>1519               </td> <td>1519                            </td> <td>1519                               </td> <td>1519                                    </td> <td>1519             </td> <td>1519                 </td> <td>1519                           </td> <td>1519                         </td> <td>1519                   </td> <td>1519                  </td>\n",
       "        </tr>\n",
       "        <tr>\n",
       "            <td>2001</td> <td>1523            </td> <td>1523               </td> <td>1523                            </td> <td>1523                               </td> <td>1523                                    </td> <td>1523             </td> <td>1523                 </td> <td>1523                           </td> <td>1523                         </td> <td>1523                   </td> <td>1523                  </td>\n",
       "        </tr>\n",
       "        <tr>\n",
       "            <td>2002</td> <td>1537            </td> <td>1537               </td> <td>1537                            </td> <td>1537                               </td> <td>1537                                    </td> <td>1537             </td> <td>1537                 </td> <td>1537                           </td> <td>1537                         </td> <td>1537                   </td> <td>1537                  </td>\n",
       "        </tr>\n",
       "        <tr>\n",
       "            <td>2003</td> <td>1529            </td> <td>1529               </td> <td>1529                            </td> <td>1529                               </td> <td>1529                                    </td> <td>1529             </td> <td>1529                 </td> <td>1529                           </td> <td>1529                         </td> <td>1529                   </td> <td>1529                  </td>\n",
       "        </tr>\n",
       "        <tr>\n",
       "            <td>2004</td> <td>1515            </td> <td>1515               </td> <td>1515                            </td> <td>1515                               </td> <td>1515                                    </td> <td>1515             </td> <td>1515                 </td> <td>1515                           </td> <td>1515                         </td> <td>1515                   </td> <td>1515                  </td>\n",
       "        </tr>\n",
       "        <tr>\n",
       "            <td>2005</td> <td>1529            </td> <td>1529               </td> <td>1529                            </td> <td>1529                               </td> <td>1529                                    </td> <td>1529             </td> <td>1529                 </td> <td>1529                           </td> <td>1529                         </td> <td>1529                   </td> <td>1529                  </td>\n",
       "        </tr>\n",
       "        <tr>\n",
       "            <td>2006</td> <td>1529            </td> <td>1529               </td> <td>1529                            </td> <td>1529                               </td> <td>1529                                    </td> <td>1529             </td> <td>1529                 </td> <td>1529                           </td> <td>1529                         </td> <td>1529                   </td> <td>1529                  </td>\n",
       "        </tr>\n",
       "        <tr>\n",
       "            <td>2007</td> <td>1532            </td> <td>1532               </td> <td>1532                            </td> <td>1532                               </td> <td>1532                                    </td> <td>1532             </td> <td>1532                 </td> <td>1532                           </td> <td>1532                         </td> <td>1532                   </td> <td>1532                  </td>\n",
       "        </tr>\n",
       "        <tr>\n",
       "            <td>2008</td> <td>1537            </td> <td>1537               </td> <td>1537                            </td> <td>1537                               </td> <td>1537                                    </td> <td>1537             </td> <td>1537                 </td> <td>1537                           </td> <td>1537                         </td> <td>1537                   </td> <td>1537                  </td>\n",
       "        </tr>\n",
       "        <tr>\n",
       "            <td>2009</td> <td>1518            </td> <td>1518               </td> <td>1518                            </td> <td>1518                               </td> <td>1518                                    </td> <td>1518             </td> <td>1518                 </td> <td>1518                           </td> <td>1518                         </td> <td>1518                   </td> <td>1518                  </td>\n",
       "        </tr>\n",
       "        <tr>\n",
       "            <td>2010</td> <td>1518            </td> <td>1518               </td> <td>1518                            </td> <td>1518                               </td> <td>1518                                    </td> <td>1518             </td> <td>1518                 </td> <td>1518                           </td> <td>1518                         </td> <td>1518                   </td> <td>1518                  </td>\n",
       "        </tr>\n",
       "        <tr>\n",
       "            <td>2011</td> <td>1509            </td> <td>1509               </td> <td>1509                            </td> <td>1509                               </td> <td>1509                                    </td> <td>1509             </td> <td>1509                 </td> <td>1509                           </td> <td>1509                         </td> <td>1509                   </td> <td>1509                  </td>\n",
       "        </tr>\n",
       "        <tr>\n",
       "            <td>2012</td> <td>1528            </td> <td>1528               </td> <td>1528                            </td> <td>1528                               </td> <td>1528                                    </td> <td>1528             </td> <td>1528                 </td> <td>1528                           </td> <td>1528                         </td> <td>1528                   </td> <td>1528                  </td>\n",
       "        </tr>\n",
       "        <tr>\n",
       "            <td>2013</td> <td>1530            </td> <td>1530               </td> <td>1530                            </td> <td>1530                               </td> <td>1530                                    </td> <td>1530             </td> <td>1530                 </td> <td>1530                           </td> <td>1530                         </td> <td>1530                   </td> <td>1530                  </td>\n",
       "        </tr>\n",
       "    </tbody>\n",
       "</table>"
      ],
      "text/plain": [
       "<IPython.core.display.HTML object>"
      ]
     },
     "metadata": {},
     "output_type": "display_data"
    }
   ],
   "source": [
    "cleaned_causes_by_year = cleaned_causes.pivot(\"Cause of Death\", \"Year\") ##DATA garip duruyor tekrar bak!!\n",
    "cleaned_causes_by_year.show(15)"
   ]
  },
  {
   "cell_type": "markdown",
   "metadata": {},
   "source": [
    "**Question 3.** Make a plot of all the causes of death by year, using your cleaned-up version of the dataset.  There should be a single plot with one line per cause of death.\n",
    "\n",
    "*Hint:* Use the Table method `plot`.  If you pass only a single argument, a line will be made for each of the other columns."
   ]
  },
  {
   "cell_type": "code",
   "execution_count": 92,
   "metadata": {
    "deletable": false,
    "manual_problem_id": "causes_of_death_3"
   },
   "outputs": [
    {
     "data": {
      "image/png": "[encoded data removed]",
      "text/plain": [
       "<Figure size 432x432 with 1 Axes>"
      ]
     },
     "metadata": {},
     "output_type": "display_data"
    }
   ],
   "source": [
    "cleaned_causes_by_year.plot()"
   ]
  },
  {
   "cell_type": "markdown",
   "metadata": {},
   "source": [
    "After seeing the plot above, we would now like to examine the distributions of diseases over the years using percentages. Below, we have assigned `distributions` to a table with all of the same columns, but the raw counts in the cells are replaced by the percentage of the the total number of deaths by a particular disease that happened in that specific year. \n",
    "\n",
    "Try to understand the code below. "
   ]
  },
  {
   "cell_type": "code",
   "execution_count": 93,
   "metadata": {},
   "outputs": [
    {
     "data": {
      "text/html": [
       "<table border=\"1\" class=\"dataframe\">\n",
       "    <thead>\n",
       "        <tr>\n",
       "            <th>Year</th> <th>All Other Causes</th> <th>Alzheimer's Disease</th> <th>Cerebrovascular Disease (Stroke)</th> <th>Chronic Liver Disease and Cirrhosis</th> <th>Chronic Lower Respiratory Disease (CLRD)</th> <th>Diabetes Mellitus</th> <th>Diseases of the Heart</th> <th>Intentional Self Harm (Suicide)</th> <th>Malignant Neoplasms (Cancers)</th> <th>Pneumonia and Influenza</th> <th>Unintentional Injuries</th>\n",
       "        </tr>\n",
       "    </thead>\n",
       "    <tbody>\n",
       "        <tr>\n",
       "            <td>1999</td> <td>6.62            </td> <td>6.62               </td> <td>6.62                            </td> <td>6.62                               </td> <td>6.62                                    </td> <td>6.62             </td> <td>6.62                 </td> <td>6.62                           </td> <td>6.62                         </td> <td>6.62                   </td> <td>6.62                  </td>\n",
       "        </tr>\n",
       "        <tr>\n",
       "            <td>2000</td> <td>6.64            </td> <td>6.64               </td> <td>6.64                            </td> <td>6.64                               </td> <td>6.64                                    </td> <td>6.64             </td> <td>6.64                 </td> <td>6.64                           </td> <td>6.64                         </td> <td>6.64                   </td> <td>6.64                  </td>\n",
       "        </tr>\n",
       "        <tr>\n",
       "            <td>2001</td> <td>6.66            </td> <td>6.66               </td> <td>6.66                            </td> <td>6.66                               </td> <td>6.66                                    </td> <td>6.66             </td> <td>6.66                 </td> <td>6.66                           </td> <td>6.66                         </td> <td>6.66                   </td> <td>6.66                  </td>\n",
       "        </tr>\n",
       "        <tr>\n",
       "            <td>2002</td> <td>6.72            </td> <td>6.72               </td> <td>6.72                            </td> <td>6.72                               </td> <td>6.72                                    </td> <td>6.72             </td> <td>6.72                 </td> <td>6.72                           </td> <td>6.72                         </td> <td>6.72                   </td> <td>6.72                  </td>\n",
       "        </tr>\n",
       "        <tr>\n",
       "            <td>2003</td> <td>6.69            </td> <td>6.69               </td> <td>6.69                            </td> <td>6.69                               </td> <td>6.69                                    </td> <td>6.69             </td> <td>6.69                 </td> <td>6.69                           </td> <td>6.69                         </td> <td>6.69                   </td> <td>6.69                  </td>\n",
       "        </tr>\n",
       "        <tr>\n",
       "            <td>2004</td> <td>6.62            </td> <td>6.62               </td> <td>6.62                            </td> <td>6.62                               </td> <td>6.62                                    </td> <td>6.62             </td> <td>6.62                 </td> <td>6.62                           </td> <td>6.62                         </td> <td>6.62                   </td> <td>6.62                  </td>\n",
       "        </tr>\n",
       "        <tr>\n",
       "            <td>2005</td> <td>6.69            </td> <td>6.69               </td> <td>6.69                            </td> <td>6.69                               </td> <td>6.69                                    </td> <td>6.69             </td> <td>6.69                 </td> <td>6.69                           </td> <td>6.69                         </td> <td>6.69                   </td> <td>6.69                  </td>\n",
       "        </tr>\n",
       "        <tr>\n",
       "            <td>2006</td> <td>6.69            </td> <td>6.69               </td> <td>6.69                            </td> <td>6.69                               </td> <td>6.69                                    </td> <td>6.69             </td> <td>6.69                 </td> <td>6.69                           </td> <td>6.69                         </td> <td>6.69                   </td> <td>6.69                  </td>\n",
       "        </tr>\n",
       "        <tr>\n",
       "            <td>2007</td> <td>6.7             </td> <td>6.7                </td> <td>6.7                             </td> <td>6.7                                </td> <td>6.7                                     </td> <td>6.7              </td> <td>6.7                  </td> <td>6.7                            </td> <td>6.7                          </td> <td>6.7                    </td> <td>6.7                   </td>\n",
       "        </tr>\n",
       "        <tr>\n",
       "            <td>2008</td> <td>6.72            </td> <td>6.72               </td> <td>6.72                            </td> <td>6.72                               </td> <td>6.72                                    </td> <td>6.72             </td> <td>6.72                 </td> <td>6.72                           </td> <td>6.72                         </td> <td>6.72                   </td> <td>6.72                  </td>\n",
       "        </tr>\n",
       "        <tr>\n",
       "            <td>2009</td> <td>6.64            </td> <td>6.64               </td> <td>6.64                            </td> <td>6.64                               </td> <td>6.64                                    </td> <td>6.64             </td> <td>6.64                 </td> <td>6.64                           </td> <td>6.64                         </td> <td>6.64                   </td> <td>6.64                  </td>\n",
       "        </tr>\n",
       "        <tr>\n",
       "            <td>2010</td> <td>6.64            </td> <td>6.64               </td> <td>6.64                            </td> <td>6.64                               </td> <td>6.64                                    </td> <td>6.64             </td> <td>6.64                 </td> <td>6.64                           </td> <td>6.64                         </td> <td>6.64                   </td> <td>6.64                  </td>\n",
       "        </tr>\n",
       "        <tr>\n",
       "            <td>2011</td> <td>6.6             </td> <td>6.6                </td> <td>6.6                             </td> <td>6.6                                </td> <td>6.6                                     </td> <td>6.6              </td> <td>6.6                  </td> <td>6.6                            </td> <td>6.6                          </td> <td>6.6                    </td> <td>6.6                   </td>\n",
       "        </tr>\n",
       "        <tr>\n",
       "            <td>2012</td> <td>6.68            </td> <td>6.68               </td> <td>6.68                            </td> <td>6.68                               </td> <td>6.68                                    </td> <td>6.68             </td> <td>6.68                 </td> <td>6.68                           </td> <td>6.68                         </td> <td>6.68                   </td> <td>6.68                  </td>\n",
       "        </tr>\n",
       "        <tr>\n",
       "            <td>2013</td> <td>6.69            </td> <td>6.69               </td> <td>6.69                            </td> <td>6.69                               </td> <td>6.69                                    </td> <td>6.69             </td> <td>6.69                 </td> <td>6.69                           </td> <td>6.69                         </td> <td>6.69                   </td> <td>6.69                  </td>\n",
       "        </tr>\n",
       "    </tbody>\n",
       "</table>"
      ],
      "text/plain": [
       "<IPython.core.display.HTML object>"
      ]
     },
     "metadata": {},
     "output_type": "display_data"
    }
   ],
   "source": [
    "def percents(array_x):\n",
    "    return np.round( (array_x/sum(array_x))*100, 2)\n",
    "\n",
    "labels = cleaned_causes_by_year.labels\n",
    "distributions = Table().with_columns(labels[0], cleaned_causes_by_year.column(0),\n",
    "                                     labels[1], percents(cleaned_causes_by_year.column(1)),\n",
    "                                     labels[2], percents(cleaned_causes_by_year.column(2)),\n",
    "                                     labels[3], percents(cleaned_causes_by_year.column(3)),\n",
    "                                     labels[4], percents(cleaned_causes_by_year.column(4)),\n",
    "                                     labels[5], percents(cleaned_causes_by_year.column(5)),\n",
    "                                     labels[6], percents(cleaned_causes_by_year.column(6)),\n",
    "                                     labels[7], percents(cleaned_causes_by_year.column(7)),\n",
    "                                     labels[8], percents(cleaned_causes_by_year.column(8)),\n",
    "                                     labels[9], percents(cleaned_causes_by_year.column(9)),\n",
    "                                     labels[10], percents(cleaned_causes_by_year.column(10)),\n",
    "                                     labels[11], percents(cleaned_causes_by_year.column(11)))\n",
    "distributions.show()"
   ]
  },
  {
   "cell_type": "markdown",
   "metadata": {},
   "source": [
    "**Question 4.** What is the sum (roughly) of each of the columns (except the Year column) in the table above? Why does this make sense? "
   ]
  },
  {
   "cell_type": "code",
   "execution_count": 94,
   "metadata": {},
   "outputs": [
    {
     "data": {
      "text/plain": [
       "100.0"
      ]
     },
     "execution_count": 94,
     "metadata": {},
     "output_type": "execute_result"
    }
   ],
   "source": [
    "distributions.column(3).sum()"
   ]
  },
  {
   "cell_type": "markdown",
   "metadata": {
    "deletable": false,
    "manual_problem_id": "causes_of_death_4",
    "scrolled": true
   },
   "source": [
    "we get 100% percent. Because we have the data for the deaths between 1999 and 2013. If we sum all the columns percentage we reach the total of the data which is 100% as a result."
   ]
  },
  {
   "cell_type": "markdown",
   "metadata": {},
   "source": [
    "**Question 5:** We suspect that the larger percentage of stroke-related deaths over the years 1999-2013 happened in the earlier years, while the larger percentage of Chronic Liver Disease-related deaths over this time period occured in the most recent years. Draw a bar chart to display both of the distributions of these diseases over the time period. \n",
    "\n",
    "*Hint:* The relevant column labels are \"Cerebrovascular Disease (Stroke)\" and \"Chronic Liver Disease and Cirrhosis\""
   ]
  },
  {
   "cell_type": "code",
   "execution_count": 95,
   "metadata": {
    "deletable": false,
    "manual_problem_id": "causes_of_death_5"
   },
   "outputs": [
    {
     "data": {
      "text/html": [
       "<table border=\"1\" class=\"dataframe\">\n",
       "    <thead>\n",
       "        <tr>\n",
       "            <th>Year</th> <th>Cerebrovascular Disease (Stroke)</th> <th>Chronic Liver Disease and Cirrhosis</th>\n",
       "        </tr>\n",
       "    </thead>\n",
       "    <tbody>\n",
       "        <tr>\n",
       "            <td>1999</td> <td>6.62                            </td> <td>6.62                               </td>\n",
       "        </tr>\n",
       "        <tr>\n",
       "            <td>2000</td> <td>6.64                            </td> <td>6.64                               </td>\n",
       "        </tr>\n",
       "        <tr>\n",
       "            <td>2001</td> <td>6.66                            </td> <td>6.66                               </td>\n",
       "        </tr>\n",
       "        <tr>\n",
       "            <td>2002</td> <td>6.72                            </td> <td>6.72                               </td>\n",
       "        </tr>\n",
       "        <tr>\n",
       "            <td>2003</td> <td>6.69                            </td> <td>6.69                               </td>\n",
       "        </tr>\n",
       "        <tr>\n",
       "            <td>2004</td> <td>6.62                            </td> <td>6.62                               </td>\n",
       "        </tr>\n",
       "        <tr>\n",
       "            <td>2005</td> <td>6.69                            </td> <td>6.69                               </td>\n",
       "        </tr>\n",
       "        <tr>\n",
       "            <td>2006</td> <td>6.69                            </td> <td>6.69                               </td>\n",
       "        </tr>\n",
       "        <tr>\n",
       "            <td>2007</td> <td>6.7                             </td> <td>6.7                                </td>\n",
       "        </tr>\n",
       "        <tr>\n",
       "            <td>2008</td> <td>6.72                            </td> <td>6.72                               </td>\n",
       "        </tr>\n",
       "    </tbody>\n",
       "</table>\n",
       "<p>... (5 rows omitted)</p>"
      ],
      "text/plain": [
       "Year | Cerebrovascular Disease (Stroke) | Chronic Liver Disease and Cirrhosis\n",
       "1999 | 6.62                             | 6.62\n",
       "2000 | 6.64                             | 6.64\n",
       "2001 | 6.66                             | 6.66\n",
       "2002 | 6.72                             | 6.72\n",
       "2003 | 6.69                             | 6.69\n",
       "2004 | 6.62                             | 6.62\n",
       "2005 | 6.69                             | 6.69\n",
       "2006 | 6.69                             | 6.69\n",
       "2007 | 6.7                              | 6.7\n",
       "2008 | 6.72                             | 6.72\n",
       "... (5 rows omitted)"
      ]
     },
     "execution_count": 95,
     "metadata": {},
     "output_type": "execute_result"
    }
   ],
   "source": [
    "test=distributions.select(\"Year\",\"Cerebrovascular Disease (Stroke)\",\"Chronic Liver Disease and Cirrhosis\")\n",
    "test"
   ]
  },
  {
   "cell_type": "code",
   "execution_count": 96,
   "metadata": {},
   "outputs": [
    {
     "data": {
      "image/png": "[encoded data removed]",
      "text/plain": [
       "<Figure size 432x288 with 1 Axes>"
      ]
     },
     "metadata": {},
     "output_type": "display_data"
    },
    {
     "data": {
      "image/png": "[encoded data removed]",
      "text/plain": [
       "<Figure size 432x288 with 1 Axes>"
      ]
     },
     "metadata": {},
     "output_type": "display_data"
    }
   ],
   "source": [
    "test.bar(0,1)\n",
    "test.bar(0,2)"
   ]
  },
  {
   "cell_type": "markdown",
   "metadata": {
    "collapsed": true
   },
   "source": [
    "Congratulations! You have completed Homework 4! Please make sure you run all the cells before submitting your notebook."
   ]
  }
 ],
 "metadata": {
  "kernelspec": {
   "display_name": "Python 3",
   "language": "python",
   "name": "python3"
  },
  "language_info": {
   "codemirror_mode": {
    "name": "ipython",
    "version": 3
   },
   "file_extension": ".py",
   "mimetype": "text/x-python",
   "name": "python",
   "nbconvert_exporter": "python",
   "pygments_lexer": "ipython3",
   "version": "3.8.3"
  }
 },
 "nbformat": 4,
 "nbformat_minor": 1
}
