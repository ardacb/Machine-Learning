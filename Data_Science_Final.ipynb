{
 "cells": [
  {
   "cell_type": "markdown",
   "metadata": {},
   "source": [
    "# SEC 210  Final Exam - Fall 2020"
   ]
  },
  {
   "cell_type": "markdown",
   "metadata": {},
   "source": [
    "### INSTRUCTIONS\n",
    "- The exam is worth 100 points. You have until 5:30 pm tomorrow to complete and submit your exam via LMS.\n",
    "- The exam is open book,  open notes, open computer/internet, however sharing your notebook or code with your friends or discussing the answers with others is not allowed.\n",
    "- You may email any clarification questions you have to me.\n",
    "- Do not use features of the Python language that have not been described in this course.\n",
    "- In any part, you are free to use any tables, arrays, or functions that have been defined in previous parts of the same question.\n",
    "- When writing code develop your answers incrementally. To perform a complicated table manipulation, break it up into steps, perform each step on a different line, give a new name to each result, and check that each intermediate result is what you expect. You can add any additional names or functions you want to the provided cells. \n",
    "- Please make sure you run all the code before submission."
   ]
  },
  {
   "cell_type": "code",
   "execution_count": 1,
   "metadata": {},
   "outputs": [],
   "source": [
    "from datascience import *\n",
    "import numpy as np\n",
    "\n",
    "%matplotlib inline\n",
    "import matplotlib.pyplot as plots\n",
    "plots.style.use('fivethirtyeight')"
   ]
  },
  {
   "cell_type": "markdown",
   "metadata": {},
   "source": [
    "### 1. NBA Salaries (12 points) \n",
    "Run the ode in the following cell to read and review the NBA salaries data we used in our lecture before."
   ]
  },
  {
   "cell_type": "code",
   "execution_count": 2,
   "metadata": {},
   "outputs": [
    {
     "data": {
      "text/html": [
       "<table border=\"1\" class=\"dataframe\">\n",
       "    <thead>\n",
       "        <tr>\n",
       "            <th>PLAYER</th> <th>POSITION</th> <th>TEAM</th> <th>'15-'16 SALARY</th>\n",
       "        </tr>\n",
       "    </thead>\n",
       "    <tbody>\n",
       "        <tr>\n",
       "            <td>Paul Millsap    </td> <td>PF      </td> <td>Atlanta Hawks</td> <td>18.6717       </td>\n",
       "        </tr>\n",
       "        <tr>\n",
       "            <td>Al Horford      </td> <td>C       </td> <td>Atlanta Hawks</td> <td>12            </td>\n",
       "        </tr>\n",
       "        <tr>\n",
       "            <td>Tiago Splitter  </td> <td>C       </td> <td>Atlanta Hawks</td> <td>9.75625       </td>\n",
       "        </tr>\n",
       "        <tr>\n",
       "            <td>Jeff Teague     </td> <td>PG      </td> <td>Atlanta Hawks</td> <td>8             </td>\n",
       "        </tr>\n",
       "        <tr>\n",
       "            <td>Kyle Korver     </td> <td>SG      </td> <td>Atlanta Hawks</td> <td>5.74648       </td>\n",
       "        </tr>\n",
       "        <tr>\n",
       "            <td>Thabo Sefolosha </td> <td>SF      </td> <td>Atlanta Hawks</td> <td>4             </td>\n",
       "        </tr>\n",
       "        <tr>\n",
       "            <td>Mike Scott      </td> <td>PF      </td> <td>Atlanta Hawks</td> <td>3.33333       </td>\n",
       "        </tr>\n",
       "        <tr>\n",
       "            <td>Kent Bazemore   </td> <td>SF      </td> <td>Atlanta Hawks</td> <td>2             </td>\n",
       "        </tr>\n",
       "        <tr>\n",
       "            <td>Dennis Schroder </td> <td>PG      </td> <td>Atlanta Hawks</td> <td>1.7634        </td>\n",
       "        </tr>\n",
       "        <tr>\n",
       "            <td>Tim Hardaway Jr.</td> <td>SG      </td> <td>Atlanta Hawks</td> <td>1.30452       </td>\n",
       "        </tr>\n",
       "    </tbody>\n",
       "</table>\n",
       "<p>... (407 rows omitted)</p>"
      ],
      "text/plain": [
       "<IPython.core.display.HTML object>"
      ]
     },
     "metadata": {},
     "output_type": "display_data"
    }
   ],
   "source": [
    "salaries = Table.read_table('nba_salaries.csv')\n",
    "salaries.show(10)"
   ]
  },
  {
   "cell_type": "markdown",
   "metadata": {},
   "source": [
    "**Question 1** What is the total salary paid to all players? "
   ]
  },
  {
   "cell_type": "code",
   "execution_count": 14,
   "metadata": {},
   "outputs": [
    {
     "data": {
      "text/plain": [
       "2116.197639"
      ]
     },
     "execution_count": 14,
     "metadata": {},
     "output_type": "execute_result"
    }
   ],
   "source": [
    "total_salary = salaries.column(3).sum()\n",
    "total_salary"
   ]
  },
  {
   "cell_type": "markdown",
   "metadata": {},
   "source": [
    "**Question 2.** Display the center players (players whose`POSITION` is equivalent to C) who earn more than one million dollars. "
   ]
  },
  {
   "cell_type": "code",
   "execution_count": 24,
   "metadata": {},
   "outputs": [
    {
     "data": {
      "text/html": [
       "<table border=\"1\" class=\"dataframe\">\n",
       "    <thead>\n",
       "        <tr>\n",
       "            <th>PLAYER</th> <th>POSITION</th> <th>TEAM</th> <th>'15-'16 SALARY</th>\n",
       "        </tr>\n",
       "    </thead>\n",
       "    <tbody>\n",
       "        <tr>\n",
       "            <td>Al Horford        </td> <td>C       </td> <td>Atlanta Hawks    </td> <td>12            </td>\n",
       "        </tr>\n",
       "        <tr>\n",
       "            <td>Tiago Splitter    </td> <td>C       </td> <td>Atlanta Hawks    </td> <td>9.75625       </td>\n",
       "        </tr>\n",
       "        <tr>\n",
       "            <td>Tyler Zeller      </td> <td>C       </td> <td>Boston Celtics   </td> <td>2.61698       </td>\n",
       "        </tr>\n",
       "        <tr>\n",
       "            <td>Jared Sullinger   </td> <td>C       </td> <td>Boston Celtics   </td> <td>2.56926       </td>\n",
       "        </tr>\n",
       "        <tr>\n",
       "            <td>Kelly Olynyk      </td> <td>C       </td> <td>Boston Celtics   </td> <td>2.16516       </td>\n",
       "        </tr>\n",
       "        <tr>\n",
       "            <td>Andrea Bargnani   </td> <td>C       </td> <td>Brooklyn Nets    </td> <td>1.3629        </td>\n",
       "        </tr>\n",
       "        <tr>\n",
       "            <td>Al Jefferson      </td> <td>C       </td> <td>Charlotte Hornets</td> <td>13.5          </td>\n",
       "        </tr>\n",
       "        <tr>\n",
       "            <td>Cody Zeller       </td> <td>C       </td> <td>Charlotte Hornets</td> <td>4.2042        </td>\n",
       "        </tr>\n",
       "        <tr>\n",
       "            <td>Frank Kaminsky III</td> <td>C       </td> <td>Charlotte Hornets</td> <td>2.61252       </td>\n",
       "        </tr>\n",
       "        <tr>\n",
       "            <td>Joakim Noah       </td> <td>C       </td> <td>Chicago Bulls    </td> <td>13.4          </td>\n",
       "        </tr>\n",
       "    </tbody>\n",
       "</table>\n",
       "<p>... (54 rows omitted)</p>"
      ],
      "text/plain": [
       "PLAYER             | POSITION | TEAM              | '15-'16 SALARY\n",
       "Al Horford         | C        | Atlanta Hawks     | 12\n",
       "Tiago Splitter     | C        | Atlanta Hawks     | 9.75625\n",
       "Tyler Zeller       | C        | Boston Celtics    | 2.61698\n",
       "Jared Sullinger    | C        | Boston Celtics    | 2.56926\n",
       "Kelly Olynyk       | C        | Boston Celtics    | 2.16516\n",
       "Andrea Bargnani    | C        | Brooklyn Nets     | 1.3629\n",
       "Al Jefferson       | C        | Charlotte Hornets | 13.5\n",
       "Cody Zeller        | C        | Charlotte Hornets | 4.2042\n",
       "Frank Kaminsky III | C        | Charlotte Hornets | 2.61252\n",
       "Joakim Noah        | C        | Chicago Bulls     | 13.4\n",
       "... (54 rows omitted)"
      ]
     },
     "execution_count": 24,
     "metadata": {},
     "output_type": "execute_result"
    }
   ],
   "source": [
    "centers = salaries.where(1,\"C\").where(3, are.above(1))\n",
    "centers"
   ]
  },
  {
   "cell_type": "markdown",
   "metadata": {},
   "source": [
    "**Question 3.** Which team does the highest paid player play in?"
   ]
  },
  {
   "cell_type": "code",
   "execution_count": 30,
   "metadata": {},
   "outputs": [
    {
     "data": {
      "text/plain": [
       "'Los Angeles Lakers'"
      ]
     },
     "execution_count": 30,
     "metadata": {},
     "output_type": "execute_result"
    }
   ],
   "source": [
    "team_name = salaries.sort(3,descending=True).column(\"TEAM\").take(0)\n",
    "team_name"
   ]
  },
  {
   "cell_type": "markdown",
   "metadata": {},
   "source": [
    "**Question 4.** What is the total salary paid to players in each team? "
   ]
  },
  {
   "cell_type": "code",
   "execution_count": 45,
   "metadata": {},
   "outputs": [
    {
     "data": {
      "text/html": [
       "<table border=\"1\" class=\"dataframe\">\n",
       "    <thead>\n",
       "        <tr>\n",
       "            <th>TEAM</th> <th>'15-'16 SALARY sum</th>\n",
       "        </tr>\n",
       "    </thead>\n",
       "    <tbody>\n",
       "        <tr>\n",
       "            <td>Atlanta Hawks        </td> <td>69.5731           </td>\n",
       "        </tr>\n",
       "        <tr>\n",
       "            <td>Boston Celtics       </td> <td>50.2855           </td>\n",
       "        </tr>\n",
       "        <tr>\n",
       "            <td>Brooklyn Nets        </td> <td>57.307            </td>\n",
       "        </tr>\n",
       "        <tr>\n",
       "            <td>Charlotte Hornets    </td> <td>84.1024           </td>\n",
       "        </tr>\n",
       "        <tr>\n",
       "            <td>Chicago Bulls        </td> <td>78.8209           </td>\n",
       "        </tr>\n",
       "        <tr>\n",
       "            <td>Cleveland Cavaliers  </td> <td>102.312           </td>\n",
       "        </tr>\n",
       "        <tr>\n",
       "            <td>Dallas Mavericks     </td> <td>65.7626           </td>\n",
       "        </tr>\n",
       "        <tr>\n",
       "            <td>Denver Nuggets       </td> <td>62.4294           </td>\n",
       "        </tr>\n",
       "        <tr>\n",
       "            <td>Detroit Pistons      </td> <td>42.2118           </td>\n",
       "        </tr>\n",
       "        <tr>\n",
       "            <td>Golden State Warriors</td> <td>94.0851           </td>\n",
       "        </tr>\n",
       "    </tbody>\n",
       "</table>\n",
       "<p>... (20 rows omitted)</p>"
      ],
      "text/plain": [
       "TEAM                  | '15-'16 SALARY sum\n",
       "Atlanta Hawks         | 69.5731\n",
       "Boston Celtics        | 50.2855\n",
       "Brooklyn Nets         | 57.307\n",
       "Charlotte Hornets     | 84.1024\n",
       "Chicago Bulls         | 78.8209\n",
       "Cleveland Cavaliers   | 102.312\n",
       "Dallas Mavericks      | 65.7626\n",
       "Denver Nuggets        | 62.4294\n",
       "Detroit Pistons       | 42.2118\n",
       "Golden State Warriors | 94.0851\n",
       "... (20 rows omitted)"
      ]
     },
     "execution_count": 45,
     "metadata": {},
     "output_type": "execute_result"
    }
   ],
   "source": [
    "total_salary_per_team = salaries.select(2,3).group(0,sum)\n",
    "total_salary_per_team"
   ]
  },
  {
   "cell_type": "markdown",
   "metadata": {},
   "source": [
    "**Question 5.** Create a new table that contains the highest paid 10 players and assign it to `top_10`. Add a new column to the table `top_10` labeled `SALARY SHARE` that contains the share of the player's salary among all player salaries."
   ]
  },
  {
   "cell_type": "code",
   "execution_count": 47,
   "metadata": {},
   "outputs": [
    {
     "data": {
      "text/html": [
       "<table border=\"1\" class=\"dataframe\">\n",
       "    <thead>\n",
       "        <tr>\n",
       "            <th>PLAYER</th> <th>POSITION</th> <th>TEAM</th> <th>'15-'16 SALARY</th>\n",
       "        </tr>\n",
       "    </thead>\n",
       "    <tbody>\n",
       "        <tr>\n",
       "            <td>Kobe Bryant    </td> <td>SF      </td> <td>Los Angeles Lakers   </td> <td>25            </td>\n",
       "        </tr>\n",
       "        <tr>\n",
       "            <td>Joe Johnson    </td> <td>SF      </td> <td>Brooklyn Nets        </td> <td>24.8949       </td>\n",
       "        </tr>\n",
       "        <tr>\n",
       "            <td>LeBron James   </td> <td>SF      </td> <td>Cleveland Cavaliers  </td> <td>22.9705       </td>\n",
       "        </tr>\n",
       "        <tr>\n",
       "            <td>Carmelo Anthony</td> <td>SF      </td> <td>New York Knicks      </td> <td>22.875        </td>\n",
       "        </tr>\n",
       "        <tr>\n",
       "            <td>Dwight Howard  </td> <td>C       </td> <td>Houston Rockets      </td> <td>22.3594       </td>\n",
       "        </tr>\n",
       "        <tr>\n",
       "            <td>Chris Bosh     </td> <td>PF      </td> <td>Miami Heat           </td> <td>22.1927       </td>\n",
       "        </tr>\n",
       "        <tr>\n",
       "            <td>Chris Paul     </td> <td>PG      </td> <td>Los Angeles Clippers </td> <td>21.4687       </td>\n",
       "        </tr>\n",
       "        <tr>\n",
       "            <td>Kevin Durant   </td> <td>SF      </td> <td>Oklahoma City Thunder</td> <td>20.1586       </td>\n",
       "        </tr>\n",
       "        <tr>\n",
       "            <td>Derrick Rose   </td> <td>PG      </td> <td>Chicago Bulls        </td> <td>20.0931       </td>\n",
       "        </tr>\n",
       "        <tr>\n",
       "            <td>Dwyane Wade    </td> <td>SG      </td> <td>Miami Heat           </td> <td>20            </td>\n",
       "        </tr>\n",
       "    </tbody>\n",
       "</table>"
      ],
      "text/plain": [
       "PLAYER          | POSITION | TEAM                  | '15-'16 SALARY\n",
       "Kobe Bryant     | SF       | Los Angeles Lakers    | 25\n",
       "Joe Johnson     | SF       | Brooklyn Nets         | 24.8949\n",
       "LeBron James    | SF       | Cleveland Cavaliers   | 22.9705\n",
       "Carmelo Anthony | SF       | New York Knicks       | 22.875\n",
       "Dwight Howard   | C        | Houston Rockets       | 22.3594\n",
       "Chris Bosh      | PF       | Miami Heat            | 22.1927\n",
       "Chris Paul      | PG       | Los Angeles Clippers  | 21.4687\n",
       "Kevin Durant    | SF       | Oklahoma City Thunder | 20.1586\n",
       "Derrick Rose    | PG       | Chicago Bulls         | 20.0931\n",
       "Dwyane Wade     | SG       | Miami Heat            | 20"
      ]
     },
     "execution_count": 47,
     "metadata": {},
     "output_type": "execute_result"
    }
   ],
   "source": [
    "my_table=salaries.sort(3,descending=True).take(np.arange(10))\n",
    "my_table"
   ]
  },
  {
   "cell_type": "code",
   "execution_count": 65,
   "metadata": {},
   "outputs": [
    {
     "data": {
      "text/html": [
       "<table border=\"1\" class=\"dataframe\">\n",
       "    <thead>\n",
       "        <tr>\n",
       "            <th>PLAYER</th> <th>POSITION</th> <th>TEAM</th> <th>'15-'16 SALARY</th> <th>SALARY SHARE</th>\n",
       "        </tr>\n",
       "    </thead>\n",
       "    <tbody>\n",
       "        <tr>\n",
       "            <td>Kobe Bryant    </td> <td>SF      </td> <td>Los Angeles Lakers   </td> <td>25            </td> <td>1.18%       </td>\n",
       "        </tr>\n",
       "        <tr>\n",
       "            <td>Joe Johnson    </td> <td>SF      </td> <td>Brooklyn Nets        </td> <td>24.8949       </td> <td>1.18%       </td>\n",
       "        </tr>\n",
       "        <tr>\n",
       "            <td>LeBron James   </td> <td>SF      </td> <td>Cleveland Cavaliers  </td> <td>22.9705       </td> <td>1.09%       </td>\n",
       "        </tr>\n",
       "        <tr>\n",
       "            <td>Carmelo Anthony</td> <td>SF      </td> <td>New York Knicks      </td> <td>22.875        </td> <td>1.08%       </td>\n",
       "        </tr>\n",
       "        <tr>\n",
       "            <td>Dwight Howard  </td> <td>C       </td> <td>Houston Rockets      </td> <td>22.3594       </td> <td>1.06%       </td>\n",
       "        </tr>\n",
       "        <tr>\n",
       "            <td>Chris Bosh     </td> <td>PF      </td> <td>Miami Heat           </td> <td>22.1927       </td> <td>1.05%       </td>\n",
       "        </tr>\n",
       "        <tr>\n",
       "            <td>Chris Paul     </td> <td>PG      </td> <td>Los Angeles Clippers </td> <td>21.4687       </td> <td>1.01%       </td>\n",
       "        </tr>\n",
       "        <tr>\n",
       "            <td>Kevin Durant   </td> <td>SF      </td> <td>Oklahoma City Thunder</td> <td>20.1586       </td> <td>0.95%       </td>\n",
       "        </tr>\n",
       "        <tr>\n",
       "            <td>Derrick Rose   </td> <td>PG      </td> <td>Chicago Bulls        </td> <td>20.0931       </td> <td>0.95%       </td>\n",
       "        </tr>\n",
       "        <tr>\n",
       "            <td>Dwyane Wade    </td> <td>SG      </td> <td>Miami Heat           </td> <td>20            </td> <td>0.95%       </td>\n",
       "        </tr>\n",
       "    </tbody>\n",
       "</table>"
      ],
      "text/plain": [
       "PLAYER          | POSITION | TEAM                  | '15-'16 SALARY | SALARY SHARE\n",
       "Kobe Bryant     | SF       | Los Angeles Lakers    | 25             | 1.18%\n",
       "Joe Johnson     | SF       | Brooklyn Nets         | 24.8949        | 1.18%\n",
       "LeBron James    | SF       | Cleveland Cavaliers   | 22.9705        | 1.09%\n",
       "Carmelo Anthony | SF       | New York Knicks       | 22.875         | 1.08%\n",
       "Dwight Howard   | C        | Houston Rockets       | 22.3594        | 1.06%\n",
       "Chris Bosh      | PF       | Miami Heat            | 22.1927        | 1.05%\n",
       "Chris Paul      | PG       | Los Angeles Clippers  | 21.4687        | 1.01%\n",
       "Kevin Durant    | SF       | Oklahoma City Thunder | 20.1586        | 0.95%\n",
       "Derrick Rose    | PG       | Chicago Bulls         | 20.0931        | 0.95%\n",
       "Dwyane Wade     | SG       | Miami Heat            | 20             | 0.95%"
      ]
     },
     "execution_count": 65,
     "metadata": {},
     "output_type": "execute_result"
    }
   ],
   "source": [
    "top_10 = my_table.with_column(\"SALARY SHARE\", my_table.column(3)/total_salary)\n",
    "top_10.set_format(4,PercentFormatter)\n",
    "top_10"
   ]
  },
  {
   "cell_type": "markdown",
   "metadata": {},
   "source": [
    "**Question 6.**  Create a new table `average_salaries` that has one row for each team and has one column for each position and displays the average salary that is paid to the players in each position in each team."
   ]
  },
  {
   "cell_type": "code",
   "execution_count": 62,
   "metadata": {},
   "outputs": [
    {
     "data": {
      "text/html": [
       "<table border=\"1\" class=\"dataframe\">\n",
       "    <thead>\n",
       "        <tr>\n",
       "            <th>PLAYER</th> <th>POSITION</th> <th>TEAM</th> <th>'15-'16 SALARY</th>\n",
       "        </tr>\n",
       "    </thead>\n",
       "    <tbody>\n",
       "        <tr>\n",
       "            <td>Al Horford    </td> <td>C       </td> <td>Atlanta Hawks</td> <td>12            </td>\n",
       "        </tr>\n",
       "        <tr>\n",
       "            <td>Tiago Splitter</td> <td>C       </td> <td>Atlanta Hawks</td> <td>9.75625       </td>\n",
       "        </tr>\n",
       "        <tr>\n",
       "            <td>Walter Tavares</td> <td>C       </td> <td>Atlanta Hawks</td> <td>1             </td>\n",
       "        </tr>\n",
       "    </tbody>\n",
       "</table>"
      ],
      "text/plain": [
       "PLAYER         | POSITION | TEAM          | '15-'16 SALARY\n",
       "Al Horford     | C        | Atlanta Hawks | 12\n",
       "Tiago Splitter | C        | Atlanta Hawks | 9.75625\n",
       "Walter Tavares | C        | Atlanta Hawks | 1"
      ]
     },
     "execution_count": 62,
     "metadata": {},
     "output_type": "execute_result"
    }
   ],
   "source": [
    "testt=salaries.where(2,\"Atlanta Hawks\").where(1,\"C\")\n",
    "testt"
   ]
  },
  {
   "cell_type": "code",
   "execution_count": 63,
   "metadata": {},
   "outputs": [
    {
     "data": {
      "text/html": [
       "<table border=\"1\" class=\"dataframe\">\n",
       "    <thead>\n",
       "        <tr>\n",
       "            <th>TEAM</th> <th>POSITION</th> <th>'15-'16 SALARY mean</th>\n",
       "        </tr>\n",
       "    </thead>\n",
       "    <tbody>\n",
       "        <tr>\n",
       "            <td>Atlanta Hawks </td> <td>C       </td> <td>7.58542            </td>\n",
       "        </tr>\n",
       "        <tr>\n",
       "            <td>Atlanta Hawks </td> <td>PF      </td> <td>11.0025            </td>\n",
       "        </tr>\n",
       "        <tr>\n",
       "            <td>Atlanta Hawks </td> <td>PG      </td> <td>4.8817             </td>\n",
       "        </tr>\n",
       "        <tr>\n",
       "            <td>Atlanta Hawks </td> <td>SF      </td> <td>3                  </td>\n",
       "        </tr>\n",
       "        <tr>\n",
       "            <td>Atlanta Hawks </td> <td>SG      </td> <td>1.80969            </td>\n",
       "        </tr>\n",
       "        <tr>\n",
       "            <td>Boston Celtics</td> <td>C       </td> <td>2.45046            </td>\n",
       "        </tr>\n",
       "        <tr>\n",
       "            <td>Boston Celtics</td> <td>PF      </td> <td>3.08548            </td>\n",
       "        </tr>\n",
       "        <tr>\n",
       "            <td>Boston Celtics</td> <td>PG      </td> <td>4.97465            </td>\n",
       "        </tr>\n",
       "        <tr>\n",
       "            <td>Boston Celtics</td> <td>SF      </td> <td>4.41716            </td>\n",
       "        </tr>\n",
       "        <tr>\n",
       "            <td>Boston Celtics</td> <td>SG      </td> <td>2.00755            </td>\n",
       "        </tr>\n",
       "    </tbody>\n",
       "</table>\n",
       "<p>... (137 rows omitted)</p>"
      ],
      "text/plain": [
       "TEAM           | POSITION | '15-'16 SALARY mean\n",
       "Atlanta Hawks  | C        | 7.58542\n",
       "Atlanta Hawks  | PF       | 11.0025\n",
       "Atlanta Hawks  | PG       | 4.8817\n",
       "Atlanta Hawks  | SF       | 3\n",
       "Atlanta Hawks  | SG       | 1.80969\n",
       "Boston Celtics | C        | 2.45046\n",
       "Boston Celtics | PF       | 3.08548\n",
       "Boston Celtics | PG       | 4.97465\n",
       "Boston Celtics | SF       | 4.41716\n",
       "Boston Celtics | SG       | 2.00755\n",
       "... (137 rows omitted)"
      ]
     },
     "execution_count": 63,
     "metadata": {},
     "output_type": "execute_result"
    }
   ],
   "source": [
    "average_salaries = salaries.select(2,1,3).group([0,1],np.mean)\n",
    "average_salaries"
   ]
  },
  {
   "cell_type": "markdown",
   "metadata": {},
   "source": [
    "### 2. Histogram (10 points)\n",
    "500 women age 25 to 49 in steady relationships were surveyed. Each woman was asked her age in years and\n",
    "whether she was married to her partner. There were 400 unmarried and 100 married women among those\n",
    "surveyed. The histograms below visualize the ages of these two groups of women."
   ]
  },
  {
   "attachments": {
    "ages.PNG": {
     "image/png": "[encoded data removed]"
    }
   },
   "cell_type": "markdown",
   "metadata": {},
   "source": [
    "![ages.PNG](attachment:ages.PNG)"
   ]
  },
  {
   "cell_type": "markdown",
   "metadata": {},
   "source": [
    "**Question 1.** For each pair of quantities, compare them using the information above and choose one of following:\n",
    "\n",
    "    (A): (I) is larger.\n",
    "\n",
    "    (B): (II) is larger.\n",
    "\n",
    "    (C): (I) and (II) are about the same.\n",
    "\n",
    "    (D): There is not enough information to compare (I) and (II).\n",
    "\n",
    "*** You must briefly justify your answer to receive full credit. ***"
   ]
  },
  {
   "cell_type": "markdown",
   "metadata": {},
   "source": [
    "**Question 1.a.** (I) The number of unmarried women age 25-29 vs (II) The number of unmarried women age 30-39"
   ]
  },
  {
   "cell_type": "markdown",
   "metadata": {},
   "source": [
    "A)\n",
    "number of unmarried 25-29= 400*(30.5%)= 122\n",
    "number of unmarried 30-39 = 400*(30%)=120"
   ]
  },
  {
   "cell_type": "markdown",
   "metadata": {},
   "source": [
    "**Question 1.b.** (I) Among the unmarried women, the proportion who are of age 25-29 vs (II) Among the married women, the proportion who are of age 45-49"
   ]
  },
  {
   "cell_type": "markdown",
   "metadata": {},
   "source": [
    "A)\n",
    "proportion of unmarried 25-29= (6.1*5)%=30.5%\n",
    "proportion of married 45-49= (5*5)%= 25%"
   ]
  },
  {
   "cell_type": "markdown",
   "metadata": {},
   "source": [
    "**Question 1.c.** (I) The number of unmarried women age 30-39 vs \n",
    "(II) The number of married women"
   ]
  },
  {
   "cell_type": "markdown",
   "metadata": {},
   "source": [
    "A) \n",
    "the number of unmarried 30-39 = 400*30%= 120\n",
    "the number of married women= 100"
   ]
  },
  {
   "cell_type": "markdown",
   "metadata": {},
   "source": [
    "**Question 1.d.** (I) The 20th percentile age of unmarried women vs (II) The 20th percentile age of married women"
   ]
  },
  {
   "cell_type": "markdown",
   "metadata": {},
   "source": [
    "B) \n",
    "20th percentile age of unmarried women falls between(25 and 30)\n",
    "20th percentile age of married woman falls between(30 and 35).\n",
    "2nd range is always larger than first range"
   ]
  },
  {
   "cell_type": "markdown",
   "metadata": {},
   "source": [
    "**Question 1.e.** (I) The proportion of married women age 30-34 vs \n",
    "(II) The proportion of married women age 35-39"
   ]
  },
  {
   "cell_type": "markdown",
   "metadata": {},
   "source": [
    "C)\n",
    "The proportion of married women age 30-34=(4*5)%= 20%\n",
    "The proportion of married women age 35-39=(4*5)%= 20%"
   ]
  },
  {
   "cell_type": "markdown",
   "metadata": {},
   "source": [
    "**Question 2.** What proportion of everyone surveyed were in the age range 30-39?"
   ]
  },
  {
   "cell_type": "markdown",
   "metadata": {},
   "source": [
    "number of unmarried between 30-39= 30%*400= 120\n",
    "number of married between 30-39= 40%*100 = 40\n",
    "(120+40)/500= 32%\n"
   ]
  },
  {
   "cell_type": "markdown",
   "metadata": {},
   "source": [
    "**Question 3.** If you select a woman uniformly at random from those surveyed and find out that her age is in\n",
    "the range 30-39, what is the chance that she is married?"
   ]
  },
  {
   "cell_type": "markdown",
   "metadata": {},
   "source": [
    "number of unmarried 30-39= 120\n",
    "number of married 30-39 = 40\n",
    "chance that she is married is 40/160 = 1/4 or 25%"
   ]
  },
  {
   "cell_type": "markdown",
   "metadata": {},
   "source": [
    "### 3. Probability (10 points) \n",
    "A basket contains 10 colored balls: 3 red, 2 green, 4 yellow, and 1 blue ball. \n",
    "\n",
    "In each part below write a mathematical expression that evaluates to the probability described. You do not need to simplify any arithmetic. \n"
   ]
  },
  {
   "cell_type": "markdown",
   "metadata": {},
   "source": [
    "**Question 1** When you draw three balls **without replacement**, what is the probability that all of them are red?"
   ]
  },
  {
   "cell_type": "markdown",
   "metadata": {},
   "source": [
    "(3/10)*(2/9)*(1/8)"
   ]
  },
  {
   "cell_type": "markdown",
   "metadata": {},
   "source": [
    "**Question 2** When you draw two balls **without replacement**, what is the probability that the first ball is yellow and the second ball is red?"
   ]
  },
  {
   "cell_type": "markdown",
   "metadata": {},
   "source": [
    "(4/10)*(3/9)"
   ]
  },
  {
   "cell_type": "markdown",
   "metadata": {},
   "source": [
    "**Question 3** When you draw three balls **with replacement**, What is the probability that you get a yellow ball each time?"
   ]
  },
  {
   "cell_type": "markdown",
   "metadata": {},
   "source": [
    "(4/10)^3"
   ]
  },
  {
   "cell_type": "markdown",
   "metadata": {},
   "source": [
    "**Question 4** When you draw four balls **with replacement**, What is the probability that you do not get either a red ball or blue ball?"
   ]
  },
  {
   "cell_type": "markdown",
   "metadata": {},
   "source": [
    "4 yellow = (4/10)^4\n",
    "4 green= 0\n",
    "3 yellow 1 green= (4/10)^3 * (2/10)\n",
    "3 green 1 yellow= 0\n",
    "2 green 2 yellow= (2/10)^2 * (4/10)^2\n",
    "\n",
    "(4/10)^4 +((4/10)^3 * (2/10)) + ((2/10)^2 * (4/10)^2)"
   ]
  },
  {
   "cell_type": "markdown",
   "metadata": {},
   "source": [
    "### 4. Causes of Deaths (10 points) \n",
    "In the following section, first  you will investigate the major causes of death in the world during the past century (from 1900 to 2015).Then, you will look at data from the Framingham Heart Study, an observational study into cardiovascular health."
   ]
  },
  {
   "cell_type": "markdown",
   "metadata": {},
   "source": [
    "Run the following cell to read in and view the `causes_of_death` table, which documents the death rate for major causes of deaths over the last century (1900 until 2015)."
   ]
  },
  {
   "cell_type": "code",
   "execution_count": 68,
   "metadata": {
    "scrolled": true
   },
   "outputs": [
    {
     "data": {
      "text/html": [
       "<table border=\"1\" class=\"dataframe\">\n",
       "    <thead>\n",
       "        <tr>\n",
       "            <th>Year</th> <th>Cause</th> <th>Age Adjusted Death Rate</th>\n",
       "        </tr>\n",
       "    </thead>\n",
       "    <tbody>\n",
       "        <tr>\n",
       "            <td>2015</td> <td>Heart Disease          </td> <td>168.5                  </td>\n",
       "        </tr>\n",
       "        <tr>\n",
       "            <td>2015</td> <td>Cancer                 </td> <td>158.5                  </td>\n",
       "        </tr>\n",
       "        <tr>\n",
       "            <td>2015</td> <td>Stroke                 </td> <td>37.6                   </td>\n",
       "        </tr>\n",
       "        <tr>\n",
       "            <td>2015</td> <td>Accidents              </td> <td>43.2                   </td>\n",
       "        </tr>\n",
       "        <tr>\n",
       "            <td>2015</td> <td>Influenza and Pneumonia</td> <td>15.2                   </td>\n",
       "        </tr>\n",
       "        <tr>\n",
       "            <td>2014</td> <td>Heart Disease          </td> <td>167                    </td>\n",
       "        </tr>\n",
       "        <tr>\n",
       "            <td>2014</td> <td>Cancer                 </td> <td>161.2                  </td>\n",
       "        </tr>\n",
       "        <tr>\n",
       "            <td>2014</td> <td>Stroke                 </td> <td>36.5                   </td>\n",
       "        </tr>\n",
       "        <tr>\n",
       "            <td>2014</td> <td>Accidents              </td> <td>40.5                   </td>\n",
       "        </tr>\n",
       "        <tr>\n",
       "            <td>2014</td> <td>Influenza and Pneumonia</td> <td>15.1                   </td>\n",
       "        </tr>\n",
       "        <tr>\n",
       "            <td>2013</td> <td>Heart Disease          </td> <td>169.8                  </td>\n",
       "        </tr>\n",
       "        <tr>\n",
       "            <td>2013</td> <td>Cancer                 </td> <td>163.2                  </td>\n",
       "        </tr>\n",
       "        <tr>\n",
       "            <td>2013</td> <td>Stroke                 </td> <td>36.2                   </td>\n",
       "        </tr>\n",
       "        <tr>\n",
       "            <td>2013</td> <td>Accidents              </td> <td>39.4                   </td>\n",
       "        </tr>\n",
       "        <tr>\n",
       "            <td>2013</td> <td>Influenza and Pneumonia</td> <td>15.9                   </td>\n",
       "        </tr>\n",
       "        <tr>\n",
       "            <td>2012</td> <td>Heart Disease          </td> <td>170.5                  </td>\n",
       "        </tr>\n",
       "        <tr>\n",
       "            <td>2012</td> <td>Cancer                 </td> <td>166.5                  </td>\n",
       "        </tr>\n",
       "        <tr>\n",
       "            <td>2012</td> <td>Stroke                 </td> <td>36.9                   </td>\n",
       "        </tr>\n",
       "        <tr>\n",
       "            <td>2012</td> <td>Accidents              </td> <td>39.1                   </td>\n",
       "        </tr>\n",
       "        <tr>\n",
       "            <td>2012</td> <td>Influenza and Pneumonia</td> <td>14.5                   </td>\n",
       "        </tr>\n",
       "        <tr>\n",
       "            <td>2011</td> <td>Heart Disease          </td> <td>173.7                  </td>\n",
       "        </tr>\n",
       "        <tr>\n",
       "            <td>2011</td> <td>Cancer                 </td> <td>169                    </td>\n",
       "        </tr>\n",
       "        <tr>\n",
       "            <td>2011</td> <td>Stroke                 </td> <td>37.9                   </td>\n",
       "        </tr>\n",
       "        <tr>\n",
       "            <td>2011</td> <td>Accidents              </td> <td>39.1                   </td>\n",
       "        </tr>\n",
       "        <tr>\n",
       "            <td>2011</td> <td>Influenza and Pneumonia</td> <td>15.7                   </td>\n",
       "        </tr>\n",
       "        <tr>\n",
       "            <td>2010</td> <td>Heart Disease          </td> <td>179.1                  </td>\n",
       "        </tr>\n",
       "        <tr>\n",
       "            <td>2010</td> <td>Cancer                 </td> <td>172.8                  </td>\n",
       "        </tr>\n",
       "        <tr>\n",
       "            <td>2010</td> <td>Stroke                 </td> <td>39.1                   </td>\n",
       "        </tr>\n",
       "        <tr>\n",
       "            <td>2010</td> <td>Accidents              </td> <td>38                     </td>\n",
       "        </tr>\n",
       "        <tr>\n",
       "            <td>2010</td> <td>Influenza and Pneumonia</td> <td>15.1                   </td>\n",
       "        </tr>\n",
       "        <tr>\n",
       "            <td>2009</td> <td>Heart Disease          </td> <td>182.8                  </td>\n",
       "        </tr>\n",
       "        <tr>\n",
       "            <td>2009</td> <td>Cancer                 </td> <td>173.5                  </td>\n",
       "        </tr>\n",
       "        <tr>\n",
       "            <td>2009</td> <td>Stroke                 </td> <td>39.6                   </td>\n",
       "        </tr>\n",
       "        <tr>\n",
       "            <td>2009</td> <td>Accidents              </td> <td>37.5                   </td>\n",
       "        </tr>\n",
       "        <tr>\n",
       "            <td>2009</td> <td>Influenza and Pneumonia</td> <td>16.5                   </td>\n",
       "        </tr>\n",
       "        <tr>\n",
       "            <td>2008</td> <td>Heart Disease          </td> <td>192.1                  </td>\n",
       "        </tr>\n",
       "        <tr>\n",
       "            <td>2008</td> <td>Cancer                 </td> <td>176.4                  </td>\n",
       "        </tr>\n",
       "        <tr>\n",
       "            <td>2008</td> <td>Stroke                 </td> <td>42.1                   </td>\n",
       "        </tr>\n",
       "        <tr>\n",
       "            <td>2008</td> <td>Accidents              </td> <td>39.2                   </td>\n",
       "        </tr>\n",
       "        <tr>\n",
       "            <td>2008</td> <td>Influenza and Pneumonia</td> <td>17.6                   </td>\n",
       "        </tr>\n",
       "        <tr>\n",
       "            <td>2007</td> <td>Heart Disease          </td> <td>196.1                  </td>\n",
       "        </tr>\n",
       "        <tr>\n",
       "            <td>2007</td> <td>Cancer                 </td> <td>179.3                  </td>\n",
       "        </tr>\n",
       "        <tr>\n",
       "            <td>2007</td> <td>Stroke                 </td> <td>43.5                   </td>\n",
       "        </tr>\n",
       "        <tr>\n",
       "            <td>2007</td> <td>Accidents              </td> <td>40.4                   </td>\n",
       "        </tr>\n",
       "        <tr>\n",
       "            <td>2007</td> <td>Influenza and Pneumonia</td> <td>16.8                   </td>\n",
       "        </tr>\n",
       "        <tr>\n",
       "            <td>2006</td> <td>Heart Disease          </td> <td>205.5                  </td>\n",
       "        </tr>\n",
       "        <tr>\n",
       "            <td>2006</td> <td>Cancer                 </td> <td>181.8                  </td>\n",
       "        </tr>\n",
       "        <tr>\n",
       "            <td>2006</td> <td>Stroke                 </td> <td>44.8                   </td>\n",
       "        </tr>\n",
       "        <tr>\n",
       "            <td>2006</td> <td>Accidents              </td> <td>40.2                   </td>\n",
       "        </tr>\n",
       "        <tr>\n",
       "            <td>2006</td> <td>Influenza and Pneumonia</td> <td>18.4                   </td>\n",
       "        </tr>\n",
       "        <tr>\n",
       "            <td>2005</td> <td>Heart Disease          </td> <td>216.8                  </td>\n",
       "        </tr>\n",
       "        <tr>\n",
       "            <td>2005</td> <td>Cancer                 </td> <td>185.1                  </td>\n",
       "        </tr>\n",
       "        <tr>\n",
       "            <td>2005</td> <td>Stroke                 </td> <td>48                     </td>\n",
       "        </tr>\n",
       "        <tr>\n",
       "            <td>2005</td> <td>Accidents              </td> <td>39.5                   </td>\n",
       "        </tr>\n",
       "        <tr>\n",
       "            <td>2005</td> <td>Influenza and Pneumonia</td> <td>21                     </td>\n",
       "        </tr>\n",
       "        <tr>\n",
       "            <td>2004</td> <td>Heart Disease          </td> <td>221.6                  </td>\n",
       "        </tr>\n",
       "        <tr>\n",
       "            <td>2004</td> <td>Cancer                 </td> <td>186.8                  </td>\n",
       "        </tr>\n",
       "        <tr>\n",
       "            <td>2004</td> <td>Stroke                 </td> <td>51.2                   </td>\n",
       "        </tr>\n",
       "        <tr>\n",
       "            <td>2004</td> <td>Accidents              </td> <td>38.1                   </td>\n",
       "        </tr>\n",
       "        <tr>\n",
       "            <td>2004</td> <td>Influenza and Pneumonia</td> <td>20.4                   </td>\n",
       "        </tr>\n",
       "        <tr>\n",
       "            <td>2003</td> <td>Heart Disease          </td> <td>236.3                  </td>\n",
       "        </tr>\n",
       "        <tr>\n",
       "            <td>2003</td> <td>Cancer                 </td> <td>190.9                  </td>\n",
       "        </tr>\n",
       "        <tr>\n",
       "            <td>2003</td> <td>Stroke                 </td> <td>54.6                   </td>\n",
       "        </tr>\n",
       "        <tr>\n",
       "            <td>2003</td> <td>Accidents              </td> <td>37.6                   </td>\n",
       "        </tr>\n",
       "        <tr>\n",
       "            <td>2003</td> <td>Influenza and Pneumonia</td> <td>22.6                   </td>\n",
       "        </tr>\n",
       "        <tr>\n",
       "            <td>2002</td> <td>Heart Disease          </td> <td>244.6                  </td>\n",
       "        </tr>\n",
       "        <tr>\n",
       "            <td>2002</td> <td>Cancer                 </td> <td>194.3                  </td>\n",
       "        </tr>\n",
       "        <tr>\n",
       "            <td>2002</td> <td>Stroke                 </td> <td>57.2                   </td>\n",
       "        </tr>\n",
       "        <tr>\n",
       "            <td>2002</td> <td>Accidents              </td> <td>37.1                   </td>\n",
       "        </tr>\n",
       "        <tr>\n",
       "            <td>2002</td> <td>Influenza and Pneumonia</td> <td>23.2                   </td>\n",
       "        </tr>\n",
       "        <tr>\n",
       "            <td>2001</td> <td>Heart Disease          </td> <td>249.5                  </td>\n",
       "        </tr>\n",
       "        <tr>\n",
       "            <td>2001</td> <td>Cancer                 </td> <td>196.5                  </td>\n",
       "        </tr>\n",
       "        <tr>\n",
       "            <td>2001</td> <td>Stroke                 </td> <td>58.4                   </td>\n",
       "        </tr>\n",
       "        <tr>\n",
       "            <td>2001</td> <td>Accidents              </td> <td>35.7                   </td>\n",
       "        </tr>\n",
       "        <tr>\n",
       "            <td>2001</td> <td>Influenza and Pneumonia</td> <td>22.2                   </td>\n",
       "        </tr>\n",
       "        <tr>\n",
       "            <td>2000</td> <td>Heart Disease          </td> <td>257.6                  </td>\n",
       "        </tr>\n",
       "        <tr>\n",
       "            <td>2000</td> <td>Cancer                 </td> <td>199.6                  </td>\n",
       "        </tr>\n",
       "        <tr>\n",
       "            <td>2000</td> <td>Stroke                 </td> <td>60.9                   </td>\n",
       "        </tr>\n",
       "        <tr>\n",
       "            <td>2000</td> <td>Accidents              </td> <td>34.9                   </td>\n",
       "        </tr>\n",
       "        <tr>\n",
       "            <td>2000</td> <td>Influenza and Pneumonia</td> <td>23.7                   </td>\n",
       "        </tr>\n",
       "        <tr>\n",
       "            <td>1999</td> <td>Heart Disease          </td> <td>266.5                  </td>\n",
       "        </tr>\n",
       "        <tr>\n",
       "            <td>1999</td> <td>Cancer                 </td> <td>200.8                  </td>\n",
       "        </tr>\n",
       "        <tr>\n",
       "            <td>1999</td> <td>Stroke                 </td> <td>61.6                   </td>\n",
       "        </tr>\n",
       "        <tr>\n",
       "            <td>1999</td> <td>Accidents              </td> <td>35.3                   </td>\n",
       "        </tr>\n",
       "        <tr>\n",
       "            <td>1999</td> <td>Influenza and Pneumonia</td> <td>23.5                   </td>\n",
       "        </tr>\n",
       "        <tr>\n",
       "            <td>1998</td> <td>Heart Disease          </td> <td>272.4                  </td>\n",
       "        </tr>\n",
       "        <tr>\n",
       "            <td>1998</td> <td>Cancer                 </td> <td>200.7                  </td>\n",
       "        </tr>\n",
       "        <tr>\n",
       "            <td>1998</td> <td>Stroke                 </td> <td>59.4                   </td>\n",
       "        </tr>\n",
       "        <tr>\n",
       "            <td>1998</td> <td>Accidents              </td> <td>34.5                   </td>\n",
       "        </tr>\n",
       "        <tr>\n",
       "            <td>1998</td> <td>Influenza and Pneumonia</td> <td>34.6                   </td>\n",
       "        </tr>\n",
       "        <tr>\n",
       "            <td>1997</td> <td>Heart Disease          </td> <td>280.4                  </td>\n",
       "        </tr>\n",
       "        <tr>\n",
       "            <td>1997</td> <td>Cancer                 </td> <td>203.5                  </td>\n",
       "        </tr>\n",
       "        <tr>\n",
       "            <td>1997</td> <td>Stroke                 </td> <td>61.2                   </td>\n",
       "        </tr>\n",
       "        <tr>\n",
       "            <td>1997</td> <td>Accidents              </td> <td>34.2                   </td>\n",
       "        </tr>\n",
       "        <tr>\n",
       "            <td>1997</td> <td>Influenza and Pneumonia</td> <td>33.6                   </td>\n",
       "        </tr>\n",
       "        <tr>\n",
       "            <td>1996</td> <td>Heart Disease          </td> <td>288.3                  </td>\n",
       "        </tr>\n",
       "        <tr>\n",
       "            <td>1996</td> <td>Cancer                 </td> <td>206.7                  </td>\n",
       "        </tr>\n",
       "        <tr>\n",
       "            <td>1996</td> <td>Stroke                 </td> <td>62.6                   </td>\n",
       "        </tr>\n",
       "        <tr>\n",
       "            <td>1996</td> <td>Accidents              </td> <td>34.5                   </td>\n",
       "        </tr>\n",
       "        <tr>\n",
       "            <td>1996</td> <td>Influenza and Pneumonia</td> <td>33.2                   </td>\n",
       "        </tr>\n",
       "        <tr>\n",
       "            <td>1995</td> <td>Heart Disease          </td> <td>296.3                  </td>\n",
       "        </tr>\n",
       "        <tr>\n",
       "            <td>1995</td> <td>Cancer                 </td> <td>209.8                  </td>\n",
       "        </tr>\n",
       "        <tr>\n",
       "            <td>1995</td> <td>Stroke                 </td> <td>63.3                   </td>\n",
       "        </tr>\n",
       "        <tr>\n",
       "            <td>1995</td> <td>Accidents              </td> <td>34.4                   </td>\n",
       "        </tr>\n",
       "        <tr>\n",
       "            <td>1995</td> <td>Influenza and Pneumonia</td> <td>33.8                   </td>\n",
       "        </tr>\n",
       "        <tr>\n",
       "            <td>1994</td> <td>Heart Disease          </td> <td>299.7                  </td>\n",
       "        </tr>\n",
       "        <tr>\n",
       "            <td>1994</td> <td>Cancer                 </td> <td>211.7                  </td>\n",
       "        </tr>\n",
       "        <tr>\n",
       "            <td>1994</td> <td>Stroke                 </td> <td>62.8                   </td>\n",
       "        </tr>\n",
       "        <tr>\n",
       "            <td>1994</td> <td>Accidents              </td> <td>34.2                   </td>\n",
       "        </tr>\n",
       "        <tr>\n",
       "            <td>1994</td> <td>Influenza and Pneumonia</td> <td>33.9                   </td>\n",
       "        </tr>\n",
       "        <tr>\n",
       "            <td>1993</td> <td>Heart Disease          </td> <td>309.9                  </td>\n",
       "        </tr>\n",
       "        <tr>\n",
       "            <td>1993</td> <td>Cancer                 </td> <td>213.5                  </td>\n",
       "        </tr>\n",
       "        <tr>\n",
       "            <td>1993</td> <td>Stroke                 </td> <td>62.9                   </td>\n",
       "        </tr>\n",
       "        <tr>\n",
       "            <td>1993</td> <td>Accidents              </td> <td>34.2                   </td>\n",
       "        </tr>\n",
       "        <tr>\n",
       "            <td>1993</td> <td>Influenza and Pneumonia</td> <td>35.2                   </td>\n",
       "        </tr>\n",
       "        <tr>\n",
       "            <td>1992</td> <td>Heart Disease          </td> <td>306.1                  </td>\n",
       "        </tr>\n",
       "        <tr>\n",
       "            <td>1992</td> <td>Cancer                 </td> <td>213.5                  </td>\n",
       "        </tr>\n",
       "        <tr>\n",
       "            <td>1992</td> <td>Stroke                 </td> <td>61.6                   </td>\n",
       "        </tr>\n",
       "        <tr>\n",
       "            <td>1992</td> <td>Accidents              </td> <td>33.2                   </td>\n",
       "        </tr>\n",
       "        <tr>\n",
       "            <td>1992</td> <td>Influenza and Pneumonia</td> <td>33.1                   </td>\n",
       "        </tr>\n",
       "        <tr>\n",
       "            <td>1991</td> <td>Heart Disease          </td> <td>313.8                  </td>\n",
       "        </tr>\n",
       "        <tr>\n",
       "            <td>1991</td> <td>Cancer                 </td> <td>215.2                  </td>\n",
       "        </tr>\n",
       "        <tr>\n",
       "            <td>1991</td> <td>Stroke                 </td> <td>63.1                   </td>\n",
       "        </tr>\n",
       "        <tr>\n",
       "            <td>1991</td> <td>Accidents              </td> <td>34.7                   </td>\n",
       "        </tr>\n",
       "        <tr>\n",
       "            <td>1991</td> <td>Influenza and Pneumonia</td> <td>34.9                   </td>\n",
       "        </tr>\n",
       "        <tr>\n",
       "            <td>1990</td> <td>Heart Disease          </td> <td>321.8                  </td>\n",
       "        </tr>\n",
       "        <tr>\n",
       "            <td>1990</td> <td>Cancer                 </td> <td>216                    </td>\n",
       "        </tr>\n",
       "        <tr>\n",
       "            <td>1990</td> <td>Stroke                 </td> <td>65.5                   </td>\n",
       "        </tr>\n",
       "        <tr>\n",
       "            <td>1990</td> <td>Accidents              </td> <td>36.2                   </td>\n",
       "        </tr>\n",
       "        <tr>\n",
       "            <td>1990</td> <td>Influenza and Pneumonia</td> <td>36.8                   </td>\n",
       "        </tr>\n",
       "        <tr>\n",
       "            <td>1989</td> <td>Heart Disease          </td> <td>332                    </td>\n",
       "        </tr>\n",
       "        <tr>\n",
       "            <td>1989</td> <td>Cancer                 </td> <td>214.2                  </td>\n",
       "        </tr>\n",
       "        <tr>\n",
       "            <td>1989</td> <td>Stroke                 </td> <td>67.1                   </td>\n",
       "        </tr>\n",
       "        <tr>\n",
       "            <td>1989</td> <td>Accidents              </td> <td>37.7                   </td>\n",
       "        </tr>\n",
       "        <tr>\n",
       "            <td>1989</td> <td>Influenza and Pneumonia</td> <td>35.9                   </td>\n",
       "        </tr>\n",
       "        <tr>\n",
       "            <td>1988</td> <td>Heart Disease          </td> <td>352.5                  </td>\n",
       "        </tr>\n",
       "        <tr>\n",
       "            <td>1988</td> <td>Cancer                 </td> <td>212.5                  </td>\n",
       "        </tr>\n",
       "        <tr>\n",
       "            <td>1988</td> <td>Stroke                 </td> <td>70.8                   </td>\n",
       "        </tr>\n",
       "        <tr>\n",
       "            <td>1988</td> <td>Accidents              </td> <td>38.9                   </td>\n",
       "        </tr>\n",
       "        <tr>\n",
       "            <td>1988</td> <td>Influenza and Pneumonia</td> <td>37.3                   </td>\n",
       "        </tr>\n",
       "        <tr>\n",
       "            <td>1987</td> <td>Heart Disease          </td> <td>355.9                  </td>\n",
       "        </tr>\n",
       "        <tr>\n",
       "            <td>1987</td> <td>Cancer                 </td> <td>211.7                  </td>\n",
       "        </tr>\n",
       "        <tr>\n",
       "            <td>1987</td> <td>Stroke                 </td> <td>71.8                   </td>\n",
       "        </tr>\n",
       "        <tr>\n",
       "            <td>1987</td> <td>Accidents              </td> <td>38.2                   </td>\n",
       "        </tr>\n",
       "        <tr>\n",
       "            <td>1987</td> <td>Influenza and Pneumonia</td> <td>33.8                   </td>\n",
       "        </tr>\n",
       "        <tr>\n",
       "            <td>1986</td> <td>Heart Disease          </td> <td>365.1                  </td>\n",
       "        </tr>\n",
       "        <tr>\n",
       "            <td>1986</td> <td>Cancer                 </td> <td>211.5                  </td>\n",
       "        </tr>\n",
       "        <tr>\n",
       "            <td>1986</td> <td>Stroke                 </td> <td>73.3                   </td>\n",
       "        </tr>\n",
       "        <tr>\n",
       "            <td>1986</td> <td>Accidents              </td> <td>38.6                   </td>\n",
       "        </tr>\n",
       "        <tr>\n",
       "            <td>1986</td> <td>Influenza and Pneumonia</td> <td>34.8                   </td>\n",
       "        </tr>\n",
       "        <tr>\n",
       "            <td>1985</td> <td>Heart Disease          </td> <td>375                    </td>\n",
       "        </tr>\n",
       "        <tr>\n",
       "            <td>1985</td> <td>Cancer                 </td> <td>211.3                  </td>\n",
       "        </tr>\n",
       "        <tr>\n",
       "            <td>1985</td> <td>Stroke                 </td> <td>76.6                   </td>\n",
       "        </tr>\n",
       "        <tr>\n",
       "            <td>1985</td> <td>Accidents              </td> <td>38.5                   </td>\n",
       "        </tr>\n",
       "        <tr>\n",
       "            <td>1985</td> <td>Influenza and Pneumonia</td> <td>34.5                   </td>\n",
       "        </tr>\n",
       "        <tr>\n",
       "            <td>1984</td> <td>Heart Disease          </td> <td>378.8                  </td>\n",
       "        </tr>\n",
       "        <tr>\n",
       "            <td>1984</td> <td>Cancer                 </td> <td>210.8                  </td>\n",
       "        </tr>\n",
       "        <tr>\n",
       "            <td>1984</td> <td>Stroke                 </td> <td>78.9                   </td>\n",
       "        </tr>\n",
       "        <tr>\n",
       "            <td>1984</td> <td>Accidents              </td> <td>38.8                   </td>\n",
       "        </tr>\n",
       "        <tr>\n",
       "            <td>1984</td> <td>Influenza and Pneumonia</td> <td>30.6                   </td>\n",
       "        </tr>\n",
       "        <tr>\n",
       "            <td>1983</td> <td>Heart Disease          </td> <td>388.9                  </td>\n",
       "        </tr>\n",
       "        <tr>\n",
       "            <td>1983</td> <td>Cancer                 </td> <td>209.1                  </td>\n",
       "        </tr>\n",
       "        <tr>\n",
       "            <td>1983</td> <td>Stroke                 </td> <td>81.4                   </td>\n",
       "        </tr>\n",
       "        <tr>\n",
       "            <td>1983</td> <td>Accidents              </td> <td>39.1                   </td>\n",
       "        </tr>\n",
       "        <tr>\n",
       "            <td>1983</td> <td>Influenza and Pneumonia</td> <td>29.8                   </td>\n",
       "        </tr>\n",
       "        <tr>\n",
       "            <td>1982</td> <td>Heart Disease          </td> <td>389                    </td>\n",
       "        </tr>\n",
       "        <tr>\n",
       "            <td>1982</td> <td>Cancer                 </td> <td>208.3                  </td>\n",
       "        </tr>\n",
       "        <tr>\n",
       "            <td>1982</td> <td>Stroke                 </td> <td>84.4                   </td>\n",
       "        </tr>\n",
       "        <tr>\n",
       "            <td>1982</td> <td>Accidents              </td> <td>40.1                   </td>\n",
       "        </tr>\n",
       "        <tr>\n",
       "            <td>1982</td> <td>Influenza and Pneumonia</td> <td>26.5                   </td>\n",
       "        </tr>\n",
       "        <tr>\n",
       "            <td>1981</td> <td>Heart Disease          </td> <td>397                    </td>\n",
       "        </tr>\n",
       "        <tr>\n",
       "            <td>1981</td> <td>Cancer                 </td> <td>206.4                  </td>\n",
       "        </tr>\n",
       "        <tr>\n",
       "            <td>1981</td> <td>Stroke                 </td> <td>89.7                   </td>\n",
       "        </tr>\n",
       "        <tr>\n",
       "            <td>1981</td> <td>Accidents              </td> <td>43.4                   </td>\n",
       "        </tr>\n",
       "        <tr>\n",
       "            <td>1981</td> <td>Influenza and Pneumonia</td> <td>30                     </td>\n",
       "        </tr>\n",
       "        <tr>\n",
       "            <td>1980</td> <td>Heart Disease          </td> <td>412.1                  </td>\n",
       "        </tr>\n",
       "        <tr>\n",
       "            <td>1980</td> <td>Cancer                 </td> <td>207.9                  </td>\n",
       "        </tr>\n",
       "        <tr>\n",
       "            <td>1980</td> <td>Stroke                 </td> <td>96.4                   </td>\n",
       "        </tr>\n",
       "        <tr>\n",
       "            <td>1980</td> <td>Accidents              </td> <td>46.4                   </td>\n",
       "        </tr>\n",
       "        <tr>\n",
       "            <td>1980</td> <td>Influenza and Pneumonia</td> <td>31.4                   </td>\n",
       "        </tr>\n",
       "        <tr>\n",
       "            <td>1979</td> <td>Heart Disease          </td> <td>401.6                  </td>\n",
       "        </tr>\n",
       "        <tr>\n",
       "            <td>1979</td> <td>Cancer                 </td> <td>204                    </td>\n",
       "        </tr>\n",
       "        <tr>\n",
       "            <td>1979</td> <td>Stroke                 </td> <td>97.3                   </td>\n",
       "        </tr>\n",
       "        <tr>\n",
       "            <td>1979</td> <td>Accidents              </td> <td>46.5                   </td>\n",
       "        </tr>\n",
       "        <tr>\n",
       "            <td>1979</td> <td>Influenza and Pneumonia</td> <td>26.1                   </td>\n",
       "        </tr>\n",
       "        <tr>\n",
       "            <td>1978</td> <td>Heart Disease          </td> <td>409.9                  </td>\n",
       "        </tr>\n",
       "        <tr>\n",
       "            <td>1978</td> <td>Cancer                 </td> <td>204.9                  </td>\n",
       "        </tr>\n",
       "        <tr>\n",
       "            <td>1978</td> <td>Stroke                 </td> <td>103.7                  </td>\n",
       "        </tr>\n",
       "        <tr>\n",
       "            <td>1978</td> <td>Accidents              </td> <td>48.9                   </td>\n",
       "        </tr>\n",
       "        <tr>\n",
       "            <td>1978</td> <td>Influenza and Pneumonia</td> <td>34.5                   </td>\n",
       "        </tr>\n",
       "        <tr>\n",
       "            <td>1977</td> <td>Heart Disease          </td> <td>413.7                  </td>\n",
       "        </tr>\n",
       "        <tr>\n",
       "            <td>1977</td> <td>Cancer                 </td> <td>203.5                  </td>\n",
       "        </tr>\n",
       "        <tr>\n",
       "            <td>1977</td> <td>Stroke                 </td> <td>110.4                  </td>\n",
       "        </tr>\n",
       "        <tr>\n",
       "            <td>1977</td> <td>Accidents              </td> <td>48.8                   </td>\n",
       "        </tr>\n",
       "        <tr>\n",
       "            <td>1977</td> <td>Influenza and Pneumonia</td> <td>31                     </td>\n",
       "        </tr>\n",
       "        <tr>\n",
       "            <td>1976</td> <td>Heart Disease          </td> <td>426.9                  </td>\n",
       "        </tr>\n",
       "        <tr>\n",
       "            <td>1976</td> <td>Cancer                 </td> <td>202.5                  </td>\n",
       "        </tr>\n",
       "        <tr>\n",
       "            <td>1976</td> <td>Stroke                 </td> <td>117.4                  </td>\n",
       "        </tr>\n",
       "        <tr>\n",
       "            <td>1976</td> <td>Accidents              </td> <td>48.7                   </td>\n",
       "        </tr>\n",
       "        <tr>\n",
       "            <td>1976</td> <td>Influenza and Pneumonia</td> <td>38.8                   </td>\n",
       "        </tr>\n",
       "        <tr>\n",
       "            <td>1975</td> <td>Heart Disease          </td> <td>431.2                  </td>\n",
       "        </tr>\n",
       "        <tr>\n",
       "            <td>1975</td> <td>Cancer                 </td> <td>200.1                  </td>\n",
       "        </tr>\n",
       "        <tr>\n",
       "            <td>1975</td> <td>Stroke                 </td> <td>123.5                  </td>\n",
       "        </tr>\n",
       "        <tr>\n",
       "            <td>1975</td> <td>Accidents              </td> <td>50.8                   </td>\n",
       "        </tr>\n",
       "        <tr>\n",
       "            <td>1975</td> <td>Influenza and Pneumonia</td> <td>34.9                   </td>\n",
       "        </tr>\n",
       "        <tr>\n",
       "            <td>1974</td> <td>Heart Disease          </td> <td>458.8                  </td>\n",
       "        </tr>\n",
       "        <tr>\n",
       "            <td>1974</td> <td>Cancer                 </td> <td>201.5                  </td>\n",
       "        </tr>\n",
       "        <tr>\n",
       "            <td>1974</td> <td>Stroke                 </td> <td>136.8                  </td>\n",
       "        </tr>\n",
       "        <tr>\n",
       "            <td>1974</td> <td>Accidents              </td> <td>52.7                   </td>\n",
       "        </tr>\n",
       "        <tr>\n",
       "            <td>1974</td> <td>Influenza and Pneumonia</td> <td>35.5                   </td>\n",
       "        </tr>\n",
       "        <tr>\n",
       "            <td>1973</td> <td>Heart Disease          </td> <td>482                    </td>\n",
       "        </tr>\n",
       "        <tr>\n",
       "            <td>1973</td> <td>Cancer                 </td> <td>200                    </td>\n",
       "        </tr>\n",
       "        <tr>\n",
       "            <td>1973</td> <td>Stroke                 </td> <td>145.2                  </td>\n",
       "        </tr>\n",
       "        <tr>\n",
       "            <td>1973</td> <td>Accidents              </td> <td>59.3                   </td>\n",
       "        </tr>\n",
       "        <tr>\n",
       "            <td>1973</td> <td>Influenza and Pneumonia</td> <td>41.2                   </td>\n",
       "        </tr>\n",
       "        <tr>\n",
       "            <td>1972</td> <td>Heart Disease          </td> <td>490.2                  </td>\n",
       "        </tr>\n",
       "        <tr>\n",
       "            <td>1972</td> <td>Cancer                 </td> <td>200.3                  </td>\n",
       "        </tr>\n",
       "        <tr>\n",
       "            <td>1972</td> <td>Stroke                 </td> <td>147.3                  </td>\n",
       "        </tr>\n",
       "        <tr>\n",
       "            <td>1972</td> <td>Accidents              </td> <td>60.2                   </td>\n",
       "        </tr>\n",
       "        <tr>\n",
       "            <td>1972</td> <td>Influenza and Pneumonia</td> <td>41.3                   </td>\n",
       "        </tr>\n",
       "        <tr>\n",
       "            <td>1971</td> <td>Heart Disease          </td> <td>492.9                  </td>\n",
       "        </tr>\n",
       "        <tr>\n",
       "            <td>1971</td> <td>Cancer                 </td> <td>199.3                  </td>\n",
       "        </tr>\n",
       "        <tr>\n",
       "            <td>1971</td> <td>Stroke                 </td> <td>147.6                  </td>\n",
       "        </tr>\n",
       "        <tr>\n",
       "            <td>1971</td> <td>Accidents              </td> <td>60.3                   </td>\n",
       "        </tr>\n",
       "        <tr>\n",
       "            <td>1971</td> <td>Influenza and Pneumonia</td> <td>38.4                   </td>\n",
       "        </tr>\n",
       "        <tr>\n",
       "            <td>1970</td> <td>Heart Disease          </td> <td>492.7                  </td>\n",
       "        </tr>\n",
       "        <tr>\n",
       "            <td>1970</td> <td>Cancer                 </td> <td>198.6                  </td>\n",
       "        </tr>\n",
       "        <tr>\n",
       "            <td>1970</td> <td>Stroke                 </td> <td>147.7                  </td>\n",
       "        </tr>\n",
       "        <tr>\n",
       "            <td>1970</td> <td>Accidents              </td> <td>62.2                   </td>\n",
       "        </tr>\n",
       "        <tr>\n",
       "            <td>1970</td> <td>Influenza and Pneumonia</td> <td>41.7                   </td>\n",
       "        </tr>\n",
       "        <tr>\n",
       "            <td>1969</td> <td>Heart Disease          </td> <td>516.8                  </td>\n",
       "        </tr>\n",
       "        <tr>\n",
       "            <td>1969</td> <td>Cancer                 </td> <td>198.5                  </td>\n",
       "        </tr>\n",
       "        <tr>\n",
       "            <td>1969</td> <td>Stroke                 </td> <td>155.4                  </td>\n",
       "        </tr>\n",
       "        <tr>\n",
       "            <td>1969</td> <td>Accidents              </td> <td>64.9                   </td>\n",
       "        </tr>\n",
       "        <tr>\n",
       "            <td>1969</td> <td>Influenza and Pneumonia</td> <td>47.9                   </td>\n",
       "        </tr>\n",
       "        <tr>\n",
       "            <td>1968</td> <td>Heart Disease          </td> <td>531                    </td>\n",
       "        </tr>\n",
       "        <tr>\n",
       "            <td>1968</td> <td>Cancer                 </td> <td>198.8                  </td>\n",
       "        </tr>\n",
       "        <tr>\n",
       "            <td>1968</td> <td>Stroke                 </td> <td>162.5                  </td>\n",
       "        </tr>\n",
       "        <tr>\n",
       "            <td>1968</td> <td>Accidents              </td> <td>65.5                   </td>\n",
       "        </tr>\n",
       "        <tr>\n",
       "            <td>1968</td> <td>Influenza and Pneumonia</td> <td>52.8                   </td>\n",
       "        </tr>\n",
       "        <tr>\n",
       "            <td>1967</td> <td>Heart Disease          </td> <td>524.7                  </td>\n",
       "        </tr>\n",
       "        <tr>\n",
       "            <td>1967</td> <td>Cancer                 </td> <td>197.3                  </td>\n",
       "        </tr>\n",
       "        <tr>\n",
       "            <td>1967</td> <td>Stroke                 </td> <td>159.3                  </td>\n",
       "        </tr>\n",
       "        <tr>\n",
       "            <td>1967</td> <td>Accidents              </td> <td>66.2                   </td>\n",
       "        </tr>\n",
       "        <tr>\n",
       "            <td>1967</td> <td>Influenza and Pneumonia</td> <td>42.2                   </td>\n",
       "        </tr>\n",
       "        <tr>\n",
       "            <td>1966</td> <td>Heart Disease          </td> <td>541.2                  </td>\n",
       "        </tr>\n",
       "        <tr>\n",
       "            <td>1966</td> <td>Cancer                 </td> <td>196.5                  </td>\n",
       "        </tr>\n",
       "        <tr>\n",
       "            <td>1966</td> <td>Stroke                 </td> <td>165.8                  </td>\n",
       "        </tr>\n",
       "        <tr>\n",
       "            <td>1966</td> <td>Accidents              </td> <td>67.6                   </td>\n",
       "        </tr>\n",
       "        <tr>\n",
       "            <td>1966</td> <td>Influenza and Pneumonia</td> <td>47.9                   </td>\n",
       "        </tr>\n",
       "        <tr>\n",
       "            <td>1965</td> <td>Heart Disease          </td> <td>542.5                  </td>\n",
       "        </tr>\n",
       "        <tr>\n",
       "            <td>1965</td> <td>Cancer                 </td> <td>195.6                  </td>\n",
       "        </tr>\n",
       "        <tr>\n",
       "            <td>1965</td> <td>Stroke                 </td> <td>166.4                  </td>\n",
       "        </tr>\n",
       "        <tr>\n",
       "            <td>1965</td> <td>Accidents              </td> <td>65.8                   </td>\n",
       "        </tr>\n",
       "        <tr>\n",
       "            <td>1965</td> <td>Influenza and Pneumonia</td> <td>46.8                   </td>\n",
       "        </tr>\n",
       "        <tr>\n",
       "            <td>1964</td> <td>Heart Disease          </td> <td>543.3                  </td>\n",
       "        </tr>\n",
       "        <tr>\n",
       "            <td>1964</td> <td>Cancer                 </td> <td>193.6                  </td>\n",
       "        </tr>\n",
       "        <tr>\n",
       "            <td>1964</td> <td>Stroke                 </td> <td>167                    </td>\n",
       "        </tr>\n",
       "        <tr>\n",
       "            <td>1964</td> <td>Accidents              </td> <td>64.1                   </td>\n",
       "        </tr>\n",
       "        <tr>\n",
       "            <td>1964</td> <td>Influenza and Pneumonia</td> <td>45.4                   </td>\n",
       "        </tr>\n",
       "        <tr>\n",
       "            <td>1963</td> <td>Heart Disease          </td> <td>563.4                  </td>\n",
       "        </tr>\n",
       "        <tr>\n",
       "            <td>1963</td> <td>Cancer                 </td> <td>194.7                  </td>\n",
       "        </tr>\n",
       "        <tr>\n",
       "            <td>1963</td> <td>Stroke                 </td> <td>173.9                  </td>\n",
       "        </tr>\n",
       "        <tr>\n",
       "            <td>1963</td> <td>Accidents              </td> <td>64                     </td>\n",
       "        </tr>\n",
       "        <tr>\n",
       "            <td>1963</td> <td>Influenza and Pneumonia</td> <td>55.6                   </td>\n",
       "        </tr>\n",
       "        <tr>\n",
       "            <td>1962</td> <td>Heart Disease          </td> <td>556.9                  </td>\n",
       "        </tr>\n",
       "        <tr>\n",
       "            <td>1962</td> <td>Cancer                 </td> <td>193.3                  </td>\n",
       "        </tr>\n",
       "        <tr>\n",
       "            <td>1962</td> <td>Stroke                 </td> <td>174                    </td>\n",
       "        </tr>\n",
       "        <tr>\n",
       "            <td>1962</td> <td>Accidents              </td> <td>62.9                   </td>\n",
       "        </tr>\n",
       "        <tr>\n",
       "            <td>1962</td> <td>Influenza and Pneumonia</td> <td>47.1                   </td>\n",
       "        </tr>\n",
       "        <tr>\n",
       "            <td>1961</td> <td>Heart Disease          </td> <td>545.3                  </td>\n",
       "        </tr>\n",
       "        <tr>\n",
       "            <td>1961</td> <td>Cancer                 </td> <td>193.4                  </td>\n",
       "        </tr>\n",
       "        <tr>\n",
       "            <td>1961</td> <td>Stroke                 </td> <td>173.1                  </td>\n",
       "        </tr>\n",
       "        <tr>\n",
       "            <td>1961</td> <td>Accidents              </td> <td>60.6                   </td>\n",
       "        </tr>\n",
       "        <tr>\n",
       "            <td>1961</td> <td>Influenza and Pneumonia</td> <td>43.4                   </td>\n",
       "        </tr>\n",
       "        <tr>\n",
       "            <td>1960</td> <td>Heart Disease          </td> <td>559                    </td>\n",
       "        </tr>\n",
       "        <tr>\n",
       "            <td>1960</td> <td>Cancer                 </td> <td>193.9                  </td>\n",
       "        </tr>\n",
       "        <tr>\n",
       "            <td>1960</td> <td>Stroke                 </td> <td>177.9                  </td>\n",
       "        </tr>\n",
       "        <tr>\n",
       "            <td>1960</td> <td>Accidents              </td> <td>63.1                   </td>\n",
       "        </tr>\n",
       "        <tr>\n",
       "            <td>1960</td> <td>Influenza and Pneumonia</td> <td>53.7                   </td>\n",
       "        </tr>\n",
       "        <tr>\n",
       "            <td>1959</td> <td>Heart Disease          </td> <td>552.1                  </td>\n",
       "        </tr>\n",
       "        <tr>\n",
       "            <td>1959</td> <td>Cancer                 </td> <td>191.6                  </td>\n",
       "        </tr>\n",
       "        <tr>\n",
       "            <td>1959</td> <td>Stroke                 </td> <td>179                    </td>\n",
       "        </tr>\n",
       "        <tr>\n",
       "            <td>1959</td> <td>Accidents              </td> <td>63.2                   </td>\n",
       "        </tr>\n",
       "        <tr>\n",
       "            <td>1959</td> <td>Influenza and Pneumonia</td> <td>44.3                   </td>\n",
       "        </tr>\n",
       "        <tr>\n",
       "            <td>1958</td> <td>Heart Disease          </td> <td>563.6                  </td>\n",
       "        </tr>\n",
       "        <tr>\n",
       "            <td>1958</td> <td>Cancer                 </td> <td>192                    </td>\n",
       "        </tr>\n",
       "        <tr>\n",
       "            <td>1958</td> <td>Stroke                 </td> <td>183                    </td>\n",
       "        </tr>\n",
       "        <tr>\n",
       "            <td>1958</td> <td>Accidents              </td> <td>63.6                   </td>\n",
       "        </tr>\n",
       "        <tr>\n",
       "            <td>1958</td> <td>Influenza and Pneumonia</td> <td>47.4                   </td>\n",
       "        </tr>\n",
       "        <tr>\n",
       "            <td>1957</td> <td>Heart Disease          </td> <td>568.5                  </td>\n",
       "        </tr>\n",
       "        <tr>\n",
       "            <td>1957</td> <td>Cancer                 </td> <td>195.4                  </td>\n",
       "        </tr>\n",
       "        <tr>\n",
       "            <td>1957</td> <td>Stroke                 </td> <td>183                    </td>\n",
       "        </tr>\n",
       "        <tr>\n",
       "            <td>1957</td> <td>Accidents              </td> <td>69.1                   </td>\n",
       "        </tr>\n",
       "        <tr>\n",
       "            <td>1957</td> <td>Influenza and Pneumonia</td> <td>50.3                   </td>\n",
       "        </tr>\n",
       "        <tr>\n",
       "            <td>1956</td> <td>Heart Disease          </td> <td>560.6                  </td>\n",
       "        </tr>\n",
       "        <tr>\n",
       "            <td>1956</td> <td>Cancer                 </td> <td>195.6                  </td>\n",
       "        </tr>\n",
       "        <tr>\n",
       "            <td>1956</td> <td>Stroke                 </td> <td>177.4                  </td>\n",
       "        </tr>\n",
       "        <tr>\n",
       "            <td>1956</td> <td>Accidents              </td> <td>70.2                   </td>\n",
       "        </tr>\n",
       "        <tr>\n",
       "            <td>1956</td> <td>Influenza and Pneumonia</td> <td>40.8                   </td>\n",
       "        </tr>\n",
       "        <tr>\n",
       "            <td>1955</td> <td>Heart Disease          </td> <td>556.7                  </td>\n",
       "        </tr>\n",
       "        <tr>\n",
       "            <td>1955</td> <td>Cancer                 </td> <td>194.5                  </td>\n",
       "        </tr>\n",
       "        <tr>\n",
       "            <td>1955</td> <td>Stroke                 </td> <td>177.3                  </td>\n",
       "        </tr>\n",
       "        <tr>\n",
       "            <td>1955</td> <td>Accidents              </td> <td>70.9                   </td>\n",
       "        </tr>\n",
       "        <tr>\n",
       "            <td>1955</td> <td>Influenza and Pneumonia</td> <td>39.2                   </td>\n",
       "        </tr>\n",
       "        <tr>\n",
       "            <td>1954</td> <td>Heart Disease          </td> <td>544.6                  </td>\n",
       "        </tr>\n",
       "        <tr>\n",
       "            <td>1954</td> <td>Cancer                 </td> <td>194.3                  </td>\n",
       "        </tr>\n",
       "        <tr>\n",
       "            <td>1954</td> <td>Stroke                 </td> <td>173.4                  </td>\n",
       "        </tr>\n",
       "        <tr>\n",
       "            <td>1954</td> <td>Accidents              </td> <td>69.9                   </td>\n",
       "        </tr>\n",
       "        <tr>\n",
       "            <td>1954</td> <td>Influenza and Pneumonia</td> <td>36.2                   </td>\n",
       "        </tr>\n",
       "        <tr>\n",
       "            <td>1953</td> <td>Heart Disease          </td> <td>570.1                  </td>\n",
       "        </tr>\n",
       "        <tr>\n",
       "            <td>1953</td> <td>Cancer                 </td> <td>194.6                  </td>\n",
       "        </tr>\n",
       "        <tr>\n",
       "            <td>1953</td> <td>Stroke                 </td> <td>179.2                  </td>\n",
       "        </tr>\n",
       "        <tr>\n",
       "            <td>1953</td> <td>Accidents              </td> <td>75.4                   </td>\n",
       "        </tr>\n",
       "        <tr>\n",
       "            <td>1953</td> <td>Influenza and Pneumonia</td> <td>49.2                   </td>\n",
       "        </tr>\n",
       "        <tr>\n",
       "            <td>1952</td> <td>Heart Disease          </td> <td>568.8                  </td>\n",
       "        </tr>\n",
       "        <tr>\n",
       "            <td>1952</td> <td>Cancer                 </td> <td>194.2                  </td>\n",
       "        </tr>\n",
       "        <tr>\n",
       "            <td>1952</td> <td>Stroke                 </td> <td>180.2                  </td>\n",
       "        </tr>\n",
       "        <tr>\n",
       "            <td>1952</td> <td>Accidents              </td> <td>78                     </td>\n",
       "        </tr>\n",
       "        <tr>\n",
       "            <td>1952</td> <td>Influenza and Pneumonia</td> <td>43.1                   </td>\n",
       "        </tr>\n",
       "        <tr>\n",
       "            <td>1951</td> <td>Heart Disease          </td> <td>577.9                  </td>\n",
       "        </tr>\n",
       "        <tr>\n",
       "            <td>1951</td> <td>Cancer                 </td> <td>192                    </td>\n",
       "        </tr>\n",
       "        <tr>\n",
       "            <td>1951</td> <td>Stroke                 </td> <td>181.4                  </td>\n",
       "        </tr>\n",
       "        <tr>\n",
       "            <td>1951</td> <td>Accidents              </td> <td>79.7                   </td>\n",
       "        </tr>\n",
       "        <tr>\n",
       "            <td>1951</td> <td>Influenza and Pneumonia</td> <td>47.4                   </td>\n",
       "        </tr>\n",
       "        <tr>\n",
       "            <td>1950</td> <td>Heart Disease          </td> <td>588.8                  </td>\n",
       "        </tr>\n",
       "        <tr>\n",
       "            <td>1950</td> <td>Cancer                 </td> <td>193.9                  </td>\n",
       "        </tr>\n",
       "        <tr>\n",
       "            <td>1950</td> <td>Stroke                 </td> <td>180.7                  </td>\n",
       "        </tr>\n",
       "        <tr>\n",
       "            <td>1950</td> <td>Accidents              </td> <td>78.4                   </td>\n",
       "        </tr>\n",
       "        <tr>\n",
       "            <td>1950</td> <td>Influenza and Pneumonia</td> <td>48.1                   </td>\n",
       "        </tr>\n",
       "        <tr>\n",
       "            <td>1949</td> <td>Heart Disease          </td> <td>581                    </td>\n",
       "        </tr>\n",
       "        <tr>\n",
       "            <td>1949</td> <td>Cancer                 </td> <td>193.9                  </td>\n",
       "        </tr>\n",
       "        <tr>\n",
       "            <td>1949</td> <td>Stroke                 </td> <td>176.2                  </td>\n",
       "        </tr>\n",
       "        <tr>\n",
       "            <td>1949</td> <td>Accidents              </td> <td>57.6                   </td>\n",
       "        </tr>\n",
       "        <tr>\n",
       "            <td>1949</td> <td>Influenza and Pneumonia</td> <td>45.1                   </td>\n",
       "        </tr>\n",
       "        <tr>\n",
       "            <td>1948</td> <td>Heart Disease          </td> <td>549                    </td>\n",
       "        </tr>\n",
       "        <tr>\n",
       "            <td>1948</td> <td>Cancer                 </td> <td>193.4                  </td>\n",
       "        </tr>\n",
       "        <tr>\n",
       "            <td>1948</td> <td>Stroke                 </td> <td>157.4                  </td>\n",
       "        </tr>\n",
       "        <tr>\n",
       "            <td>1948</td> <td>Accidents              </td> <td>68.6                   </td>\n",
       "        </tr>\n",
       "        <tr>\n",
       "            <td>1948</td> <td>Influenza and Pneumonia</td> <td>58                     </td>\n",
       "        </tr>\n",
       "        <tr>\n",
       "            <td>1947</td> <td>Heart Disease          </td> <td>552.5                  </td>\n",
       "        </tr>\n",
       "        <tr>\n",
       "            <td>1947</td> <td>Cancer                 </td> <td>190.7                  </td>\n",
       "        </tr>\n",
       "        <tr>\n",
       "            <td>1947</td> <td>Stroke                 </td> <td>161.3                  </td>\n",
       "        </tr>\n",
       "        <tr>\n",
       "            <td>1947</td> <td>Accidents              </td> <td>69.9                   </td>\n",
       "        </tr>\n",
       "        <tr>\n",
       "            <td>1947</td> <td>Influenza and Pneumonia</td> <td>65.9                   </td>\n",
       "        </tr>\n",
       "        <tr>\n",
       "            <td>1946</td> <td>Heart Disease          </td> <td>527.7                  </td>\n",
       "        </tr>\n",
       "        <tr>\n",
       "            <td>1946</td> <td>Cancer                 </td> <td>187.1                  </td>\n",
       "        </tr>\n",
       "        <tr>\n",
       "            <td>1946</td> <td>Stroke                 </td> <td>158.8                  </td>\n",
       "        </tr>\n",
       "        <tr>\n",
       "            <td>1946</td> <td>Accidents              </td> <td>69.4                   </td>\n",
       "        </tr>\n",
       "        <tr>\n",
       "            <td>1946</td> <td>Influenza and Pneumonia</td> <td>69.9                   </td>\n",
       "        </tr>\n",
       "        <tr>\n",
       "            <td>1945</td> <td>Heart Disease          </td> <td>533.2                  </td>\n",
       "        </tr>\n",
       "        <tr>\n",
       "            <td>1945</td> <td>Cancer                 </td> <td>186.9                  </td>\n",
       "        </tr>\n",
       "        <tr>\n",
       "            <td>1945</td> <td>Stroke                 </td> <td>166.7                  </td>\n",
       "        </tr>\n",
       "        <tr>\n",
       "            <td>1945</td> <td>Accidents              </td> <td>74.9                   </td>\n",
       "        </tr>\n",
       "        <tr>\n",
       "            <td>1945</td> <td>Influenza and Pneumonia</td> <td>74.9                   </td>\n",
       "        </tr>\n",
       "        <tr>\n",
       "            <td>1944</td> <td>Heart Disease          </td> <td>541.1                  </td>\n",
       "        </tr>\n",
       "        <tr>\n",
       "            <td>1944</td> <td>Cancer                 </td> <td>183.8                  </td>\n",
       "        </tr>\n",
       "        <tr>\n",
       "            <td>1944</td> <td>Stroke                 </td> <td>164.4                  </td>\n",
       "        </tr>\n",
       "        <tr>\n",
       "            <td>1944</td> <td>Accidents              </td> <td>77                     </td>\n",
       "        </tr>\n",
       "        <tr>\n",
       "            <td>1944</td> <td>Influenza and Pneumonia</td> <td>94.7                   </td>\n",
       "        </tr>\n",
       "        <tr>\n",
       "            <td>1943</td> <td>Heart Disease          </td> <td>567.5                  </td>\n",
       "        </tr>\n",
       "        <tr>\n",
       "            <td>1943</td> <td>Cancer                 </td> <td>183.9                  </td>\n",
       "        </tr>\n",
       "        <tr>\n",
       "            <td>1943</td> <td>Stroke                 </td> <td>173.3                  </td>\n",
       "        </tr>\n",
       "        <tr>\n",
       "            <td>1943</td> <td>Accidents              </td> <td>82.1                   </td>\n",
       "        </tr>\n",
       "        <tr>\n",
       "            <td>1943</td> <td>Influenza and Pneumonia</td> <td>101.7                  </td>\n",
       "        </tr>\n",
       "        <tr>\n",
       "            <td>1942</td> <td>Heart Disease          </td> <td>531.7                  </td>\n",
       "        </tr>\n",
       "        <tr>\n",
       "            <td>1942</td> <td>Cancer                 </td> <td>183.8                  </td>\n",
       "        </tr>\n",
       "        <tr>\n",
       "            <td>1942</td> <td>Stroke                 </td> <td>166.8                  </td>\n",
       "        </tr>\n",
       "        <tr>\n",
       "            <td>1942</td> <td>Accidents              </td> <td>75.6                   </td>\n",
       "        </tr>\n",
       "        <tr>\n",
       "            <td>1942</td> <td>Influenza and Pneumonia</td> <td>84.7                   </td>\n",
       "        </tr>\n",
       "        <tr>\n",
       "            <td>1941</td> <td>Heart Disease          </td> <td>537.9                  </td>\n",
       "        </tr>\n",
       "        <tr>\n",
       "            <td>1941</td> <td>Cancer                 </td> <td>184.1                  </td>\n",
       "        </tr>\n",
       "        <tr>\n",
       "            <td>1941</td> <td>Stroke                 </td> <td>169.4                  </td>\n",
       "        </tr>\n",
       "        <tr>\n",
       "            <td>1941</td> <td>Accidents              </td> <td>72.7                   </td>\n",
       "        </tr>\n",
       "        <tr>\n",
       "            <td>1941</td> <td>Influenza and Pneumonia</td> <td>104.6                  </td>\n",
       "        </tr>\n",
       "        <tr>\n",
       "            <td>1940</td> <td>Heart Disease          </td> <td>558.5                  </td>\n",
       "        </tr>\n",
       "        <tr>\n",
       "            <td>1940</td> <td>Cancer                 </td> <td>187.8                  </td>\n",
       "        </tr>\n",
       "        <tr>\n",
       "            <td>1940</td> <td>Stroke                 </td> <td>177.2                  </td>\n",
       "        </tr>\n",
       "        <tr>\n",
       "            <td>1940</td> <td>Accidents              </td> <td>76                     </td>\n",
       "        </tr>\n",
       "        <tr>\n",
       "            <td>1940</td> <td>Influenza and Pneumonia</td> <td>117.6                  </td>\n",
       "        </tr>\n",
       "        <tr>\n",
       "            <td>1939</td> <td>Heart Disease          </td> <td>534.5                  </td>\n",
       "        </tr>\n",
       "        <tr>\n",
       "            <td>1939</td> <td>Cancer                 </td> <td>187.1                  </td>\n",
       "        </tr>\n",
       "        <tr>\n",
       "            <td>1939</td> <td>Stroke                 </td> <td>173.2                  </td>\n",
       "        </tr>\n",
       "        <tr>\n",
       "            <td>1939</td> <td>Accidents              </td> <td>74.7                   </td>\n",
       "        </tr>\n",
       "        <tr>\n",
       "            <td>1939</td> <td>Influenza and Pneumonia</td> <td>124.4                  </td>\n",
       "        </tr>\n",
       "        <tr>\n",
       "            <td>1938</td> <td>Heart Disease          </td> <td>528.9                  </td>\n",
       "        </tr>\n",
       "        <tr>\n",
       "            <td>1938</td> <td>Cancer                 </td> <td>185.7                  </td>\n",
       "        </tr>\n",
       "        <tr>\n",
       "            <td>1938</td> <td>Stroke                 </td> <td>171.4                  </td>\n",
       "        </tr>\n",
       "        <tr>\n",
       "            <td>1938</td> <td>Accidents              </td> <td>76.5                   </td>\n",
       "        </tr>\n",
       "        <tr>\n",
       "            <td>1938</td> <td>Influenza and Pneumonia</td> <td>124.3                  </td>\n",
       "        </tr>\n",
       "        <tr>\n",
       "            <td>1937</td> <td>Heart Disease          </td> <td>538.8                  </td>\n",
       "        </tr>\n",
       "        <tr>\n",
       "            <td>1937</td> <td>Cancer                 </td> <td>184.6                  </td>\n",
       "        </tr>\n",
       "        <tr>\n",
       "            <td>1937</td> <td>Stroke                 </td> <td>176.6                  </td>\n",
       "        </tr>\n",
       "        <tr>\n",
       "            <td>1937</td> <td>Accidents              </td> <td>81.8                   </td>\n",
       "        </tr>\n",
       "        <tr>\n",
       "            <td>1937</td> <td>Influenza and Pneumonia</td> <td>181.8                  </td>\n",
       "        </tr>\n",
       "        <tr>\n",
       "            <td>1936</td> <td>Heart Disease          </td> <td>546.2                  </td>\n",
       "        </tr>\n",
       "        <tr>\n",
       "            <td>1936</td> <td>Cancer                 </td> <td>186.8                  </td>\n",
       "        </tr>\n",
       "        <tr>\n",
       "            <td>1936</td> <td>Stroke                 </td> <td>189.8                  </td>\n",
       "        </tr>\n",
       "        <tr>\n",
       "            <td>1936</td> <td>Accidents              </td> <td>92.4                   </td>\n",
       "        </tr>\n",
       "        <tr>\n",
       "            <td>1936</td> <td>Influenza and Pneumonia</td> <td>186.7                  </td>\n",
       "        </tr>\n",
       "        <tr>\n",
       "            <td>1935</td> <td>Heart Disease          </td> <td>506.8                  </td>\n",
       "        </tr>\n",
       "        <tr>\n",
       "            <td>1935</td> <td>Cancer                 </td> <td>183.4                  </td>\n",
       "        </tr>\n",
       "        <tr>\n",
       "            <td>1935</td> <td>Stroke                 </td> <td>181.2                  </td>\n",
       "        </tr>\n",
       "        <tr>\n",
       "            <td>1935</td> <td>Accidents              </td> <td>80.8                   </td>\n",
       "        </tr>\n",
       "        <tr>\n",
       "            <td>1935</td> <td>Influenza and Pneumonia</td> <td>163.8                  </td>\n",
       "        </tr>\n",
       "        <tr>\n",
       "            <td>1934</td> <td>Heart Disease          </td> <td>502.9                  </td>\n",
       "        </tr>\n",
       "        <tr>\n",
       "            <td>1934</td> <td>Cancer                 </td> <td>181.6                  </td>\n",
       "        </tr>\n",
       "        <tr>\n",
       "            <td>1934</td> <td>Stroke                 </td> <td>184.5                  </td>\n",
       "        </tr>\n",
       "        <tr>\n",
       "            <td>1934</td> <td>Accidents              </td> <td>82.7                   </td>\n",
       "        </tr>\n",
       "        <tr>\n",
       "            <td>1934</td> <td>Influenza and Pneumonia</td> <td>152.9                  </td>\n",
       "        </tr>\n",
       "        <tr>\n",
       "            <td>1933</td> <td>Heart Disease          </td> <td>483.8                  </td>\n",
       "        </tr>\n",
       "        <tr>\n",
       "            <td>1933</td> <td>Cancer                 </td> <td>178.2                  </td>\n",
       "        </tr>\n",
       "        <tr>\n",
       "            <td>1933</td> <td>Stroke                 </td> <td>185                    </td>\n",
       "        </tr>\n",
       "        <tr>\n",
       "            <td>1933</td> <td>Accidents              </td> <td>76.2                   </td>\n",
       "        </tr>\n",
       "        <tr>\n",
       "            <td>1933</td> <td>Influenza and Pneumonia</td> <td>156.5                  </td>\n",
       "        </tr>\n",
       "        <tr>\n",
       "            <td>1932</td> <td>Heart Disease          </td> <td>482.8                  </td>\n",
       "        </tr>\n",
       "        <tr>\n",
       "            <td>1932</td> <td>Cancer                 </td> <td>179.2                  </td>\n",
       "        </tr>\n",
       "        <tr>\n",
       "            <td>1932</td> <td>Stroke                 </td> <td>194.4                  </td>\n",
       "        </tr>\n",
       "        <tr>\n",
       "            <td>1932</td> <td>Accidents              </td> <td>76.6                   </td>\n",
       "        </tr>\n",
       "        <tr>\n",
       "            <td>1932</td> <td>Influenza and Pneumonia</td> <td>180                    </td>\n",
       "        </tr>\n",
       "        <tr>\n",
       "            <td>1931</td> <td>Heart Disease          </td> <td>459.6                  </td>\n",
       "        </tr>\n",
       "        <tr>\n",
       "            <td>1931</td> <td>Cancer                 </td> <td>175.8                  </td>\n",
       "        </tr>\n",
       "        <tr>\n",
       "            <td>1931</td> <td>Stroke                 </td> <td>195                    </td>\n",
       "        </tr>\n",
       "        <tr>\n",
       "            <td>1931</td> <td>Accidents              </td> <td>81.2                   </td>\n",
       "        </tr>\n",
       "        <tr>\n",
       "            <td>1931</td> <td>Influenza and Pneumonia</td> <td>170.2                  </td>\n",
       "        </tr>\n",
       "        <tr>\n",
       "            <td>1930</td> <td>Heart Disease          </td> <td>467.9                  </td>\n",
       "        </tr>\n",
       "        <tr>\n",
       "            <td>1930</td> <td>Cancer                 </td> <td>174.5                  </td>\n",
       "        </tr>\n",
       "        <tr>\n",
       "            <td>1930</td> <td>Stroke                 </td> <td>203.9                  </td>\n",
       "        </tr>\n",
       "        <tr>\n",
       "            <td>1930</td> <td>Accidents              </td> <td>84.2                   </td>\n",
       "        </tr>\n",
       "        <tr>\n",
       "            <td>1930</td> <td>Influenza and Pneumonia</td> <td>159.8                  </td>\n",
       "        </tr>\n",
       "        <tr>\n",
       "            <td>1929</td> <td>Heart Disease          </td> <td>476.2                  </td>\n",
       "        </tr>\n",
       "        <tr>\n",
       "            <td>1929</td> <td>Cancer                 </td> <td>175.3                  </td>\n",
       "        </tr>\n",
       "        <tr>\n",
       "            <td>1929</td> <td>Stroke                 </td> <td>213.3                  </td>\n",
       "        </tr>\n",
       "        <tr>\n",
       "            <td>1929</td> <td>Accidents              </td> <td>84.3                   </td>\n",
       "        </tr>\n",
       "        <tr>\n",
       "            <td>1929</td> <td>Influenza and Pneumonia</td> <td>247.5                  </td>\n",
       "        </tr>\n",
       "        <tr>\n",
       "            <td>1928</td> <td>Heart Disease          </td> <td>478.9                  </td>\n",
       "        </tr>\n",
       "        <tr>\n",
       "            <td>1928</td> <td>Cancer                 </td> <td>177.8                  </td>\n",
       "        </tr>\n",
       "        <tr>\n",
       "            <td>1928</td> <td>Stroke                 </td> <td>223.4                  </td>\n",
       "        </tr>\n",
       "        <tr>\n",
       "            <td>1928</td> <td>Accidents              </td> <td>86.1                   </td>\n",
       "        </tr>\n",
       "        <tr>\n",
       "            <td>1928</td> <td>Influenza and Pneumonia</td> <td>236.4                  </td>\n",
       "        </tr>\n",
       "        <tr>\n",
       "            <td>1927</td> <td>Heart Disease          </td> <td>448.8                  </td>\n",
       "        </tr>\n",
       "        <tr>\n",
       "            <td>1927</td> <td>Cancer                 </td> <td>177.8                  </td>\n",
       "        </tr>\n",
       "        <tr>\n",
       "            <td>1927</td> <td>Stroke                 </td> <td>216.3                  </td>\n",
       "        </tr>\n",
       "        <tr>\n",
       "            <td>1927</td> <td>Accidents              </td> <td>86.3                   </td>\n",
       "        </tr>\n",
       "        <tr>\n",
       "            <td>1927</td> <td>Influenza and Pneumonia</td> <td>164                    </td>\n",
       "        </tr>\n",
       "        <tr>\n",
       "            <td>1926</td> <td>Heart Disease          </td> <td>465.7                  </td>\n",
       "        </tr>\n",
       "        <tr>\n",
       "            <td>1926</td> <td>Cancer                 </td> <td>177.3                  </td>\n",
       "        </tr>\n",
       "        <tr>\n",
       "            <td>1926</td> <td>Stroke                 </td> <td>228.2                  </td>\n",
       "        </tr>\n",
       "        <tr>\n",
       "            <td>1926</td> <td>Accidents              </td> <td>89.8                   </td>\n",
       "        </tr>\n",
       "        <tr>\n",
       "            <td>1926</td> <td>Influenza and Pneumonia</td> <td>233                    </td>\n",
       "        </tr>\n",
       "        <tr>\n",
       "            <td>1925</td> <td>Heart Disease          </td> <td>433.8                  </td>\n",
       "        </tr>\n",
       "        <tr>\n",
       "            <td>1925</td> <td>Cancer                 </td> <td>174.3                  </td>\n",
       "        </tr>\n",
       "        <tr>\n",
       "            <td>1925</td> <td>Stroke                 </td> <td>227.9                  </td>\n",
       "        </tr>\n",
       "        <tr>\n",
       "            <td>1925</td> <td>Accidents              </td> <td>92.2                   </td>\n",
       "        </tr>\n",
       "        <tr>\n",
       "            <td>1925</td> <td>Influenza and Pneumonia</td> <td>198.1                  </td>\n",
       "        </tr>\n",
       "        <tr>\n",
       "            <td>1924</td> <td>Heart Disease          </td> <td>410.5                  </td>\n",
       "        </tr>\n",
       "        <tr>\n",
       "            <td>1924</td> <td>Cancer                 </td> <td>170.6                  </td>\n",
       "        </tr>\n",
       "        <tr>\n",
       "            <td>1924</td> <td>Stroke                 </td> <td>246.4                  </td>\n",
       "        </tr>\n",
       "        <tr>\n",
       "            <td>1924</td> <td>Accidents              </td> <td>89.6                   </td>\n",
       "        </tr>\n",
       "        <tr>\n",
       "            <td>1924</td> <td>Influenza and Pneumonia</td> <td>182                    </td>\n",
       "        </tr>\n",
       "        <tr>\n",
       "            <td>1923</td> <td>Heart Disease          </td> <td>410.3                  </td>\n",
       "        </tr>\n",
       "        <tr>\n",
       "            <td>1923</td> <td>Cancer                 </td> <td>168.8                  </td>\n",
       "        </tr>\n",
       "        <tr>\n",
       "            <td>1923</td> <td>Stroke                 </td> <td>245.6                  </td>\n",
       "        </tr>\n",
       "        <tr>\n",
       "            <td>1923</td> <td>Accidents              </td> <td>91.2                   </td>\n",
       "        </tr>\n",
       "        <tr>\n",
       "            <td>1923</td> <td>Influenza and Pneumonia</td> <td>253                    </td>\n",
       "        </tr>\n",
       "        <tr>\n",
       "            <td>1922</td> <td>Heart Disease          </td> <td>392.1                  </td>\n",
       "        </tr>\n",
       "        <tr>\n",
       "            <td>1922</td> <td>Cancer                 </td> <td>165.6                  </td>\n",
       "        </tr>\n",
       "        <tr>\n",
       "            <td>1922</td> <td>Stroke                 </td> <td>238.9                  </td>\n",
       "        </tr>\n",
       "        <tr>\n",
       "            <td>1922</td> <td>Accidents              </td> <td>85.4                   </td>\n",
       "        </tr>\n",
       "        <tr>\n",
       "            <td>1922</td> <td>Influenza and Pneumonia</td> <td>207.6                  </td>\n",
       "        </tr>\n",
       "        <tr>\n",
       "            <td>1921</td> <td>Heart Disease          </td> <td>366.2                  </td>\n",
       "        </tr>\n",
       "        <tr>\n",
       "            <td>1921</td> <td>Cancer                 </td> <td>163.5                  </td>\n",
       "        </tr>\n",
       "        <tr>\n",
       "            <td>1921</td> <td>Stroke                 </td> <td>230.1                  </td>\n",
       "        </tr>\n",
       "        <tr>\n",
       "            <td>1921</td> <td>Accidents              </td> <td>83.2                   </td>\n",
       "        </tr>\n",
       "        <tr>\n",
       "            <td>1921</td> <td>Influenza and Pneumonia</td> <td>153.1                  </td>\n",
       "        </tr>\n",
       "        <tr>\n",
       "            <td>1920</td> <td>Heart Disease          </td> <td>375                    </td>\n",
       "        </tr>\n",
       "        <tr>\n",
       "            <td>1920</td> <td>Cancer                 </td> <td>159                    </td>\n",
       "        </tr>\n",
       "        <tr>\n",
       "            <td>1920</td> <td>Stroke                 </td> <td>238.5                  </td>\n",
       "        </tr>\n",
       "        <tr>\n",
       "            <td>1920</td> <td>Accidents              </td> <td>87.5                   </td>\n",
       "        </tr>\n",
       "        <tr>\n",
       "            <td>1920</td> <td>Influenza and Pneumonia</td> <td>279.2                  </td>\n",
       "        </tr>\n",
       "        <tr>\n",
       "            <td>1919</td> <td>Heart Disease          </td> <td>335.7                  </td>\n",
       "        </tr>\n",
       "        <tr>\n",
       "            <td>1919</td> <td>Cancer                 </td> <td>152.1                  </td>\n",
       "        </tr>\n",
       "        <tr>\n",
       "            <td>1919</td> <td>Stroke                 </td> <td>225.6                  </td>\n",
       "        </tr>\n",
       "        <tr>\n",
       "            <td>1919</td> <td>Accidents              </td> <td>86.9                   </td>\n",
       "        </tr>\n",
       "        <tr>\n",
       "            <td>1919</td> <td>Influenza and Pneumonia</td> <td>270.9                  </td>\n",
       "        </tr>\n",
       "        <tr>\n",
       "            <td>1918</td> <td>Heart Disease          </td> <td>366.2                  </td>\n",
       "        </tr>\n",
       "        <tr>\n",
       "            <td>1918</td> <td>Cancer                 </td> <td>148.4                  </td>\n",
       "        </tr>\n",
       "        <tr>\n",
       "            <td>1918</td> <td>Stroke                 </td> <td>228                    </td>\n",
       "        </tr>\n",
       "        <tr>\n",
       "            <td>1918</td> <td>Accidents              </td> <td>99.9                   </td>\n",
       "        </tr>\n",
       "        <tr>\n",
       "            <td>1918</td> <td>Influenza and Pneumonia</td> <td>612.4                  </td>\n",
       "        </tr>\n",
       "        <tr>\n",
       "            <td>1917</td> <td>Heart Disease          </td> <td>377.9                  </td>\n",
       "        </tr>\n",
       "        <tr>\n",
       "            <td>1917</td> <td>Cancer                 </td> <td>150.7                  </td>\n",
       "        </tr>\n",
       "        <tr>\n",
       "            <td>1917</td> <td>Stroke                 </td> <td>238.2                  </td>\n",
       "        </tr>\n",
       "        <tr>\n",
       "            <td>1917</td> <td>Accidents              </td> <td>107                    </td>\n",
       "        </tr>\n",
       "        <tr>\n",
       "            <td>1917</td> <td>Influenza and Pneumonia</td> <td>267                    </td>\n",
       "        </tr>\n",
       "        <tr>\n",
       "            <td>1916</td> <td>Heart Disease          </td> <td>373.3                  </td>\n",
       "        </tr>\n",
       "        <tr>\n",
       "            <td>1916</td> <td>Cancer                 </td> <td>152.2                  </td>\n",
       "        </tr>\n",
       "        <tr>\n",
       "            <td>1916</td> <td>Stroke                 </td> <td>235.7                  </td>\n",
       "        </tr>\n",
       "        <tr>\n",
       "            <td>1916</td> <td>Accidents              </td> <td>104.3                  </td>\n",
       "        </tr>\n",
       "        <tr>\n",
       "            <td>1916</td> <td>Influenza and Pneumonia</td> <td>278.5                  </td>\n",
       "        </tr>\n",
       "        <tr>\n",
       "            <td>1915</td> <td>Heart Disease          </td> <td>361.5                  </td>\n",
       "        </tr>\n",
       "        <tr>\n",
       "            <td>1915</td> <td>Cancer                 </td> <td>149.5                  </td>\n",
       "        </tr>\n",
       "        <tr>\n",
       "            <td>1915</td> <td>Stroke                 </td> <td>234.5                  </td>\n",
       "        </tr>\n",
       "        <tr>\n",
       "            <td>1915</td> <td>Accidents              </td> <td>95.2                   </td>\n",
       "        </tr>\n",
       "        <tr>\n",
       "            <td>1915</td> <td>Influenza and Pneumonia</td> <td>238.1                  </td>\n",
       "        </tr>\n",
       "        <tr>\n",
       "            <td>1914</td> <td>Heart Disease          </td> <td>346.4                  </td>\n",
       "        </tr>\n",
       "        <tr>\n",
       "            <td>1914</td> <td>Cancer                 </td> <td>146.6                  </td>\n",
       "        </tr>\n",
       "        <tr>\n",
       "            <td>1914</td> <td>Stroke                 </td> <td>231.3                  </td>\n",
       "        </tr>\n",
       "        <tr>\n",
       "            <td>1914</td> <td>Accidents              </td> <td>100.4                  </td>\n",
       "        </tr>\n",
       "        <tr>\n",
       "            <td>1914</td> <td>Influenza and Pneumonia</td> <td>202.4                  </td>\n",
       "        </tr>\n",
       "        <tr>\n",
       "            <td>1913</td> <td>Heart Disease          </td> <td>337.9                  </td>\n",
       "        </tr>\n",
       "        <tr>\n",
       "            <td>1913</td> <td>Cancer                 </td> <td>147.8                  </td>\n",
       "        </tr>\n",
       "        <tr>\n",
       "            <td>1913</td> <td>Stroke                 </td> <td>226.9                  </td>\n",
       "        </tr>\n",
       "        <tr>\n",
       "            <td>1913</td> <td>Accidents              </td> <td>108.2                  </td>\n",
       "        </tr>\n",
       "        <tr>\n",
       "            <td>1913</td> <td>Influenza and Pneumonia</td> <td>214.8                  </td>\n",
       "        </tr>\n",
       "        <tr>\n",
       "            <td>1912</td> <td>Heart Disease          </td> <td>346                    </td>\n",
       "        </tr>\n",
       "        <tr>\n",
       "            <td>1912</td> <td>Cancer                 </td> <td>144.7                  </td>\n",
       "        </tr>\n",
       "        <tr>\n",
       "            <td>1912</td> <td>Stroke                 </td> <td>228.7                  </td>\n",
       "        </tr>\n",
       "        <tr>\n",
       "            <td>1912</td> <td>Accidents              </td> <td>107.1                  </td>\n",
       "        </tr>\n",
       "        <tr>\n",
       "            <td>1912</td> <td>Influenza and Pneumonia</td> <td>213.7                  </td>\n",
       "        </tr>\n",
       "        <tr>\n",
       "            <td>1911</td> <td>Heart Disease          </td> <td>341.8                  </td>\n",
       "        </tr>\n",
       "        <tr>\n",
       "            <td>1911</td> <td>Cancer                 </td> <td>140.4                  </td>\n",
       "        </tr>\n",
       "        <tr>\n",
       "            <td>1911</td> <td>Stroke                 </td> <td>230.2                  </td>\n",
       "        </tr>\n",
       "        <tr>\n",
       "            <td>1911</td> <td>Accidents              </td> <td>113.5                  </td>\n",
       "        </tr>\n",
       "        <tr>\n",
       "            <td>1911</td> <td>Influenza and Pneumonia</td> <td>234.1                  </td>\n",
       "        </tr>\n",
       "        <tr>\n",
       "            <td>1910</td> <td>Heart Disease          </td> <td>345.1                  </td>\n",
       "        </tr>\n",
       "        <tr>\n",
       "            <td>1910</td> <td>Cancer                 </td> <td>143.1                  </td>\n",
       "        </tr>\n",
       "        <tr>\n",
       "            <td>1910</td> <td>Stroke                 </td> <td>238.5                  </td>\n",
       "        </tr>\n",
       "        <tr>\n",
       "            <td>1910</td> <td>Accidents              </td> <td>111.2                  </td>\n",
       "        </tr>\n",
       "        <tr>\n",
       "            <td>1910</td> <td>Influenza and Pneumonia</td> <td>238.4                  </td>\n",
       "        </tr>\n",
       "        <tr>\n",
       "            <td>1909</td> <td>Heart Disease          </td> <td>329.2                  </td>\n",
       "        </tr>\n",
       "        <tr>\n",
       "            <td>1909</td> <td>Cancer                 </td> <td>138.1                  </td>\n",
       "        </tr>\n",
       "        <tr>\n",
       "            <td>1909</td> <td>Stroke                 </td> <td>237.5                  </td>\n",
       "        </tr>\n",
       "        <tr>\n",
       "            <td>1909</td> <td>Accidents              </td> <td>108                    </td>\n",
       "        </tr>\n",
       "        <tr>\n",
       "            <td>1909</td> <td>Influenza and Pneumonia</td> <td>221.2                  </td>\n",
       "        </tr>\n",
       "        <tr>\n",
       "            <td>1908</td> <td>Heart Disease          </td> <td>328.6                  </td>\n",
       "        </tr>\n",
       "        <tr>\n",
       "            <td>1908</td> <td>Cancer                 </td> <td>134.5                  </td>\n",
       "        </tr>\n",
       "        <tr>\n",
       "            <td>1908</td> <td>Stroke                 </td> <td>239                    </td>\n",
       "        </tr>\n",
       "        <tr>\n",
       "            <td>1908</td> <td>Accidents              </td> <td>108.8                  </td>\n",
       "        </tr>\n",
       "        <tr>\n",
       "            <td>1908</td> <td>Influenza and Pneumonia</td> <td>234.6                  </td>\n",
       "        </tr>\n",
       "        <tr>\n",
       "            <td>1907</td> <td>Heart Disease          </td> <td>356.5                  </td>\n",
       "        </tr>\n",
       "        <tr>\n",
       "            <td>1907</td> <td>Cancer                 </td> <td>133                    </td>\n",
       "        </tr>\n",
       "        <tr>\n",
       "            <td>1907</td> <td>Stroke                 </td> <td>261.8                  </td>\n",
       "        </tr>\n",
       "        <tr>\n",
       "            <td>1907</td> <td>Accidents              </td> <td>122.3                  </td>\n",
       "        </tr>\n",
       "        <tr>\n",
       "            <td>1907</td> <td>Influenza and Pneumonia</td> <td>285.4                  </td>\n",
       "        </tr>\n",
       "        <tr>\n",
       "            <td>1906</td> <td>Heart Disease          </td> <td>325.5                  </td>\n",
       "        </tr>\n",
       "        <tr>\n",
       "            <td>1906</td> <td>Cancer                 </td> <td>128.8                  </td>\n",
       "        </tr>\n",
       "        <tr>\n",
       "            <td>1906</td> <td>Stroke                 </td> <td>245.9                  </td>\n",
       "        </tr>\n",
       "        <tr>\n",
       "            <td>1906</td> <td>Accidents              </td> <td>121.2                  </td>\n",
       "        </tr>\n",
       "        <tr>\n",
       "            <td>1906</td> <td>Influenza and Pneumonia</td> <td>222.5                  </td>\n",
       "        </tr>\n",
       "        <tr>\n",
       "            <td>1905</td> <td>Heart Disease          </td> <td>327.8                  </td>\n",
       "        </tr>\n",
       "        <tr>\n",
       "            <td>1905</td> <td>Cancer                 </td> <td>132.5                  </td>\n",
       "        </tr>\n",
       "        <tr>\n",
       "            <td>1905</td> <td>Stroke                 </td> <td>247.3                  </td>\n",
       "        </tr>\n",
       "        <tr>\n",
       "            <td>1905</td> <td>Accidents              </td> <td>108.5                  </td>\n",
       "        </tr>\n",
       "        <tr>\n",
       "            <td>1905</td> <td>Influenza and Pneumonia</td> <td>257.8                  </td>\n",
       "        </tr>\n",
       "        <tr>\n",
       "            <td>1904</td> <td>Heart Disease          </td> <td>331.5                  </td>\n",
       "        </tr>\n",
       "        <tr>\n",
       "            <td>1904</td> <td>Cancer                 </td> <td>127.9                  </td>\n",
       "        </tr>\n",
       "        <tr>\n",
       "            <td>1904</td> <td>Stroke                 </td> <td>255.2                  </td>\n",
       "        </tr>\n",
       "        <tr>\n",
       "            <td>1904</td> <td>Accidents              </td> <td>112.8                  </td>\n",
       "        </tr>\n",
       "        <tr>\n",
       "            <td>1904</td> <td>Influenza and Pneumonia</td> <td>291.2                  </td>\n",
       "        </tr>\n",
       "        <tr>\n",
       "            <td>1903</td> <td>Heart Disease          </td> <td>304.5                  </td>\n",
       "        </tr>\n",
       "        <tr>\n",
       "            <td>1903</td> <td>Cancer                 </td> <td>125.2                  </td>\n",
       "        </tr>\n",
       "        <tr>\n",
       "            <td>1903</td> <td>Stroke                 </td> <td>244.6                  </td>\n",
       "        </tr>\n",
       "        <tr>\n",
       "            <td>1903</td> <td>Accidents              </td> <td>106.9                  </td>\n",
       "        </tr>\n",
       "        <tr>\n",
       "            <td>1903</td> <td>Influenza and Pneumonia</td> <td>251.1                  </td>\n",
       "        </tr>\n",
       "        <tr>\n",
       "            <td>1902</td> <td>Heart Disease          </td> <td>285.2                  </td>\n",
       "        </tr>\n",
       "        <tr>\n",
       "            <td>1902</td> <td>Cancer                 </td> <td>119.7                  </td>\n",
       "        </tr>\n",
       "        <tr>\n",
       "            <td>1902</td> <td>Stroke                 </td> <td>237.8                  </td>\n",
       "        </tr>\n",
       "        <tr>\n",
       "            <td>1902</td> <td>Accidents              </td> <td>93.6                   </td>\n",
       "        </tr>\n",
       "        <tr>\n",
       "            <td>1902</td> <td>Influenza and Pneumonia</td> <td>219.3                  </td>\n",
       "        </tr>\n",
       "        <tr>\n",
       "            <td>1901</td> <td>Heart Disease          </td> <td>272.6                  </td>\n",
       "        </tr>\n",
       "        <tr>\n",
       "            <td>1901</td> <td>Cancer                 </td> <td>118.1                  </td>\n",
       "        </tr>\n",
       "        <tr>\n",
       "            <td>1901</td> <td>Stroke                 </td> <td>243.6                  </td>\n",
       "        </tr>\n",
       "        <tr>\n",
       "            <td>1901</td> <td>Accidents              </td> <td>109.3                  </td>\n",
       "        </tr>\n",
       "        <tr>\n",
       "            <td>1901</td> <td>Influenza and Pneumonia</td> <td>312.9                  </td>\n",
       "        </tr>\n",
       "        <tr>\n",
       "            <td>1900</td> <td>Heart Disease          </td> <td>265.4                  </td>\n",
       "        </tr>\n",
       "        <tr>\n",
       "            <td>1900</td> <td>Cancer                 </td> <td>114.8                  </td>\n",
       "        </tr>\n",
       "        <tr>\n",
       "            <td>1900</td> <td>Stroke                 </td> <td>244.2                  </td>\n",
       "        </tr>\n",
       "        <tr>\n",
       "            <td>1900</td> <td>Accidents              </td> <td>90.3                   </td>\n",
       "        </tr>\n",
       "        <tr>\n",
       "            <td>1900</td> <td>Influenza and Pneumonia</td> <td>297.5                  </td>\n",
       "        </tr>\n",
       "    </tbody>\n",
       "</table>"
      ],
      "text/plain": [
       "<IPython.core.display.HTML object>"
      ]
     },
     "metadata": {},
     "output_type": "display_data"
    }
   ],
   "source": [
    "causes_of_death = Table.read_table('causes_of_death.csv')\n",
    "causes_of_death.show()"
   ]
  },
  {
   "cell_type": "markdown",
   "metadata": {},
   "source": [
    "Each entry in the column **Age Adjusted Death Rate** is a death rate for a specific **Year** and **Cause** of death. \n",
    "\n",
    "If we look at unadjusted data, the age distributions of each sample will influence death rates. In an older population, we would expect death rates to be higher for all causes since old age is associated with higher risk of death. To compare death rates without worrying about differences in the demographics of our populations, we adjust the data for age.\n",
    "\n",
    "The **Age Adjusted** specification in the death rate column tells us that the values shown are the death rates that would have existed if the population under study in a specific year had the same age distribution as the \"standard\" population, a baseline. \n",
    "\n",
    "You aren't responsible for knowing how to do this adjustment, but should understand why we adjust for age and what the consequences of working with unadjusted data would be. "
   ]
  },
  {
   "cell_type": "markdown",
   "metadata": {},
   "source": [
    "**Question 1.** What are all the different causes of death in this dataset? Assign an array of all the unique causes of death to `all_unique_causes`.\n"
   ]
  },
  {
   "cell_type": "code",
   "execution_count": 70,
   "metadata": {},
   "outputs": [
    {
     "data": {
      "text/html": [
       "<table border=\"1\" class=\"dataframe\">\n",
       "    <thead>\n",
       "        <tr>\n",
       "            <th>Cause</th> <th>count</th>\n",
       "        </tr>\n",
       "    </thead>\n",
       "    <tbody>\n",
       "        <tr>\n",
       "            <td>Accidents              </td> <td>116  </td>\n",
       "        </tr>\n",
       "        <tr>\n",
       "            <td>Cancer                 </td> <td>116  </td>\n",
       "        </tr>\n",
       "        <tr>\n",
       "            <td>Heart Disease          </td> <td>116  </td>\n",
       "        </tr>\n",
       "        <tr>\n",
       "            <td>Influenza and Pneumonia</td> <td>116  </td>\n",
       "        </tr>\n",
       "        <tr>\n",
       "            <td>Stroke                 </td> <td>116  </td>\n",
       "        </tr>\n",
       "    </tbody>\n",
       "</table>"
      ],
      "text/plain": [
       "Cause                   | count\n",
       "Accidents               | 116\n",
       "Cancer                  | 116\n",
       "Heart Disease           | 116\n",
       "Influenza and Pneumonia | 116\n",
       "Stroke                  | 116"
      ]
     },
     "execution_count": 70,
     "metadata": {},
     "output_type": "execute_result"
    }
   ],
   "source": [
    "test=causes_of_death.group(1)\n",
    "test"
   ]
  },
  {
   "cell_type": "code",
   "execution_count": 71,
   "metadata": {
    "deletable": false,
    "manual_problem_id": "part_1_unique_causes"
   },
   "outputs": [
    {
     "data": {
      "text/plain": [
       "['Accidents', 'Cancer', 'Heart Disease', 'Influenza and Pneumonia', 'Stroke']"
      ]
     },
     "execution_count": 71,
     "metadata": {},
     "output_type": "execute_result"
    }
   ],
   "source": [
    "all_unique_causes = causes_of_death.group(1).column(0)\n",
    "sorted(all_unique_causes)"
   ]
  },
  {
   "cell_type": "markdown",
   "metadata": {},
   "source": [
    "**Question 2.** Find the year and the cause for the highest Age Adjusted Death Rate in the data. You should create a table that contains the Year, Cause and Age Adjusted Death Rate for the highest Age Adjusted Death Rate and assign it to `highest_age_adjusted_death_rate`."
   ]
  },
  {
   "cell_type": "code",
   "execution_count": 106,
   "metadata": {},
   "outputs": [
    {
     "data": {
      "text/html": [
       "<table border=\"1\" class=\"dataframe\">\n",
       "    <thead>\n",
       "        <tr>\n",
       "            <th>Year</th> <th>Cause</th> <th>Age Adjusted Death Rate</th>\n",
       "        </tr>\n",
       "    </thead>\n",
       "    <tbody>\n",
       "        <tr>\n",
       "            <td>1918</td> <td>Influenza and Pneumonia</td> <td>612.4                  </td>\n",
       "        </tr>\n",
       "        <tr>\n",
       "            <td>1950</td> <td>Heart Disease          </td> <td>588.8                  </td>\n",
       "        </tr>\n",
       "        <tr>\n",
       "            <td>1949</td> <td>Heart Disease          </td> <td>581                    </td>\n",
       "        </tr>\n",
       "        <tr>\n",
       "            <td>1951</td> <td>Heart Disease          </td> <td>577.9                  </td>\n",
       "        </tr>\n",
       "        <tr>\n",
       "            <td>1953</td> <td>Heart Disease          </td> <td>570.1                  </td>\n",
       "        </tr>\n",
       "        <tr>\n",
       "            <td>1952</td> <td>Heart Disease          </td> <td>568.8                  </td>\n",
       "        </tr>\n",
       "        <tr>\n",
       "            <td>1957</td> <td>Heart Disease          </td> <td>568.5                  </td>\n",
       "        </tr>\n",
       "        <tr>\n",
       "            <td>1943</td> <td>Heart Disease          </td> <td>567.5                  </td>\n",
       "        </tr>\n",
       "        <tr>\n",
       "            <td>1958</td> <td>Heart Disease          </td> <td>563.6                  </td>\n",
       "        </tr>\n",
       "        <tr>\n",
       "            <td>1963</td> <td>Heart Disease          </td> <td>563.4                  </td>\n",
       "        </tr>\n",
       "    </tbody>\n",
       "</table>\n",
       "<p>... (570 rows omitted)</p>"
      ],
      "text/plain": [
       "Year | Cause                   | Age Adjusted Death Rate\n",
       "1918 | Influenza and Pneumonia | 612.4\n",
       "1950 | Heart Disease           | 588.8\n",
       "1949 | Heart Disease           | 581\n",
       "1951 | Heart Disease           | 577.9\n",
       "1953 | Heart Disease           | 570.1\n",
       "1952 | Heart Disease           | 568.8\n",
       "1957 | Heart Disease           | 568.5\n",
       "1943 | Heart Disease           | 567.5\n",
       "1958 | Heart Disease           | 563.6\n",
       "1963 | Heart Disease           | 563.4\n",
       "... (570 rows omitted)"
      ]
     },
     "execution_count": 106,
     "metadata": {},
     "output_type": "execute_result"
    }
   ],
   "source": [
    "test=causes_of_death.sort(2,descending=True)\n",
    "test"
   ]
  },
  {
   "cell_type": "code",
   "execution_count": 354,
   "metadata": {},
   "outputs": [
    {
     "data": {
      "text/html": [
       "<table border=\"1\" class=\"dataframe\">\n",
       "    <thead>\n",
       "        <tr>\n",
       "            <th>Year</th> <th>Cause</th> <th>Age Adjusted Death Rate</th>\n",
       "        </tr>\n",
       "    </thead>\n",
       "    <tbody>\n",
       "        <tr>\n",
       "            <td>1918</td> <td>Influenza and Pneumonia</td> <td>612.4                  </td>\n",
       "        </tr>\n",
       "    </tbody>\n",
       "</table>"
      ],
      "text/plain": [
       "Year | Cause                   | Age Adjusted Death Rate\n",
       "1918 | Influenza and Pneumonia | 612.4"
      ]
     },
     "execution_count": 354,
     "metadata": {},
     "output_type": "execute_result"
    }
   ],
   "source": [
    "highest_age_adjusted_death_rate =causes_of_death.sort(2,descending=True).take(0)\n",
    "highest_age_adjusted_death_rate \n"
   ]
  },
  {
   "cell_type": "markdown",
   "metadata": {},
   "source": [
    "**Question 3** We would like to plot the death rate for each disease over time. To do so, we must create a table with one column for each cause and one row for each year.\n",
    "\n",
    "Create a table called `causes_for_plotting`. It should have one column called `Year`, and then a column with age-adjusted death rates for each of the causes you found in Question 1. There should be as many of these columns in `causes_for_plotting` as there are causes in Question 1.\n",
    "\n",
    "*Hint*: Use `pivot`, and think about how the `first` function might be useful in getting the **Age Adjusted Death Rate** for each cause and year combination.\n"
   ]
  },
  {
   "cell_type": "code",
   "execution_count": 102,
   "metadata": {},
   "outputs": [
    {
     "data": {
      "text/html": [
       "<table border=\"1\" class=\"dataframe\">\n",
       "    <thead>\n",
       "        <tr>\n",
       "            <th>Year</th> <th>Accidents</th> <th>Cancer</th> <th>Heart Disease</th> <th>Influenza and Pneumonia</th> <th>Stroke</th>\n",
       "        </tr>\n",
       "    </thead>\n",
       "    <tbody>\n",
       "        <tr>\n",
       "            <td>1900</td> <td>90.3     </td> <td>114.8 </td> <td>265.4        </td> <td>297.5                  </td> <td>244.2 </td>\n",
       "        </tr>\n",
       "        <tr>\n",
       "            <td>1901</td> <td>109.3    </td> <td>118.1 </td> <td>272.6        </td> <td>312.9                  </td> <td>243.6 </td>\n",
       "        </tr>\n",
       "        <tr>\n",
       "            <td>1902</td> <td>93.6     </td> <td>119.7 </td> <td>285.2        </td> <td>219.3                  </td> <td>237.8 </td>\n",
       "        </tr>\n",
       "        <tr>\n",
       "            <td>1903</td> <td>106.9    </td> <td>125.2 </td> <td>304.5        </td> <td>251.1                  </td> <td>244.6 </td>\n",
       "        </tr>\n",
       "        <tr>\n",
       "            <td>1904</td> <td>112.8    </td> <td>127.9 </td> <td>331.5        </td> <td>291.2                  </td> <td>255.2 </td>\n",
       "        </tr>\n",
       "        <tr>\n",
       "            <td>1905</td> <td>108.5    </td> <td>132.5 </td> <td>327.8        </td> <td>257.8                  </td> <td>247.3 </td>\n",
       "        </tr>\n",
       "        <tr>\n",
       "            <td>1906</td> <td>121.2    </td> <td>128.8 </td> <td>325.5        </td> <td>222.5                  </td> <td>245.9 </td>\n",
       "        </tr>\n",
       "        <tr>\n",
       "            <td>1907</td> <td>122.3    </td> <td>133   </td> <td>356.5        </td> <td>285.4                  </td> <td>261.8 </td>\n",
       "        </tr>\n",
       "        <tr>\n",
       "            <td>1908</td> <td>108.8    </td> <td>134.5 </td> <td>328.6        </td> <td>234.6                  </td> <td>239   </td>\n",
       "        </tr>\n",
       "        <tr>\n",
       "            <td>1909</td> <td>108      </td> <td>138.1 </td> <td>329.2        </td> <td>221.2                  </td> <td>237.5 </td>\n",
       "        </tr>\n",
       "    </tbody>\n",
       "</table>\n",
       "<p>... (106 rows omitted)</p>"
      ],
      "text/plain": [
       "Year | Accidents | Cancer | Heart Disease | Influenza and Pneumonia | Stroke\n",
       "1900 | 90.3      | 114.8  | 265.4         | 297.5                   | 244.2\n",
       "1901 | 109.3     | 118.1  | 272.6         | 312.9                   | 243.6\n",
       "1902 | 93.6      | 119.7  | 285.2         | 219.3                   | 237.8\n",
       "1903 | 106.9     | 125.2  | 304.5         | 251.1                   | 244.6\n",
       "1904 | 112.8     | 127.9  | 331.5         | 291.2                   | 255.2\n",
       "1905 | 108.5     | 132.5  | 327.8         | 257.8                   | 247.3\n",
       "1906 | 121.2     | 128.8  | 325.5         | 222.5                   | 245.9\n",
       "1907 | 122.3     | 133    | 356.5         | 285.4                   | 261.8\n",
       "1908 | 108.8     | 134.5  | 328.6         | 234.6                   | 239\n",
       "1909 | 108       | 138.1  | 329.2         | 221.2                   | 237.5\n",
       "... (106 rows omitted)"
      ]
     },
     "execution_count": 102,
     "metadata": {},
     "output_type": "execute_result"
    }
   ],
   "source": [
    "test=causes_of_death.pivot(1,0,2,collect =max)\n",
    "test"
   ]
  },
  {
   "cell_type": "code",
   "execution_count": 111,
   "metadata": {},
   "outputs": [
    {
     "data": {
      "text/html": [
       "<table border=\"1\" class=\"dataframe\">\n",
       "    <thead>\n",
       "        <tr>\n",
       "            <th>Year</th> <th>Cause</th> <th>Age Adjusted Death Rate</th>\n",
       "        </tr>\n",
       "    </thead>\n",
       "    <tbody>\n",
       "        <tr>\n",
       "            <td>1900</td> <td>Heart Disease          </td> <td>265.4                  </td>\n",
       "        </tr>\n",
       "        <tr>\n",
       "            <td>1900</td> <td>Cancer                 </td> <td>114.8                  </td>\n",
       "        </tr>\n",
       "        <tr>\n",
       "            <td>1900</td> <td>Stroke                 </td> <td>244.2                  </td>\n",
       "        </tr>\n",
       "        <tr>\n",
       "            <td>1900</td> <td>Accidents              </td> <td>90.3                   </td>\n",
       "        </tr>\n",
       "        <tr>\n",
       "            <td>1900</td> <td>Influenza and Pneumonia</td> <td>297.5                  </td>\n",
       "        </tr>\n",
       "        <tr>\n",
       "            <td>1901</td> <td>Heart Disease          </td> <td>272.6                  </td>\n",
       "        </tr>\n",
       "        <tr>\n",
       "            <td>1901</td> <td>Cancer                 </td> <td>118.1                  </td>\n",
       "        </tr>\n",
       "        <tr>\n",
       "            <td>1901</td> <td>Stroke                 </td> <td>243.6                  </td>\n",
       "        </tr>\n",
       "        <tr>\n",
       "            <td>1901</td> <td>Accidents              </td> <td>109.3                  </td>\n",
       "        </tr>\n",
       "        <tr>\n",
       "            <td>1901</td> <td>Influenza and Pneumonia</td> <td>312.9                  </td>\n",
       "        </tr>\n",
       "    </tbody>\n",
       "</table>\n",
       "<p>... (570 rows omitted)</p>"
      ],
      "text/plain": [
       "Year | Cause                   | Age Adjusted Death Rate\n",
       "1900 | Heart Disease           | 265.4\n",
       "1900 | Cancer                  | 114.8\n",
       "1900 | Stroke                  | 244.2\n",
       "1900 | Accidents               | 90.3\n",
       "1900 | Influenza and Pneumonia | 297.5\n",
       "1901 | Heart Disease           | 272.6\n",
       "1901 | Cancer                  | 118.1\n",
       "1901 | Stroke                  | 243.6\n",
       "1901 | Accidents               | 109.3\n",
       "1901 | Influenza and Pneumonia | 312.9\n",
       "... (570 rows omitted)"
      ]
     },
     "execution_count": 111,
     "metadata": {},
     "output_type": "execute_result"
    }
   ],
   "source": [
    "test=causes_of_death.sort(0)\n",
    "test"
   ]
  },
  {
   "cell_type": "code",
   "execution_count": null,
   "metadata": {
    "deletable": false
   },
   "outputs": [],
   "source": [
    "# This function may be useful \n",
    "def first(x):\n",
    "    return x.item(0)\n",
    "#no need for this function"
   ]
  },
  {
   "cell_type": "code",
   "execution_count": 113,
   "metadata": {
    "deletable": false,
    "for_assignment_type": "student",
    "manual_problem_id": "part_1_plot_causes"
   },
   "outputs": [
    {
     "data": {
      "text/html": [
       "<table border=\"1\" class=\"dataframe\">\n",
       "    <thead>\n",
       "        <tr>\n",
       "            <th>Year</th> <th>Accidents</th> <th>Cancer</th> <th>Heart Disease</th> <th>Influenza and Pneumonia</th> <th>Stroke</th>\n",
       "        </tr>\n",
       "    </thead>\n",
       "    <tbody>\n",
       "        <tr>\n",
       "            <td>1900</td> <td>90.3     </td> <td>114.8 </td> <td>265.4        </td> <td>297.5                  </td> <td>244.2 </td>\n",
       "        </tr>\n",
       "        <tr>\n",
       "            <td>1901</td> <td>109.3    </td> <td>118.1 </td> <td>272.6        </td> <td>312.9                  </td> <td>243.6 </td>\n",
       "        </tr>\n",
       "        <tr>\n",
       "            <td>1902</td> <td>93.6     </td> <td>119.7 </td> <td>285.2        </td> <td>219.3                  </td> <td>237.8 </td>\n",
       "        </tr>\n",
       "        <tr>\n",
       "            <td>1903</td> <td>106.9    </td> <td>125.2 </td> <td>304.5        </td> <td>251.1                  </td> <td>244.6 </td>\n",
       "        </tr>\n",
       "        <tr>\n",
       "            <td>1904</td> <td>112.8    </td> <td>127.9 </td> <td>331.5        </td> <td>291.2                  </td> <td>255.2 </td>\n",
       "        </tr>\n",
       "    </tbody>\n",
       "</table>\n",
       "<p>... (111 rows omitted)</p>"
      ],
      "text/plain": [
       "<IPython.core.display.HTML object>"
      ]
     },
     "metadata": {},
     "output_type": "display_data"
    }
   ],
   "source": [
    "causes_for_plotting = causes_of_death.pivot(1,0,2,collect =max)\n",
    "causes_for_plotting.show(5)"
   ]
  },
  {
   "cell_type": "markdown",
   "metadata": {},
   "source": [
    "Let's take a look at how age-adjusted death rates have changed across different causes over time. Run the next cell to create a line plot to compare Heart Disease (a chronic disease) and Influenza and Pneumonia (infectious diseases)."
   ]
  },
  {
   "cell_type": "code",
   "execution_count": 114,
   "metadata": {},
   "outputs": [
    {
     "data": {
      "image/png": "[encoded data removed]",
      "text/plain": [
       "<Figure size 432x432 with 1 Axes>"
      ]
     },
     "metadata": {},
     "output_type": "display_data"
    }
   ],
   "source": [
    "causes_for_plotting.select('Year', \"Heart Disease\", \"Influenza and Pneumonia\").plot('Year')"
   ]
  },
  {
   "cell_type": "markdown",
   "metadata": {},
   "source": [
    "**Question 4.** Beginning in 1900, we observe that death rates for Influenza and Pneumonia decrease while death rates for Heart Disease increase. What might have caused this shift?\n",
    "\n",
    "Assign `disease_trend_explanation` to an array of integers that correspond to possible explanations for these trends.\n",
    "\n",
    "1. People are living longer, allowing more time for chronic conditions to develop. \n",
    "2. A cure has not been discovered for influenza, so people are still dying at high rates from the flu.\n",
    "3. Improvements in sanitation, hygiene, and nutrition have reduced the transmission of viruses and bacteria that cause infectious diseases.\n",
    "4. People are more active, putting them at lower risk for conditions like heart disease and diabetes.\n",
    "5. Widespread adoption of vaccinations has reduced rates of infectious disease.\n",
    "6. The medical community has became more aware of chronic conditions, leading to more people being diagnosed with heart disease.\n",
    "\n",
    "*Hint:* Consider what contributes to the development of these diseases. What decreases the transmission of infections? Why do we see more lifestyle-related conditions like heart disease?\n"
   ]
  },
  {
   "cell_type": "code",
   "execution_count": 120,
   "metadata": {},
   "outputs": [],
   "source": [
    "#influenza aşısı 1940\n",
    "#pnemonia aşısı 1977"
   ]
  },
  {
   "cell_type": "code",
   "execution_count": 121,
   "metadata": {
    "export_pdf": true
   },
   "outputs": [
    {
     "data": {
      "text/plain": [
       "[6, 5, 3, 1]"
      ]
     },
     "execution_count": 121,
     "metadata": {},
     "output_type": "execute_result"
    }
   ],
   "source": [
    "disease_trend_explanation = [6,5,3,1]\n",
    "disease_trend_explanation"
   ]
  },
  {
   "cell_type": "markdown",
   "metadata": {},
   "source": [
    "This phenomenon is known as the epidemiological transition - in developed countries, the severity of infectious disease has decreased, but chronic disease has become more widespread. Coronary heart disease (CHD) is one of the most deadly chronic diseases that has emerged in the past century, and more healthcare resources have been invested to studying it.\n",
    "\n",
    "Run the cell below to see what a plot of the data would have looked like had you been living in 1950. CHD was the leading cause of death and had killed millions of people without warning. It had become twice as lethal in just a few decades and people didn't understand why this was happening."
   ]
  },
  {
   "cell_type": "code",
   "execution_count": 122,
   "metadata": {},
   "outputs": [
    {
     "data": {
      "image/png": "[encoded data removed]",
      "text/plain": [
       "<Figure size 432x432 with 1 Axes>"
      ]
     },
     "metadata": {},
     "output_type": "display_data"
    }
   ],
   "source": [
    "# Do not change this line\n",
    "causes_for_plotting.where('Year', are.below_or_equal_to(1950)).plot('Year')"
   ]
  },
  {
   "cell_type": "markdown",
   "metadata": {},
   "source": [
    "The view from 2016 looks a lot less scary, however, since we know it eventually went down. The decline in CHD deaths is one of the greatest public health triumphs of the last half century. That decline represents many millions of saved lives, and it was not inevitable. The Framingham Heart Study, in particular, was the first to discover the associations between heart disease and risk factors like smoking, high cholesterol, high blood pressure, obesity, and lack of exercise."
   ]
  },
  {
   "cell_type": "code",
   "execution_count": 123,
   "metadata": {
    "for_assignment_type": "solution",
    "scrolled": true
   },
   "outputs": [
    {
     "data": {
      "image/png": "[encoded data removed]",
      "text/plain": [
       "<Figure size 432x432 with 1 Axes>"
      ]
     },
     "metadata": {},
     "output_type": "display_data"
    }
   ],
   "source": [
    "# Do not change this line\n",
    "causes_for_plotting.plot('Year')"
   ]
  },
  {
   "cell_type": "markdown",
   "metadata": {},
   "source": [
    "Let's examine the graph above. You'll see that in the 1960s, the death rate due to heart disease steadily declines. Up until then, the effects of smoking, blood pressure, and diet on the cardiovascular system were unknown to researchers. Once these factors started to be noticed, doctors were able recommend a lifestyle change for at-risk patients to prevent heart attacks and heart problems.\n",
    "\n",
    "Note, however, that the death rate for heart disease is still higher than the death rates of all other causes. Even though the death rate is starkly decreasing, there's still a lot we don't understand about the causes (both direct and indirect) of heart disease."
   ]
  },
  {
   "cell_type": "markdown",
   "metadata": {},
   "source": [
    "## 5. The Framingham Heart Study (20 points) \n",
    "The [Framingham Heart Study](https://en.wikipedia.org/wiki/Framingham_Heart_Study) is an observational study of cardiovascular health. The initial study followed over 5,000 volunteers for several decades, and followup studies even looked at their descendants. In this section, we'll investigate some of the study's key findings about cholesterol and heart disease.\n",
    "\n",
    "Run the cell below to examine data for almost 4,000 subjects from the first wave of the study, collected in 1956."
   ]
  },
  {
   "cell_type": "code",
   "execution_count": 124,
   "metadata": {},
   "outputs": [
    {
     "data": {
      "text/html": [
       "<table border=\"1\" class=\"dataframe\">\n",
       "    <thead>\n",
       "        <tr>\n",
       "            <th>AGE</th> <th>SYSBP</th> <th>DIABP</th> <th>TOTCHOL</th> <th>CURSMOKE</th> <th>DIABETES</th> <th>GLUCOSE</th> <th>DEATH</th> <th>ANYCHD</th>\n",
       "        </tr>\n",
       "    </thead>\n",
       "    <tbody>\n",
       "        <tr>\n",
       "            <td>39  </td> <td>106  </td> <td>70   </td> <td>195    </td> <td>0       </td> <td>0       </td> <td>77     </td> <td>0    </td> <td>1     </td>\n",
       "        </tr>\n",
       "        <tr>\n",
       "            <td>46  </td> <td>121  </td> <td>81   </td> <td>250    </td> <td>0       </td> <td>0       </td> <td>76     </td> <td>0    </td> <td>0     </td>\n",
       "        </tr>\n",
       "        <tr>\n",
       "            <td>48  </td> <td>127.5</td> <td>80   </td> <td>245    </td> <td>1       </td> <td>0       </td> <td>70     </td> <td>0    </td> <td>0     </td>\n",
       "        </tr>\n",
       "        <tr>\n",
       "            <td>61  </td> <td>150  </td> <td>95   </td> <td>225    </td> <td>1       </td> <td>0       </td> <td>103    </td> <td>1    </td> <td>0     </td>\n",
       "        </tr>\n",
       "        <tr>\n",
       "            <td>46  </td> <td>130  </td> <td>84   </td> <td>285    </td> <td>1       </td> <td>0       </td> <td>85     </td> <td>0    </td> <td>0     </td>\n",
       "        </tr>\n",
       "        <tr>\n",
       "            <td>43  </td> <td>180  </td> <td>110  </td> <td>228    </td> <td>0       </td> <td>0       </td> <td>99     </td> <td>0    </td> <td>1     </td>\n",
       "        </tr>\n",
       "        <tr>\n",
       "            <td>63  </td> <td>138  </td> <td>71   </td> <td>205    </td> <td>0       </td> <td>0       </td> <td>85     </td> <td>0    </td> <td>1     </td>\n",
       "        </tr>\n",
       "        <tr>\n",
       "            <td>45  </td> <td>100  </td> <td>71   </td> <td>313    </td> <td>1       </td> <td>0       </td> <td>78     </td> <td>0    </td> <td>0     </td>\n",
       "        </tr>\n",
       "        <tr>\n",
       "            <td>52  </td> <td>141.5</td> <td>89   </td> <td>260    </td> <td>0       </td> <td>0       </td> <td>79     </td> <td>0    </td> <td>0     </td>\n",
       "        </tr>\n",
       "        <tr>\n",
       "            <td>43  </td> <td>162  </td> <td>107  </td> <td>225    </td> <td>1       </td> <td>0       </td> <td>88     </td> <td>0    </td> <td>0     </td>\n",
       "        </tr>\n",
       "    </tbody>\n",
       "</table>\n",
       "<p>... (3832 rows omitted)</p>"
      ],
      "text/plain": [
       "AGE  | SYSBP | DIABP | TOTCHOL | CURSMOKE | DIABETES | GLUCOSE | DEATH | ANYCHD\n",
       "39   | 106   | 70    | 195     | 0        | 0        | 77      | 0     | 1\n",
       "46   | 121   | 81    | 250     | 0        | 0        | 76      | 0     | 0\n",
       "48   | 127.5 | 80    | 245     | 1        | 0        | 70      | 0     | 0\n",
       "61   | 150   | 95    | 225     | 1        | 0        | 103     | 1     | 0\n",
       "46   | 130   | 84    | 285     | 1        | 0        | 85      | 0     | 0\n",
       "43   | 180   | 110   | 228     | 0        | 0        | 99      | 0     | 1\n",
       "63   | 138   | 71    | 205     | 0        | 0        | 85      | 0     | 1\n",
       "45   | 100   | 71    | 313     | 1        | 0        | 78      | 0     | 0\n",
       "52   | 141.5 | 89    | 260     | 0        | 0        | 79      | 0     | 0\n",
       "43   | 162   | 107   | 225     | 1        | 0        | 88      | 0     | 0\n",
       "... (3832 rows omitted)"
      ]
     },
     "execution_count": 124,
     "metadata": {},
     "output_type": "execute_result"
    }
   ],
   "source": [
    "framingham = Table.read_table('framingham.csv')\n",
    "framingham"
   ]
  },
  {
   "cell_type": "markdown",
   "metadata": {},
   "source": [
    "Each row contains data from one subject. The first seven columns describe the subject at the time of their initial medical exam at the start of the study. The last column, `ANYCHD`, tells us whether the subject developed some form of heart disease at any point after the start of the study.\n",
    "\n",
    "You may have noticed that the table contains fewer rows than subjects in the original study this is because subjects who already had heart disease or had missing data are excluded."
   ]
  },
  {
   "cell_type": "markdown",
   "metadata": {},
   "source": [
    "#### Diabetes and the Population\n",
    "Before we begin our investigation into cholesterol, we'll first look at some limitations of this dataset. In particular, we will investigate ways in which this is or isn't a representative sample of the population by examining the number of subjects with diabetes.\n",
    "\n",
    "[According to the CDC](https://www.cdc.gov/diabetes/statistics/slides/long_term_trends.pdf), the prevalence of diagnosed diabetes (i.e., the percentage of the population who have it) in the U.S. around this time was 0.93%. We are going to conduct a hypothesis test with the following null and alternative hypotheses:\n",
    "\n",
    "**Null Hypothesis**: The probability that a participant within the Framingham Study has diabetes is equivalent to the prevalence of diagnosed diabetes within the population. (i.e., any difference is due to chance).\n",
    "\n",
    "**Alternative Hypothesis**: The probability that a participant within the Framingham Study has diabetes is different than the prevalence of diagnosed diabetes within the population.\n",
    "\n",
    "We are going to use the absolute distance between the observed prevalence and the true population prevalence as our test statistic. The column `DIABETES` in the `framingham` table contains a 1 for subjects with diabetes and a `0` for those without."
   ]
  },
  {
   "cell_type": "markdown",
   "metadata": {},
   "source": [
    "**Question 1**: What is the observed value of the statistic in the data from the Framingham Study? You should convert prevalence values to proportions before calculating the statistic!\n"
   ]
  },
  {
   "cell_type": "code",
   "execution_count": 125,
   "metadata": {},
   "outputs": [
    {
     "data": {
      "text/plain": [
       "0.02625"
      ]
     },
     "execution_count": 125,
     "metadata": {},
     "output_type": "execute_result"
    }
   ],
   "source": [
    "observed = sum(framingham.column(\"DIABETES\"))/4000\n",
    "observed"
   ]
  },
  {
   "cell_type": "code",
   "execution_count": 127,
   "metadata": {
    "for_assignment_type": "solution"
   },
   "outputs": [
    {
     "data": {
      "text/plain": [
       "0.01695"
      ]
     },
     "execution_count": 127,
     "metadata": {},
     "output_type": "execute_result"
    }
   ],
   "source": [
    "observed = sum(framingham.column(\"DIABETES\"))/4000\n",
    "observed_diabetes_distance =abs(observed - 0.0093)\n",
    "observed_diabetes_distance"
   ]
  },
  {
   "cell_type": "markdown",
   "metadata": {},
   "source": [
    "**Question 2**: Define the function `diabetes_statistic` which should return exactly one simulated statistic of the absolute distance between the observed prevalence and the true population prevalence under the null hypothesis. Make sure that your simulated sample is the same size as your original sample.\n",
    "\n",
    "*Hint:* The array `diabetes_proportions` contains the proportions of the population without and with diabetes.\n"
   ]
  },
  {
   "cell_type": "code",
   "execution_count": 130,
   "metadata": {},
   "outputs": [],
   "source": [
    "diabetes_proportions = make_array(.9907, .0093)\n",
    "\n",
    "def diabetes_statistic():\n",
    "    #????????????????????????????\n",
    "    "
   ]
  },
  {
   "cell_type": "markdown",
   "metadata": {},
   "source": [
    "**Question 3**:  Complete the following code to simulate 5000 values of the statistic under the null hypothesis.\n"
   ]
  },
  {
   "cell_type": "code",
   "execution_count": 136,
   "metadata": {
    "for_assignment_type": "solution",
    "scrolled": false
   },
   "outputs": [
    {
     "data": {
      "text/plain": [
       "array([0.01175, 0.0085 , 0.00775, ..., 0.009  , 0.01125, 0.00775])"
      ]
     },
     "execution_count": 136,
     "metadata": {},
     "output_type": "execute_result"
    }
   ],
   "source": [
    "diabetes_simulated_stats = make_array()\n",
    "diabetes_proportions = make_array(.9907, .0093)\n",
    "\n",
    "for i in np.arange(5000):\n",
    "    sim_stat = sample_proportions(4000, diabetes_proportions).item(1)\n",
    "    diabetes_simulated_stats = np.append(diabetes_simulated_stats, sim_stat)\n",
    "    \n",
    "                                         \n",
    "diabetes_simulated_stats"
   ]
  },
  {
   "cell_type": "markdown",
   "metadata": {},
   "source": [
    "**Question 4** Create a histogram of the simulated values of your statistic. Do not delete or modify the code in the next cell. It will plot the observed value along with your histogram."
   ]
  },
  {
   "cell_type": "code",
   "execution_count": 140,
   "metadata": {
    "export_pdf": true
   },
   "outputs": [
    {
     "data": {
      "image/png": "[encoded data removed]",
      "text/plain": [
       "<Figure size 432x288 with 1 Axes>"
      ]
     },
     "metadata": {},
     "output_type": "display_data"
    }
   ],
   "source": [
    "# create a histogram\n",
    "Table().with_column('Simulated values of statistic', diabetes_simulated_stats).hist()\n",
    "\n",
    "# do not change this line\n",
    "plots.scatter(observed_diabetes_distance, 0, color='red', s=30);"
   ]
  },
  {
   "cell_type": "markdown",
   "metadata": {},
   "source": [
    "**Question 4**: Based on the histogram above, should you reject the null hypothesis?\n"
   ]
  },
  {
   "cell_type": "markdown",
   "metadata": {
    "deletable": false,
    "export_pdf": true,
    "manual_problem_id": "part_2_null"
   },
   "source": [
    "Yes we should reject because the observed value is too different than the values that we simulated."
   ]
  },
  {
   "cell_type": "markdown",
   "metadata": {},
   "source": [
    "**Question 5**: Why might there be a difference between the population and the sample from the Framingham Study? Assuming that all these statements are true - what are possible explanations for the higher diabetes prevalence in the Framingham population?\n",
    "\n",
    "Assign the name `framingham_diabetes_explanations` to an array of the following explanations that **are possible and consistent** with the trends we observe in the data and our hypothesis test results. \n",
    "\n",
    "1. Diabetes was under-diagnosed in the population (i.e., there were a lot of people in the population who had diabetes but weren't diagnosed). By contrast, the Framingham participants were less likely to go undiagnosed because they had regular medical examinations as part of the study.\n",
    "2. The relatively wealthy population in Framingham ate a luxurious diet high in sugar (high-sugar diets are a known cause of diabetes).\n",
    "3. The Framingham Study subjects were older on average than the general population, and therefore more likely to have diabetes.\n"
   ]
  },
  {
   "cell_type": "code",
   "execution_count": 141,
   "metadata": {
    "deletable": false,
    "manual_problem_id": "part_2_explanations"
   },
   "outputs": [
    {
     "data": {
      "text/plain": [
       "[1, 2, 3]"
      ]
     },
     "execution_count": 141,
     "metadata": {},
     "output_type": "execute_result"
    }
   ],
   "source": [
    "framingham_diabetes_possibilities = [1,2,3]\n",
    "framingham_diabetes_possibilities"
   ]
  },
  {
   "cell_type": "markdown",
   "metadata": {},
   "source": [
    "In real-world studies, getting a truly representative random sample of the population is often incredibly difficult. Even just to accurately represent all Americans, a truly random sample would need to examine people across geographical, socioeconomic, community, and class lines (just to name a few). For a study like this, scientists would also need to make sure the medical exams were standardized and consistent across the different people being examined. In other words, there's a tradeoff between taking a more representative random sample and the cost of collecting more information from each person in the sample.\n",
    "\n",
    "The Framingham study collected high-quality medical data from its subjects, even if the subjects may not be a perfect representation of the population of all Americans. This is a common issue that data scientists face: while the available data aren't perfect, they're the best we have. The Framingham study is generally considered the best in its class, so we'll continue working with it while keeping its limitations in mind.\n",
    "\n",
    "(For more on representation in medical study samples, you can read these recent articles from [NPR](https://www.npr.org/sections/health-shots/2015/12/16/459666750/clinical-trials-still-dont-reflect-the-diversity-of-america) and [Scientific American](https://www.scientificamerican.com/article/clinical-trials-have-far-too-little-racial-and-ethnic-diversity/))."
   ]
  },
  {
   "cell_type": "markdown",
   "metadata": {},
   "source": [
    "### 6. Hypothesis Testing (4 points)"
   ]
  },
  {
   "cell_type": "markdown",
   "metadata": {},
   "source": [
    "**Question 1.** Suppose that a backgammon tournament is trying to pick some dice that will be used in the tournament. The following pair of hypothesis is used for this purpose:\n",
    "\n",
    "Null: The die is fair.\n",
    "\n",
    "Alternative: The die is not fair.\n",
    "\n",
    "Each die is tested by checking the number of times 6 is rolled, based on the same large number of rolls. 5% cutoff is used for the P-value and 100 dice are tested. \n",
    "\n",
    "If all the dice were fair to begin with, howm many of the dice will be concluded as not fair?\n",
    "Pick one option and justify your choice.\n",
    "\n",
    "(i) No die (ii) 1 die (iii) 2 dice (iv) 5 dice (v) 50 dice"
   ]
  },
  {
   "cell_type": "code",
   "execution_count": 355,
   "metadata": {},
   "outputs": [],
   "source": [
    "#IV) because our confident level is 95% which means that we are 95% confident that the die is fair.\n",
    "#so we have at most 5% margin of error.it equals 100*5% = 5 dice"
   ]
  },
  {
   "cell_type": "markdown",
   "metadata": {},
   "source": [
    "### 7. Prevalence of Childhood Obesity (10 points)\n",
    "According to the WHO European Childhood Obesity Surveillance Initiative (COSI) 2013, 22.5% of 7–8 year-olds in the country were obese or overweight (14.2% overweight, 8.3% obese). According to global trends, the prevalence of childhood overweight and obesity has been growing. Zeynep is a PhD student studying childhood obesity. She believes Turkey is following the global trends in terms of obesity and have more obese children today compared to 2013. She samples 1000 children at random at the ages of 7 and 8 and finds that 121 of these are obese. "
   ]
  },
  {
   "cell_type": "markdown",
   "metadata": {},
   "source": [
    "\n",
    "**Question 1.** You would like to test, if the chance that a random child is obese is more than 8.3% or not. Write down you null and alternative hypothesis."
   ]
  },
  {
   "cell_type": "markdown",
   "metadata": {},
   "source": [
    "null_hypothesis = chance that a random child is obese is more than 8.3%\n",
    "alternative_hypothesis = chance that a random child is obese is not more than 8.3%"
   ]
  },
  {
   "cell_type": "markdown",
   "metadata": {},
   "source": [
    "**Question 2.** You choose the following test statistic: the number of obese children minues 83. You want to work with Zeynep to test this hypothesis. Design a simulation and test this hypothesis. Write the code, run your simulation, decide on a cuoff for p-value, and provide your conclusion of your hypothesis test."
   ]
  },
  {
   "cell_type": "code",
   "execution_count": null,
   "metadata": {},
   "outputs": [],
   "source": []
  },
  {
   "cell_type": "markdown",
   "metadata": {},
   "source": [
    "## 8. Sampling Basketball Data (22 points)\n",
    "\n",
    "We have two datsets that contain data about NBA players - player and salary datasets. Run the cell below to load these datasets. "
   ]
  },
  {
   "cell_type": "code",
   "execution_count": 147,
   "metadata": {},
   "outputs": [
    {
     "data": {
      "text/html": [
       "<table border=\"1\" class=\"dataframe\">\n",
       "    <thead>\n",
       "        <tr>\n",
       "            <th>Name</th> <th>Age</th> <th>Team</th> <th>Games</th> <th>Rebounds</th> <th>Assists</th> <th>Steals</th> <th>Blocks</th> <th>Turnovers</th> <th>Points</th>\n",
       "        </tr>\n",
       "    </thead>\n",
       "    <tbody>\n",
       "        <tr>\n",
       "            <td>James Harden </td> <td>25  </td> <td>HOU </td> <td>81   </td> <td>459     </td> <td>565    </td> <td>154   </td> <td>60    </td> <td>321      </td> <td>2217  </td>\n",
       "        </tr>\n",
       "        <tr>\n",
       "            <td>Chris Paul   </td> <td>29  </td> <td>LAC </td> <td>82   </td> <td>376     </td> <td>838    </td> <td>156   </td> <td>15    </td> <td>190      </td> <td>1564  </td>\n",
       "        </tr>\n",
       "        <tr>\n",
       "            <td>Stephen Curry</td> <td>26  </td> <td>GSW </td> <td>80   </td> <td>341     </td> <td>619    </td> <td>163   </td> <td>16    </td> <td>249      </td> <td>1900  </td>\n",
       "        </tr>\n",
       "    </tbody>\n",
       "</table>\n",
       "<p>... (489 rows omitted)</p>"
      ],
      "text/plain": [
       "<IPython.core.display.HTML object>"
      ]
     },
     "metadata": {},
     "output_type": "display_data"
    },
    {
     "data": {
      "text/html": [
       "<table border=\"1\" class=\"dataframe\">\n",
       "    <thead>\n",
       "        <tr>\n",
       "            <th>PlayerName</th> <th>Salary</th>\n",
       "        </tr>\n",
       "    </thead>\n",
       "    <tbody>\n",
       "        <tr>\n",
       "            <td>Kobe Bryant      </td> <td>23500000</td>\n",
       "        </tr>\n",
       "        <tr>\n",
       "            <td>Amar'e Stoudemire</td> <td>23410988</td>\n",
       "        </tr>\n",
       "        <tr>\n",
       "            <td>Joe Johnson      </td> <td>23180790</td>\n",
       "        </tr>\n",
       "    </tbody>\n",
       "</table>\n",
       "<p>... (489 rows omitted)</p>"
      ],
      "text/plain": [
       "<IPython.core.display.HTML object>"
      ]
     },
     "metadata": {},
     "output_type": "display_data"
    }
   ],
   "source": [
    "player_data = Table().read_table(\"player_data.csv\")\n",
    "salary_data = Table().read_table(\"salary_data.csv\")\n",
    "\n",
    "# The show method immediately displays the contents of a table. \n",
    "# This way, we can display the top of two tables using a single cell.\n",
    "player_data.show(3)\n",
    "salary_data.show(3)\n"
   ]
  },
  {
   "cell_type": "markdown",
   "metadata": {},
   "source": [
    "**Question 1.** Join the two tables to create a dataset that contains all the infromation about players in one table. "
   ]
  },
  {
   "cell_type": "code",
   "execution_count": 329,
   "metadata": {},
   "outputs": [
    {
     "data": {
      "text/html": [
       "<table border=\"1\" class=\"dataframe\">\n",
       "    <thead>\n",
       "        <tr>\n",
       "            <th>Name</th> <th>Age</th> <th>Team</th> <th>Games</th> <th>Rebounds</th> <th>Assists</th> <th>Steals</th> <th>Blocks</th> <th>Turnovers</th> <th>Points</th> <th>Salary</th>\n",
       "        </tr>\n",
       "    </thead>\n",
       "    <tbody>\n",
       "        <tr>\n",
       "            <td>A.J. Price  </td> <td>28  </td> <td>TOT </td> <td>26   </td> <td>32      </td> <td>46     </td> <td>7     </td> <td>0     </td> <td>14       </td> <td>133   </td> <td>62552  </td>\n",
       "        </tr>\n",
       "        <tr>\n",
       "            <td>Aaron Brooks</td> <td>30  </td> <td>CHI </td> <td>82   </td> <td>166     </td> <td>261    </td> <td>54    </td> <td>15    </td> <td>157      </td> <td>954   </td> <td>1145685</td>\n",
       "        </tr>\n",
       "        <tr>\n",
       "            <td>Aaron Gordon</td> <td>19  </td> <td>ORL </td> <td>47   </td> <td>169     </td> <td>33     </td> <td>21    </td> <td>22    </td> <td>38       </td> <td>243   </td> <td>3992040</td>\n",
       "        </tr>\n",
       "    </tbody>\n",
       "</table>\n",
       "<p>... (489 rows omitted)</p>"
      ],
      "text/plain": [
       "<IPython.core.display.HTML object>"
      ]
     },
     "metadata": {},
     "output_type": "display_data"
    }
   ],
   "source": [
    "full_data = player_data.join(\"Name\", salary_data, \"PlayerName\")\n",
    "full_data.show(3)"
   ]
  },
  {
   "cell_type": "code",
   "execution_count": 330,
   "metadata": {},
   "outputs": [
    {
     "data": {
      "text/html": [
       "<table border=\"1\" class=\"dataframe\">\n",
       "    <thead>\n",
       "        <tr>\n",
       "            <th>Name</th> <th>Age</th> <th>Team</th> <th>Games</th> <th>Rebounds</th> <th>Assists</th> <th>Steals</th> <th>Blocks</th> <th>Turnovers</th> <th>Points</th> <th>Salary</th>\n",
       "        </tr>\n",
       "    </thead>\n",
       "    <tbody>\n",
       "        <tr>\n",
       "            <td>Kobe Bryant      </td> <td>36  </td> <td>LAL </td> <td>35   </td> <td>199     </td> <td>197    </td> <td>47    </td> <td>7     </td> <td>128      </td> <td>782   </td> <td>23,500,000</td>\n",
       "        </tr>\n",
       "        <tr>\n",
       "            <td>Amar'e Stoudemire</td> <td>32  </td> <td>TOT </td> <td>59   </td> <td>329     </td> <td>45     </td> <td>29    </td> <td>38    </td> <td>78       </td> <td>680   </td> <td>23,410,988</td>\n",
       "        </tr>\n",
       "        <tr>\n",
       "            <td>Joe Johnson      </td> <td>33  </td> <td>BRK </td> <td>80   </td> <td>384     </td> <td>292    </td> <td>59    </td> <td>14    </td> <td>137      </td> <td>1154  </td> <td>23,180,790</td>\n",
       "        </tr>\n",
       "        <tr>\n",
       "            <td>Carmelo Anthony  </td> <td>30  </td> <td>NYK </td> <td>40   </td> <td>264     </td> <td>122    </td> <td>40    </td> <td>17    </td> <td>89       </td> <td>966   </td> <td>22,458,401</td>\n",
       "        </tr>\n",
       "        <tr>\n",
       "            <td>Dwight Howard    </td> <td>29  </td> <td>HOU </td> <td>41   </td> <td>431     </td> <td>50     </td> <td>28    </td> <td>53    </td> <td>115      </td> <td>646   </td> <td>21,436,271</td>\n",
       "        </tr>\n",
       "        <tr>\n",
       "            <td>Chris Bosh       </td> <td>30  </td> <td>MIA </td> <td>44   </td> <td>310     </td> <td>95     </td> <td>41    </td> <td>25    </td> <td>95       </td> <td>928   </td> <td>20,644,400</td>\n",
       "        </tr>\n",
       "        <tr>\n",
       "            <td>LeBron James     </td> <td>30  </td> <td>CLE </td> <td>69   </td> <td>416     </td> <td>511    </td> <td>109   </td> <td>49    </td> <td>272      </td> <td>1743  </td> <td>20,644,400</td>\n",
       "        </tr>\n",
       "        <tr>\n",
       "            <td>Chris Paul       </td> <td>29  </td> <td>LAC </td> <td>82   </td> <td>376     </td> <td>838    </td> <td>156   </td> <td>15    </td> <td>190      </td> <td>1564  </td> <td>20,068,563</td>\n",
       "        </tr>\n",
       "        <tr>\n",
       "            <td>Deron Williams   </td> <td>30  </td> <td>BRK </td> <td>68   </td> <td>237     </td> <td>448    </td> <td>64    </td> <td>17    </td> <td>154      </td> <td>884   </td> <td>19,754,465</td>\n",
       "        </tr>\n",
       "        <tr>\n",
       "            <td>Rudy Gay         </td> <td>28  </td> <td>SAC </td> <td>68   </td> <td>399     </td> <td>250    </td> <td>71    </td> <td>41    </td> <td>183      </td> <td>1432  </td> <td>19,317,326</td>\n",
       "        </tr>\n",
       "    </tbody>\n",
       "</table>\n",
       "<p>... (482 rows omitted)</p>"
      ],
      "text/plain": [
       "Name              | Age  | Team | Games | Rebounds | Assists | Steals | Blocks | Turnovers | Points | Salary\n",
       "Kobe Bryant       | 36   | LAL  | 35    | 199      | 197     | 47     | 7      | 128       | 782    | 23,500,000\n",
       "Amar'e Stoudemire | 32   | TOT  | 59    | 329      | 45      | 29     | 38     | 78        | 680    | 23,410,988\n",
       "Joe Johnson       | 33   | BRK  | 80    | 384      | 292     | 59     | 14     | 137       | 1154   | 23,180,790\n",
       "Carmelo Anthony   | 30   | NYK  | 40    | 264      | 122     | 40     | 17     | 89        | 966    | 22,458,401\n",
       "Dwight Howard     | 29   | HOU  | 41    | 431      | 50      | 28     | 53     | 115       | 646    | 21,436,271\n",
       "Chris Bosh        | 30   | MIA  | 44    | 310      | 95      | 41     | 25     | 95        | 928    | 20,644,400\n",
       "LeBron James      | 30   | CLE  | 69    | 416      | 511     | 109    | 49     | 272       | 1743   | 20,644,400\n",
       "Chris Paul        | 29   | LAC  | 82    | 376      | 838     | 156    | 15     | 190       | 1564   | 20,068,563\n",
       "Deron Williams    | 30   | BRK  | 68    | 237      | 448     | 64     | 17     | 154       | 884    | 19,754,465\n",
       "Rudy Gay          | 28   | SAC  | 68    | 399      | 250     | 71     | 41     | 183       | 1432   | 19,317,326\n",
       "... (482 rows omitted)"
      ]
     },
     "execution_count": 330,
     "metadata": {},
     "output_type": "execute_result"
    }
   ],
   "source": [
    "full_data.sort(10,descending=True).set_format(10,NumberFormatter)\n"
   ]
  },
  {
   "cell_type": "markdown",
   "metadata": {},
   "source": [
    "The above dataset is the full populatin dataset. In this section, you will imagine that we had gotten data on only a smaller subset of the players. You will get the samples from the population and then use it to estimate some population parameters. Then you will compare your estimates with the population parameter. "
   ]
  },
  {
   "cell_type": "markdown",
   "metadata": {},
   "source": [
    "**Question 2.** To save typing and increase the clarity of your code, I want you to package the analysis code into a few functions. First, define a `age_histogram` function, which takes a table with column `Age` and draws a histogram for `Age`. It should use bins in the range of the age values in the table, i.e., starting from the minimum age going upto including the maximum age in the table with widths of 1. "
   ]
  },
  {
   "cell_type": "code",
   "execution_count": 150,
   "metadata": {},
   "outputs": [
    {
     "data": {
      "text/plain": [
       "38"
      ]
     },
     "execution_count": 150,
     "metadata": {},
     "output_type": "execute_result"
    }
   ],
   "source": [
    "full_data.column(1).max()"
   ]
  },
  {
   "cell_type": "code",
   "execution_count": 151,
   "metadata": {},
   "outputs": [
    {
     "data": {
      "text/plain": [
       "19"
      ]
     },
     "execution_count": 151,
     "metadata": {},
     "output_type": "execute_result"
    }
   ],
   "source": [
    "full_data.column(1).min()"
   ]
  },
  {
   "cell_type": "code",
   "execution_count": 198,
   "metadata": {},
   "outputs": [],
   "source": [
    "def age_histogram(table):\n",
    "    table.select(\"Age\").hist(bins=np.arange(19, 39, 1))"
   ]
  },
  {
   "cell_type": "markdown",
   "metadata": {},
   "source": [
    "Call your function to create a histogram of the age distribution in your population\n"
   ]
  },
  {
   "cell_type": "code",
   "execution_count": 199,
   "metadata": {},
   "outputs": [
    {
     "data": {
      "image/png": "[encoded data removed]",
      "text/plain": [
       "<Figure size 432x288 with 1 Axes>"
      ]
     },
     "metadata": {},
     "output_type": "display_data"
    }
   ],
   "source": [
    "age_histogram(full_data)"
   ]
  },
  {
   "cell_type": "markdown",
   "metadata": {},
   "source": [
    "**Question 3.** Now, define a `salary_histogram` function, which takes a table with column `Salary` and draws a histogram for `Salary` in millions of dollars. The bins should starting from the minimum salary in the table upto (including) the maximum salary in the table with widths of 1 million dollars. "
   ]
  },
  {
   "cell_type": "code",
   "execution_count": 200,
   "metadata": {},
   "outputs": [
    {
     "data": {
      "text/plain": [
       "14409"
      ]
     },
     "execution_count": 200,
     "metadata": {},
     "output_type": "execute_result"
    }
   ],
   "source": [
    "full_data.column(\"Salary\").min()"
   ]
  },
  {
   "cell_type": "code",
   "execution_count": 201,
   "metadata": {},
   "outputs": [
    {
     "data": {
      "text/plain": [
       "23500000"
      ]
     },
     "execution_count": 201,
     "metadata": {},
     "output_type": "execute_result"
    }
   ],
   "source": [
    "full_data.column(\"Salary\").max()"
   ]
  },
  {
   "cell_type": "code",
   "execution_count": 203,
   "metadata": {},
   "outputs": [],
   "source": [
    "def salary_histogram(table):\n",
    "    table.select(\"Salary\").hist(bins=np.arange(14409, 23500001, 1000000))"
   ]
  },
  {
   "cell_type": "markdown",
   "metadata": {},
   "source": [
    "Call your `salary_histogram` function, to create a histogram of the salary distribution in your population"
   ]
  },
  {
   "cell_type": "code",
   "execution_count": 204,
   "metadata": {},
   "outputs": [
    {
     "data": {
      "image/png": "[encoded data removed]",
      "text/plain": [
       "<Figure size 432x288 with 1 Axes>"
      ]
     },
     "metadata": {},
     "output_type": "display_data"
    }
   ],
   "source": [
    "salary_histogram(full_data)"
   ]
  },
  {
   "cell_type": "markdown",
   "metadata": {},
   "source": [
    "**Question 4.** Suppose you did not have the population data, you wanted to survey some players to get their salary information, in order to estimate the median salary of NBA players. You thought reaching the more experienced players would be difficult, so you surveyed younger players ages less than 22. Would this be a good sample to estimate the population median? Why or why not? \n"
   ]
  },
  {
   "cell_type": "markdown",
   "metadata": {},
   "source": [
    "No. it wont be a random sample. we need to survey among all players for more accurate median estimation"
   ]
  },
  {
   "cell_type": "markdown",
   "metadata": {},
   "source": [
    "**Question 5.**  Assign `young_sample` to a subset of `full_data` that contains only the data for players under the age of 22. \n",
    "Then call your histogram functions to generate the age and salary histograms for your sample. \n"
   ]
  },
  {
   "cell_type": "code",
   "execution_count": 219,
   "metadata": {},
   "outputs": [
    {
     "data": {
      "text/html": [
       "<table border=\"1\" class=\"dataframe\">\n",
       "    <thead>\n",
       "        <tr>\n",
       "            <th>Name</th> <th>Age</th> <th>Team</th> <th>Games</th> <th>Rebounds</th> <th>Assists</th> <th>Steals</th> <th>Blocks</th> <th>Turnovers</th> <th>Points</th> <th>Salary</th>\n",
       "        </tr>\n",
       "    </thead>\n",
       "    <tbody>\n",
       "        <tr>\n",
       "            <td>Aaron Gordon   </td> <td>19  </td> <td>ORL </td> <td>47   </td> <td>169     </td> <td>33     </td> <td>21    </td> <td>22    </td> <td>38       </td> <td>243   </td> <td>3992040</td>\n",
       "        </tr>\n",
       "        <tr>\n",
       "            <td>Alex Len       </td> <td>21  </td> <td>PHO </td> <td>69   </td> <td>454     </td> <td>32     </td> <td>34    </td> <td>105   </td> <td>74       </td> <td>432   </td> <td>3649920</td>\n",
       "        </tr>\n",
       "        <tr>\n",
       "            <td>Andre Drummond </td> <td>21  </td> <td>DET </td> <td>82   </td> <td>1104    </td> <td>55     </td> <td>73    </td> <td>153   </td> <td>120      </td> <td>1130  </td> <td>2568360</td>\n",
       "        </tr>\n",
       "        <tr>\n",
       "            <td>Andrew Wiggins </td> <td>19  </td> <td>MIN </td> <td>82   </td> <td>374     </td> <td>170    </td> <td>86    </td> <td>50    </td> <td>177      </td> <td>1387  </td> <td>5510640</td>\n",
       "        </tr>\n",
       "        <tr>\n",
       "            <td>Anthony Bennett</td> <td>21  </td> <td>MIN </td> <td>57   </td> <td>216     </td> <td>48     </td> <td>27    </td> <td>16    </td> <td>36       </td> <td>298   </td> <td>5563920</td>\n",
       "        </tr>\n",
       "        <tr>\n",
       "            <td>Anthony Davis  </td> <td>21  </td> <td>NOP </td> <td>68   </td> <td>696     </td> <td>149    </td> <td>100   </td> <td>200   </td> <td>95       </td> <td>1656  </td> <td>5607240</td>\n",
       "        </tr>\n",
       "        <tr>\n",
       "            <td>Archie Goodwin </td> <td>20  </td> <td>PHO </td> <td>41   </td> <td>74      </td> <td>44     </td> <td>18    </td> <td>9     </td> <td>48       </td> <td>231   </td> <td>1112280</td>\n",
       "        </tr>\n",
       "        <tr>\n",
       "            <td>Ben McLemore   </td> <td>21  </td> <td>SAC </td> <td>82   </td> <td>241     </td> <td>140    </td> <td>77    </td> <td>19    </td> <td>138      </td> <td>996   </td> <td>3026280</td>\n",
       "        </tr>\n",
       "        <tr>\n",
       "            <td>Bradley Beal   </td> <td>21  </td> <td>WAS </td> <td>63   </td> <td>241     </td> <td>194    </td> <td>76    </td> <td>18    </td> <td>123      </td> <td>962   </td> <td>4505280</td>\n",
       "        </tr>\n",
       "        <tr>\n",
       "            <td>Bruno Caboclo  </td> <td>19  </td> <td>TOR </td> <td>8    </td> <td>2       </td> <td>0      </td> <td>0     </td> <td>1     </td> <td>4        </td> <td>10    </td> <td>1458360</td>\n",
       "        </tr>\n",
       "    </tbody>\n",
       "</table>\n",
       "<p>... (34 rows omitted)</p>"
      ],
      "text/plain": [
       "Name            | Age  | Team | Games | Rebounds | Assists | Steals | Blocks | Turnovers | Points | Salary\n",
       "Aaron Gordon    | 19   | ORL  | 47    | 169      | 33      | 21     | 22     | 38        | 243    | 3992040\n",
       "Alex Len        | 21   | PHO  | 69    | 454      | 32      | 34     | 105    | 74        | 432    | 3649920\n",
       "Andre Drummond  | 21   | DET  | 82    | 1104     | 55      | 73     | 153    | 120       | 1130   | 2568360\n",
       "Andrew Wiggins  | 19   | MIN  | 82    | 374      | 170     | 86     | 50     | 177       | 1387   | 5510640\n",
       "Anthony Bennett | 21   | MIN  | 57    | 216      | 48      | 27     | 16     | 36        | 298    | 5563920\n",
       "Anthony Davis   | 21   | NOP  | 68    | 696      | 149     | 100    | 200    | 95        | 1656   | 5607240\n",
       "Archie Goodwin  | 20   | PHO  | 41    | 74       | 44      | 18     | 9      | 48        | 231    | 1112280\n",
       "Ben McLemore    | 21   | SAC  | 82    | 241      | 140     | 77     | 19     | 138       | 996    | 3026280\n",
       "Bradley Beal    | 21   | WAS  | 63    | 241      | 194     | 76     | 18     | 123       | 962    | 4505280\n",
       "Bruno Caboclo   | 19   | TOR  | 8     | 2        | 0       | 0      | 1      | 4         | 10     | 1458360\n",
       "... (34 rows omitted)"
      ]
     },
     "execution_count": 219,
     "metadata": {},
     "output_type": "execute_result"
    }
   ],
   "source": [
    "young_sample= full_data.where(\"Age\",are.below(22))\n",
    "young_sample"
   ]
  },
  {
   "cell_type": "code",
   "execution_count": 220,
   "metadata": {},
   "outputs": [
    {
     "data": {
      "image/png": "[encoded data removed]",
      "text/plain": [
       "<Figure size 432x288 with 1 Axes>"
      ]
     },
     "metadata": {},
     "output_type": "display_data"
    }
   ],
   "source": [
    "salary_histogram(young_sample)"
   ]
  },
  {
   "cell_type": "code",
   "execution_count": 221,
   "metadata": {},
   "outputs": [
    {
     "data": {
      "image/png": "[encoded data removed]",
      "text/plain": [
       "<Figure size 432x288 with 1 Axes>"
      ]
     },
     "metadata": {},
     "output_type": "display_data"
    }
   ],
   "source": [
    "age_histogram(young_sample)"
   ]
  },
  {
   "cell_type": "markdown",
   "metadata": {},
   "source": [
    "**Question 6.** Do the distributions in your sample resemble the population distributions? Would you expect it to, in general?"
   ]
  },
  {
   "cell_type": "markdown",
   "metadata": {},
   "source": [
    "no they dont resemble. we shouldnt restrict our population according to their features while sampling because it wont be a random sampling."
   ]
  },
  {
   "cell_type": "markdown",
   "metadata": {},
   "source": [
    "**Question 7.** Next, produce a simple random sample of size 50, sampling uniformly at random with replacement, from the `full_data` and assign it to `random_sample`. Then draw the histogram of age and salaries in this sample."
   ]
  },
  {
   "cell_type": "code",
   "execution_count": 337,
   "metadata": {},
   "outputs": [
    {
     "data": {
      "text/html": [
       "<table border=\"1\" class=\"dataframe\">\n",
       "    <thead>\n",
       "        <tr>\n",
       "            <th>Name</th> <th>Age</th> <th>Team</th> <th>Games</th> <th>Rebounds</th> <th>Assists</th> <th>Steals</th> <th>Blocks</th> <th>Turnovers</th> <th>Points</th> <th>Salary</th>\n",
       "        </tr>\n",
       "    </thead>\n",
       "    <tbody>\n",
       "        <tr>\n",
       "            <td>Alonzo Gee      </td> <td>27  </td> <td>TOT </td> <td>54   </td> <td>94      </td> <td>25     </td> <td>35    </td> <td>7     </td> <td>33       </td> <td>241   </td> <td>1063384 </td>\n",
       "        </tr>\n",
       "        <tr>\n",
       "            <td>Omer Asik       </td> <td>28  </td> <td>NOP </td> <td>76   </td> <td>748     </td> <td>72     </td> <td>29    </td> <td>54    </td> <td>95       </td> <td>557   </td> <td>14898938</td>\n",
       "        </tr>\n",
       "        <tr>\n",
       "            <td>Erick Green     </td> <td>23  </td> <td>DEN </td> <td>43   </td> <td>31      </td> <td>39     </td> <td>12    </td> <td>0     </td> <td>14       </td> <td>146   </td> <td>507336  </td>\n",
       "        </tr>\n",
       "        <tr>\n",
       "            <td>Jack Cooley     </td> <td>23  </td> <td>UTA </td> <td>16   </td> <td>25      </td> <td>1      </td> <td>6     </td> <td>3     </td> <td>3        </td> <td>27    </td> <td>65000   </td>\n",
       "        </tr>\n",
       "        <tr>\n",
       "            <td>John Henson     </td> <td>24  </td> <td>MIL </td> <td>67   </td> <td>312     </td> <td>59     </td> <td>28    </td> <td>135   </td> <td>87       </td> <td>470   </td> <td>1987320 </td>\n",
       "        </tr>\n",
       "        <tr>\n",
       "            <td>Quincy Pondexter</td> <td>26  </td> <td>TOT </td> <td>75   </td> <td>195     </td> <td>94     </td> <td>19    </td> <td>24    </td> <td>51       </td> <td>538   </td> <td>3146068 </td>\n",
       "        </tr>\n",
       "        <tr>\n",
       "            <td>Gerald Henderson</td> <td>27  </td> <td>CHO </td> <td>80   </td> <td>273     </td> <td>206    </td> <td>51    </td> <td>22    </td> <td>110      </td> <td>969   </td> <td>6000000 </td>\n",
       "        </tr>\n",
       "        <tr>\n",
       "            <td>Julius Randle   </td> <td>20  </td> <td>LAL </td> <td>1    </td> <td>0       </td> <td>0      </td> <td>0     </td> <td>0     </td> <td>1        </td> <td>2     </td> <td>2997360 </td>\n",
       "        </tr>\n",
       "        <tr>\n",
       "            <td>Luke Babbitt    </td> <td>25  </td> <td>NOP </td> <td>63   </td> <td>111     </td> <td>24     </td> <td>17    </td> <td>11    </td> <td>26       </td> <td>256   </td> <td>981084  </td>\n",
       "        </tr>\n",
       "        <tr>\n",
       "            <td>Marcus Thornton </td> <td>27  </td> <td>TOT </td> <td>48   </td> <td>86      </td> <td>36     </td> <td>27    </td> <td>7     </td> <td>27       </td> <td>380   </td> <td>8575000 </td>\n",
       "        </tr>\n",
       "    </tbody>\n",
       "</table>\n",
       "<p>... (40 rows omitted)</p>"
      ],
      "text/plain": [
       "Name             | Age  | Team | Games | Rebounds | Assists | Steals | Blocks | Turnovers | Points | Salary\n",
       "Alonzo Gee       | 27   | TOT  | 54    | 94       | 25      | 35     | 7      | 33        | 241    | 1063384\n",
       "Omer Asik        | 28   | NOP  | 76    | 748      | 72      | 29     | 54     | 95        | 557    | 14898938\n",
       "Erick Green      | 23   | DEN  | 43    | 31       | 39      | 12     | 0      | 14        | 146    | 507336\n",
       "Jack Cooley      | 23   | UTA  | 16    | 25       | 1       | 6      | 3      | 3         | 27     | 65000\n",
       "John Henson      | 24   | MIL  | 67    | 312      | 59      | 28     | 135    | 87        | 470    | 1987320\n",
       "Quincy Pondexter | 26   | TOT  | 75    | 195      | 94      | 19     | 24     | 51        | 538    | 3146068\n",
       "Gerald Henderson | 27   | CHO  | 80    | 273      | 206     | 51     | 22     | 110       | 969    | 6000000\n",
       "Julius Randle    | 20   | LAL  | 1     | 0        | 0       | 0      | 0      | 1         | 2      | 2997360\n",
       "Luke Babbitt     | 25   | NOP  | 63    | 111      | 24      | 17     | 11     | 26        | 256    | 981084\n",
       "Marcus Thornton  | 27   | TOT  | 48    | 86       | 36      | 27     | 7      | 27        | 380    | 8575000\n",
       "... (40 rows omitted)"
      ]
     },
     "execution_count": 337,
     "metadata": {},
     "output_type": "execute_result"
    }
   ],
   "source": [
    "random_sample= full_data.sample(50,with_replacement=True)\n",
    "random_sample"
   ]
  },
  {
   "cell_type": "code",
   "execution_count": 338,
   "metadata": {},
   "outputs": [
    {
     "data": {
      "image/png": "[encoded data removed]",
      "text/plain": [
       "<Figure size 432x288 with 1 Axes>"
      ]
     },
     "metadata": {},
     "output_type": "display_data"
    }
   ],
   "source": [
    "salary_histogram(random_sample)"
   ]
  },
  {
   "cell_type": "code",
   "execution_count": 339,
   "metadata": {},
   "outputs": [
    {
     "data": {
      "image/png": "[encoded data removed]",
      "text/plain": [
       "<Figure size 432x288 with 1 Axes>"
      ]
     },
     "metadata": {},
     "output_type": "display_data"
    }
   ],
   "source": [
    "age_histogram(random_sample)"
   ]
  },
  {
   "cell_type": "markdown",
   "metadata": {},
   "source": [
    "**Question 8.** Suppose you want to estimate the average age of players in the NBA. IF you did not have the  population data, do you think this would be a good sample to estimate it?"
   ]
  },
  {
   "cell_type": "markdown",
   "metadata": {},
   "source": [
    "this is just one sample, it wouldnt be that good because we need to take more sample to reach a more accurate average estimation. we can use bootstrap technique."
   ]
  },
  {
   "cell_type": "markdown",
   "metadata": {},
   "source": [
    "**Question 9.** You decide to use your random sample to estimate the average age of all NBA players. Write a function `bootstrap_means` to create bootstrap samples from your random sample.  The function should take an argument N which is the number of resamples it wil craete, and returns an array that contains the resampled means."
   ]
  },
  {
   "cell_type": "code",
   "execution_count": 340,
   "metadata": {},
   "outputs": [],
   "source": [
    "def bootstrap_mean(replications):\n",
    "    \n",
    "    means=make_array() \n",
    "    \n",
    "    for i in np.arange(replications):\n",
    "        bootstrap_sample= random_sample.sample()\n",
    "        resampled_mean= np.mean(bootstrap_sample.column(1)) \n",
    "        means= np.append(means, resampled_mean) \n",
    "    return means\n"
   ]
  },
  {
   "cell_type": "markdown",
   "metadata": {
    "scrolled": false
   },
   "source": [
    "**Question 10.** Use your `bootstrap_means` function to get the statictics from 5000 bootstrap samples and then plot a histogram of your resampled statistics.."
   ]
  },
  {
   "cell_type": "code",
   "execution_count": 341,
   "metadata": {},
   "outputs": [
    {
     "data": {
      "image/png": "[encoded data removed]",
      "text/plain": [
       "<Figure size 432x288 with 1 Axes>"
      ]
     },
     "metadata": {},
     "output_type": "display_data"
    }
   ],
   "source": [
    "resampled_means=bootstrap_mean(5000)  #5000 kere 50lik sample alıp mean hesaplıyor\n",
    "res_mean_hist= Table().with_column(\"Resampled mean\", resampled_means).hist(0)"
   ]
  },
  {
   "cell_type": "markdown",
   "metadata": {},
   "source": [
    "**Question 11.** Compute the 95% confidence interval. "
   ]
  },
  {
   "cell_type": "code",
   "execution_count": 343,
   "metadata": {},
   "outputs": [
    {
     "data": {
      "text/plain": [
       "array([25.22, 27.48])"
      ]
     },
     "execution_count": 343,
     "metadata": {},
     "output_type": "execute_result"
    }
   ],
   "source": [
    "left= percentile(2.5,resampled_means)\n",
    "right=percentile(97.5,resampled_means)\n",
    "\n",
    "interval_95=make_array(left,right)\n",
    "interval_95"
   ]
  },
  {
   "cell_type": "markdown",
   "metadata": {},
   "source": [
    "**Question 12.** Does this mean 95% of the NBA player's age are in this range? How do you interpret this interval?"
   ]
  },
  {
   "cell_type": "markdown",
   "metadata": {},
   "source": [
    "we dont know if the actual population parameter in this interval or not but we are %95 confident that this process creates an interval which contains the population parameter."
   ]
  },
  {
   "cell_type": "markdown",
   "metadata": {},
   "source": [
    "**Question 13.** Compare the population parameter with your interval? Is this a good interval?"
   ]
  },
  {
   "cell_type": "code",
   "execution_count": 344,
   "metadata": {},
   "outputs": [
    {
     "data": {
      "text/plain": [
       "26.536585365853657"
      ]
     },
     "execution_count": 344,
     "metadata": {},
     "output_type": "execute_result"
    }
   ],
   "source": [
    "full_mean=full_data.column(1).mean()\n",
    "full_mean"
   ]
  },
  {
   "cell_type": "markdown",
   "metadata": {},
   "source": [
    "our interval contains the population mean thats why yes it is a good interval"
   ]
  },
  {
   "cell_type": "markdown",
   "metadata": {},
   "source": [
    "**Question 14.** Suppose there are 100 students in this class. And everyone generated a different random sample and a 95% confidence interval for their sample for this exam. How many of these intervals would you expect to be good intervals?"
   ]
  },
  {
   "cell_type": "code",
   "execution_count": 345,
   "metadata": {},
   "outputs": [],
   "source": [
    "def bootstrap_mean2(original_sample, label, replications):\n",
    "    \n",
    "    just_one_column=original_sample.select(label)\n",
    "    means=make_array() \n",
    "    \n",
    "    for i in np.arange(replications):\n",
    "        bootstrap_sample= just_one_column.sample() \n",
    "        resampled_mean= np.mean(bootstrap_sample.column(0)) \n",
    "        means= np.append(means, resampled_mean) \n",
    "    return means\n"
   ]
  },
  {
   "cell_type": "code",
   "execution_count": 346,
   "metadata": {},
   "outputs": [
    {
     "data": {
      "text/html": [
       "<table border=\"1\" class=\"dataframe\">\n",
       "    <thead>\n",
       "        <tr>\n",
       "            <th>Left</th> <th>Right</th>\n",
       "        </tr>\n",
       "    </thead>\n",
       "    <tbody>\n",
       "        <tr>\n",
       "            <td>25.1 </td> <td>27.24</td>\n",
       "        </tr>\n",
       "        <tr>\n",
       "            <td>25.12</td> <td>27.42</td>\n",
       "        </tr>\n",
       "        <tr>\n",
       "            <td>24.96</td> <td>26.84</td>\n",
       "        </tr>\n",
       "        <tr>\n",
       "            <td>25.8 </td> <td>27.96</td>\n",
       "        </tr>\n",
       "        <tr>\n",
       "            <td>25.04</td> <td>27.28</td>\n",
       "        </tr>\n",
       "        <tr>\n",
       "            <td>26.06</td> <td>28.58</td>\n",
       "        </tr>\n",
       "        <tr>\n",
       "            <td>24.92</td> <td>26.88</td>\n",
       "        </tr>\n",
       "        <tr>\n",
       "            <td>25.3 </td> <td>27.64</td>\n",
       "        </tr>\n",
       "        <tr>\n",
       "            <td>25.62</td> <td>28.06</td>\n",
       "        </tr>\n",
       "        <tr>\n",
       "            <td>25.66</td> <td>28.18</td>\n",
       "        </tr>\n",
       "    </tbody>\n",
       "</table>\n",
       "<p>... (90 rows omitted)</p>"
      ],
      "text/plain": [
       "Left  | Right\n",
       "25.1  | 27.24\n",
       "25.12 | 27.42\n",
       "24.96 | 26.84\n",
       "25.8  | 27.96\n",
       "25.04 | 27.28\n",
       "26.06 | 28.58\n",
       "24.92 | 26.88\n",
       "25.3  | 27.64\n",
       "25.62 | 28.06\n",
       "25.66 | 28.18\n",
       "... (90 rows omitted)"
      ]
     },
     "execution_count": 346,
     "metadata": {},
     "output_type": "execute_result"
    }
   ],
   "source": [
    "\n",
    "\n",
    "left_ends = make_array()\n",
    "right_ends = make_array()\n",
    "\n",
    "total_age = full_data.select('Age') #neyin üzerinden sample alıcağımı belirticek\n",
    "\n",
    "for i in np.arange(100): #100 kere left right interval bulucak\n",
    "    first_sample = total_age.sample(50, with_replacement=True) #populationın age columından 50lik sample aldı\n",
    "    means = bootstrap_mean2(first_sample, \"Age\", 5000) #aldığımız sample üzerinden 5000 kere 50lik sample alarak meanlerini hesapladı\n",
    "    left_ends = np.append(left_ends, percentile(2.5, means)) #leftlerini aldı\n",
    "    right_ends = np.append(right_ends, percentile(97.5, means)) #rightlarını aldı\n",
    "\n",
    "intervals = Table().with_columns('Left', left_ends,'Right', right_ends)  \n",
    "intervals"
   ]
  },
  {
   "cell_type": "code",
   "execution_count": 347,
   "metadata": {},
   "outputs": [
    {
     "data": {
      "text/plain": [
       "26.536585365853657"
      ]
     },
     "execution_count": 347,
     "metadata": {},
     "output_type": "execute_result"
    }
   ],
   "source": [
    "full_data_mean= full_data.column(\"Age\").mean()\n",
    "full_data_mean\n"
   ]
  },
  {
   "cell_type": "code",
   "execution_count": 348,
   "metadata": {},
   "outputs": [
    {
     "data": {
      "text/plain": [
       "95"
      ]
     },
     "execution_count": 348,
     "metadata": {},
     "output_type": "execute_result"
    }
   ],
   "source": [
    "good_intervals= intervals.where(\"Left\", are.below(full_data_mean)).where(\"Right\", are.above(full_data_mean))\n",
    "good_intervals.num_rows\n",
    "#we expect 95 of them to be good intervals."
   ]
  },
  {
   "cell_type": "markdown",
   "metadata": {},
   "source": [
    "**Question 15.** Your friend guesses that the median Age of NBA players is 25. Formulate a hypothesis test to see if your friend's guess is right. Write down the null and alternative hypothesis."
   ]
  },
  {
   "cell_type": "markdown",
   "metadata": {},
   "source": [
    "NULL: median Age of NBA players is 25\n",
    "Alternative: median Age of NBA players is not 25"
   ]
  },
  {
   "cell_type": "code",
   "execution_count": 349,
   "metadata": {},
   "outputs": [],
   "source": [
    "def bootstrap_median(original_sample, label, replications):\n",
    "    \n",
    "    just_one_column=original_sample.select(label) #hangi columndan sample alcağımı belirtcek\n",
    "    medians=make_array() #medianları yazmak için boş bir array\n",
    "    \n",
    "    for i in np.arange(replications):\n",
    "        bootstrap_sample= just_one_column.sample() # istediğimiz columndan sample aldık\n",
    "        resampled_median= percentile(50,bootstrap_sample.column(0)) #sampleın medianını bulduk\n",
    "        medians= np.append(medians, resampled_median) #boş medians arrayine bulduğumuz sample medianını ekledik tekrar edicek ark arkaya kaç kere istersek\n",
    "    return medians"
   ]
  },
  {
   "cell_type": "code",
   "execution_count": 350,
   "metadata": {},
   "outputs": [
    {
     "data": {
      "text/plain": [
       "array([26., 25., 25., ..., 26., 25., 27.])"
      ]
     },
     "execution_count": 350,
     "metadata": {},
     "output_type": "execute_result"
    }
   ],
   "source": [
    "resampled_medians= bootstrap_median(random_sample,\"Age\",5000) #salary columndan 5000 kere sample aldı arraye yazdırdı\n",
    "resampled_medians"
   ]
  },
  {
   "cell_type": "code",
   "execution_count": 351,
   "metadata": {},
   "outputs": [
    {
     "data": {
      "text/plain": [
       "array([24., 28.])"
      ]
     },
     "execution_count": 351,
     "metadata": {},
     "output_type": "execute_result"
    }
   ],
   "source": [
    "left= percentile(2.5, resampled_medians)\n",
    "right= percentile(97.5, resampled_medians)\n",
    "interval_95= make_array(left,right)\n",
    "interval_95"
   ]
  },
  {
   "cell_type": "code",
   "execution_count": 352,
   "metadata": {},
   "outputs": [
    {
     "name": "stdout",
     "output_type": "stream",
     "text": [
      "Approximate 95% Bootstrap Confidence Interval for the population Median\n",
      "[24. 28.]\n"
     ]
    },
    {
     "data": {
      "image/png": "[encoded data removed]",
      "text/plain": [
       "<Figure size 432x288 with 1 Axes>"
      ]
     },
     "metadata": {},
     "output_type": "display_data"
    }
   ],
   "source": [
    "Table().with_column(\"Resampled median\", resampled_medians).hist(0)\n",
    "plots.plot(interval_95, [0,0], color=\"gold\", lw=8)\n",
    "print(\"Approximate 95% Bootstrap Confidence Interval for the population Median\")\n",
    "print(np.round(interval_95,4))"
   ]
  },
  {
   "cell_type": "markdown",
   "metadata": {},
   "source": [
    "**Question 16.** if you use a 5% cutoff for the p_value, what would be the conclusion of your hypothesis test?"
   ]
  },
  {
   "cell_type": "markdown",
   "metadata": {},
   "source": [
    "25 is in our interval range. we can say with 95% confident, population age median falls between Age 24-28. Fail to reject null hypothesis. "
   ]
  },
  {
   "cell_type": "markdown",
   "metadata": {},
   "source": [
    "**Question 17.** Would you conclusion change if you use a 1% cutoff for the p-value?"
   ]
  },
  {
   "cell_type": "markdown",
   "metadata": {
    "deletable": false,
    "manual_problem_id": "large_srs_q"
   },
   "source": [
    "It wouldnt change because when p value decreases, Confidence percentage increases. \n",
    "so we have 99% confidence level.\n",
    "When we have larger confidence level, interval also will gets larger.\n",
    "so age 25 will be still in the interval range when we have 1%cuoff for the p value."
   ]
  },
  {
   "cell_type": "markdown",
   "metadata": {},
   "source": [
    "\n",
    "#### Congratulations!, you have completed your exam."
   ]
  }
 ],
 "metadata": {
  "kernelspec": {
   "display_name": "Python 3",
   "language": "python",
   "name": "python3"
  },
  "language_info": {
   "codemirror_mode": {
    "name": "ipython",
    "version": 3
   },
   "file_extension": ".py",
   "mimetype": "text/x-python",
   "name": "python",
   "nbconvert_exporter": "python",
   "pygments_lexer": "ipython3",
   "version": "3.8.10"
  }
 },
 "nbformat": 4,
 "nbformat_minor": 1
}
