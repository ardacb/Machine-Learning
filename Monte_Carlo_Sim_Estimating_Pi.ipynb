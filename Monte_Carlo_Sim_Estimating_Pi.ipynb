{
 "cells": [
  {
   "cell_type": "code",
   "execution_count": 30,
   "metadata": {},
   "outputs": [],
   "source": [
    "import pandas as pd\n",
    "import numpy as np\n",
    "import seaborn as sns\n",
    "import matplotlib.pyplot as plt"
   ]
  },
  {
   "cell_type": "markdown",
   "metadata": {},
   "source": [
    "#### Monte Carlo analizi, bir model içinde çok sayıda simülasyon çalıştırma ve her simülasyonun çıktılarına bakma fikrine dayanır. Ne kadar çok simülasyon çalıştırırsanız, modelinizin çıktılarının o kadar doğru olması muhtemeldir. Aslında central limit teoreme benzer diyebiliriz. Ne kadar çok simülasyon tekrar edersek gerçek ortalama değere yaklaşma şansımız o kadar artacaktır. Yani random sampling mantığına dayanır. Pi sayısını tahmin etmek için bir monte carla simülasyonu yapalım"
   ]
  },
  {
   "cell_type": "markdown",
   "metadata": {},
   "source": [
    "##  Monte Carlo simulation that estimates Pi"
   ]
  },
  {
   "cell_type": "markdown",
   "metadata": {},
   "source": [
    "#### Mantığım şu olucak. Dairenin alanının bir katsayıyla doğru orantılı olduğunu biliyorum (pi*r^2). Merkezi (0,0) olan bir birim çember düşünelim(r=1cm). Bu çemberin etrafına bir kare yerleştiriyorum. Karenin bir kenarı 2cm olmuş oluyor. Bu karenin içinde çok sayıda noktalar seçicem(N). Bu seçtiğim noktalardan çemberin içine düşenlerin sayısına da n diyorum."
   ]
  },
  {
   "cell_type": "markdown",
   "metadata": {},
   "source": [
    "#### Sonraki adım şu: Bu yolladığım noktalardan çemberin içine düşenler çemberin alanıyla orantılı ve karenin içine düşenler de karenin alanıyla orantılıdır.\n",
    "\n",
    "#### O zaman şu denklemi yazabiliriz. n/N = Dairenin alanı / Karenin alanı\n",
    "#### n/N = pi*r^2 / 4"
   ]
  },
  {
   "cell_type": "code",
   "execution_count": 15,
   "metadata": {},
   "outputs": [],
   "source": [
    "noofDataPoints= 100000\n",
    "#seçiceğim nokta sayısı"
   ]
  },
  {
   "cell_type": "code",
   "execution_count": 16,
   "metadata": {},
   "outputs": [],
   "source": [
    "def my_function(x,y):\n",
    "    return (x**2)+(y**2)\n",
    "#seçilen noktanın merkezi(0,0) r=1 olan çembere olan uzaklığını hesaplıyorum.\n",
    "#uzaklık 1 den büyük çıkarsa yarıçapı 1 olan çemberin dışına çıkmışım ama hala karenin içindeyim demektir"
   ]
  },
  {
   "cell_type": "code",
   "execution_count": 17,
   "metadata": {},
   "outputs": [],
   "source": [
    "def check(a):\n",
    "    if a <= 1:\n",
    "        return 1\n",
    "    else:\n",
    "        return 0\n",
    "#dairenin içindeysem 1 değilse 0"
   ]
  },
  {
   "cell_type": "code",
   "execution_count": 18,
   "metadata": {},
   "outputs": [],
   "source": [
    "myNumbersX= np.random.uniform(low=-1, high=1, size=(noofDataPoints)) #x ekseninde [-1,1] arasında noofDataPoints kadar rastgele sayı seçiyorum\n",
    "myNumbersY= np.random.uniform(low=-1, high=1, size=(noofDataPoints)) #y ekseninde [-1,1] arasında noofDataPoints kadar rastgele sayı seçiyorum\n",
    "\n",
    "cc=pd.DataFrame(data=myNumbersX)\n",
    "myDf= pd.concat([ pd.DataFrame(data=myNumbersX), pd.DataFrame(data=myNumbersY)], axis=1)\n",
    "myDf.columns = [\"x\",\"y\"] #bu sayıları dataframe'e aktarıyorum\n",
    "myDf[\"x2+y2\"] = myDf.apply(lambda row: my_function(row[\"x\"], row[\"y\"]), axis=1) #rastgele seçilen x ve y değerlerine karşılık gelicek şekilde çembere olan uzaklığını hesaplıyorum\n",
    "myDf[\"Check\"]= myDf.apply(lambda row: check(row[\"x2+y2\"]), axis=1) # çemberin içinde mi dışında mı kontrol ediyorum.\n",
    "\n"
   ]
  },
  {
   "cell_type": "code",
   "execution_count": 19,
   "metadata": {},
   "outputs": [
    {
     "data": {
      "text/html": [
       "<div>\n",
       "<style scoped>\n",
       "    .dataframe tbody tr th:only-of-type {\n",
       "        vertical-align: middle;\n",
       "    }\n",
       "\n",
       "    .dataframe tbody tr th {\n",
       "        vertical-align: top;\n",
       "    }\n",
       "\n",
       "    .dataframe thead th {\n",
       "        text-align: right;\n",
       "    }\n",
       "</style>\n",
       "<table border=\"1\" class=\"dataframe\">\n",
       "  <thead>\n",
       "    <tr style=\"text-align: right;\">\n",
       "      <th></th>\n",
       "      <th>x</th>\n",
       "      <th>y</th>\n",
       "      <th>x2+y2</th>\n",
       "      <th>Check</th>\n",
       "    </tr>\n",
       "  </thead>\n",
       "  <tbody>\n",
       "    <tr>\n",
       "      <th>0</th>\n",
       "      <td>0.162386</td>\n",
       "      <td>0.053090</td>\n",
       "      <td>0.029188</td>\n",
       "      <td>1</td>\n",
       "    </tr>\n",
       "    <tr>\n",
       "      <th>1</th>\n",
       "      <td>0.847230</td>\n",
       "      <td>-0.914050</td>\n",
       "      <td>1.553286</td>\n",
       "      <td>0</td>\n",
       "    </tr>\n",
       "    <tr>\n",
       "      <th>2</th>\n",
       "      <td>-0.963918</td>\n",
       "      <td>-0.404112</td>\n",
       "      <td>1.092444</td>\n",
       "      <td>0</td>\n",
       "    </tr>\n",
       "    <tr>\n",
       "      <th>3</th>\n",
       "      <td>0.571952</td>\n",
       "      <td>-0.085703</td>\n",
       "      <td>0.334474</td>\n",
       "      <td>1</td>\n",
       "    </tr>\n",
       "    <tr>\n",
       "      <th>4</th>\n",
       "      <td>-0.579446</td>\n",
       "      <td>-0.768083</td>\n",
       "      <td>0.925710</td>\n",
       "      <td>1</td>\n",
       "    </tr>\n",
       "    <tr>\n",
       "      <th>...</th>\n",
       "      <td>...</td>\n",
       "      <td>...</td>\n",
       "      <td>...</td>\n",
       "      <td>...</td>\n",
       "    </tr>\n",
       "    <tr>\n",
       "      <th>99995</th>\n",
       "      <td>0.004167</td>\n",
       "      <td>-0.087574</td>\n",
       "      <td>0.007686</td>\n",
       "      <td>1</td>\n",
       "    </tr>\n",
       "    <tr>\n",
       "      <th>99996</th>\n",
       "      <td>-0.721853</td>\n",
       "      <td>-0.975395</td>\n",
       "      <td>1.472468</td>\n",
       "      <td>0</td>\n",
       "    </tr>\n",
       "    <tr>\n",
       "      <th>99997</th>\n",
       "      <td>0.853891</td>\n",
       "      <td>-0.180194</td>\n",
       "      <td>0.761600</td>\n",
       "      <td>1</td>\n",
       "    </tr>\n",
       "    <tr>\n",
       "      <th>99998</th>\n",
       "      <td>0.541445</td>\n",
       "      <td>-0.888125</td>\n",
       "      <td>1.081928</td>\n",
       "      <td>0</td>\n",
       "    </tr>\n",
       "    <tr>\n",
       "      <th>99999</th>\n",
       "      <td>0.570871</td>\n",
       "      <td>-0.377675</td>\n",
       "      <td>0.468533</td>\n",
       "      <td>1</td>\n",
       "    </tr>\n",
       "  </tbody>\n",
       "</table>\n",
       "<p>100000 rows × 4 columns</p>\n",
       "</div>"
      ],
      "text/plain": [
       "              x         y     x2+y2  Check\n",
       "0      0.162386  0.053090  0.029188      1\n",
       "1      0.847230 -0.914050  1.553286      0\n",
       "2     -0.963918 -0.404112  1.092444      0\n",
       "3      0.571952 -0.085703  0.334474      1\n",
       "4     -0.579446 -0.768083  0.925710      1\n",
       "...         ...       ...       ...    ...\n",
       "99995  0.004167 -0.087574  0.007686      1\n",
       "99996 -0.721853 -0.975395  1.472468      0\n",
       "99997  0.853891 -0.180194  0.761600      1\n",
       "99998  0.541445 -0.888125  1.081928      0\n",
       "99999  0.570871 -0.377675  0.468533      1\n",
       "\n",
       "[100000 rows x 4 columns]"
      ]
     },
     "execution_count": 19,
     "metadata": {},
     "output_type": "execute_result"
    }
   ],
   "source": [
    "myDf #data frame'in son hali\n",
    "#check sütununda çemberin içindeki ve dışındaki noktaları görebiliyoruz.\n",
    "#1 içinde(n), 0 dışında"
   ]
  },
  {
   "cell_type": "code",
   "execution_count": 20,
   "metadata": {},
   "outputs": [
    {
     "data": {
      "text/plain": [
       "3.14284"
      ]
     },
     "execution_count": 20,
     "metadata": {},
     "output_type": "execute_result"
    }
   ],
   "source": [
    "4*sum(myDf[\"Check\"])/noofDataPoints\n",
    "#elimizde n,N,karenin alanı,r değerlerimiz var.En başta yazdığımız formülden pi sayısını çekiyoruz.\n",
    "#seçtiğimiz random saple sayısı(noofDataPoints) ne kadar artarsa pi sayısını o kadar iyi estimate edebiliriz."
   ]
  },
  {
   "cell_type": "code",
   "execution_count": 24,
   "metadata": {},
   "outputs": [],
   "source": [
    "def pi_estimator(sample_size): #fonksiyona çevirip değişen sample_size'a göre pi tahminimize bakalım\n",
    "    \n",
    "    def my_function(x,y):\n",
    "        return (x**2)+(y**2)\n",
    "    \n",
    "    def check(a):\n",
    "        if a <= 1:\n",
    "            return 1\n",
    "        else:\n",
    "            return 0\n",
    "    myNumbersX= np.random.uniform(low=-1, high=1, size=(sample_size)) \n",
    "    myNumbersY= np.random.uniform(low=-1, high=1, size=(sample_size)) \n",
    "\n",
    "    cc=pd.DataFrame(data=myNumbersX)\n",
    "    myDf= pd.concat([ pd.DataFrame(data=myNumbersX), pd.DataFrame(data=myNumbersY)], axis=1)\n",
    "    myDf.columns = [\"x\",\"y\"] \n",
    "    myDf[\"x2+y2\"] = myDf.apply(lambda row: my_function(row[\"x\"], row[\"y\"]), axis=1) \n",
    "    myDf[\"Check\"]= myDf.apply(lambda row: check(row[\"x2+y2\"]), axis=1)\n",
    "    \n",
    "    return (4*sum(myDf[\"Check\"])/sample_size)"
   ]
  },
  {
   "cell_type": "code",
   "execution_count": 76,
   "metadata": {},
   "outputs": [],
   "source": [
    "pi_estimates=[]\n",
    "for i in range(1,30000,200):\n",
    "    pi_estimates.append(pi_estimator(i))\n",
    "#sample sayısını 30,000 e kadar 200 er arttıralım"
   ]
  },
  {
   "cell_type": "code",
   "execution_count": 77,
   "metadata": {},
   "outputs": [
    {
     "data": {
      "text/html": [
       "<div>\n",
       "<style scoped>\n",
       "    .dataframe tbody tr th:only-of-type {\n",
       "        vertical-align: middle;\n",
       "    }\n",
       "\n",
       "    .dataframe tbody tr th {\n",
       "        vertical-align: top;\n",
       "    }\n",
       "\n",
       "    .dataframe thead th {\n",
       "        text-align: right;\n",
       "    }\n",
       "</style>\n",
       "<table border=\"1\" class=\"dataframe\">\n",
       "  <thead>\n",
       "    <tr style=\"text-align: right;\">\n",
       "      <th></th>\n",
       "      <th>0</th>\n",
       "    </tr>\n",
       "  </thead>\n",
       "  <tbody>\n",
       "    <tr>\n",
       "      <th>1</th>\n",
       "      <td>4.000000</td>\n",
       "    </tr>\n",
       "    <tr>\n",
       "      <th>201</th>\n",
       "      <td>3.203980</td>\n",
       "    </tr>\n",
       "    <tr>\n",
       "      <th>401</th>\n",
       "      <td>3.271820</td>\n",
       "    </tr>\n",
       "    <tr>\n",
       "      <th>601</th>\n",
       "      <td>3.188020</td>\n",
       "    </tr>\n",
       "    <tr>\n",
       "      <th>801</th>\n",
       "      <td>3.210986</td>\n",
       "    </tr>\n",
       "    <tr>\n",
       "      <th>...</th>\n",
       "      <td>...</td>\n",
       "    </tr>\n",
       "    <tr>\n",
       "      <th>29001</th>\n",
       "      <td>3.145960</td>\n",
       "    </tr>\n",
       "    <tr>\n",
       "      <th>29201</th>\n",
       "      <td>3.159755</td>\n",
       "    </tr>\n",
       "    <tr>\n",
       "      <th>29401</th>\n",
       "      <td>3.141118</td>\n",
       "    </tr>\n",
       "    <tr>\n",
       "      <th>29601</th>\n",
       "      <td>3.131516</td>\n",
       "    </tr>\n",
       "    <tr>\n",
       "      <th>29801</th>\n",
       "      <td>3.169424</td>\n",
       "    </tr>\n",
       "  </tbody>\n",
       "</table>\n",
       "<p>150 rows × 1 columns</p>\n",
       "</div>"
      ],
      "text/plain": [
       "              0\n",
       "1      4.000000\n",
       "201    3.203980\n",
       "401    3.271820\n",
       "601    3.188020\n",
       "801    3.210986\n",
       "...         ...\n",
       "29001  3.145960\n",
       "29201  3.159755\n",
       "29401  3.141118\n",
       "29601  3.131516\n",
       "29801  3.169424\n",
       "\n",
       "[150 rows x 1 columns]"
      ]
     },
     "execution_count": 77,
     "metadata": {},
     "output_type": "execute_result"
    }
   ],
   "source": [
    "pd.DataFrame(index=range(1,30000,200),data=pi_estimates)\n",
    "#sample sayısı arttıkça 3.14 e daha çok yaklaşmaya başlıyor yaptığımız tahminlerimiz."
   ]
  },
  {
   "cell_type": "code",
   "execution_count": 84,
   "metadata": {},
   "outputs": [
    {
     "data": {
      "text/plain": [
       "[<matplotlib.lines.Line2D at 0x7fb077448e20>]"
      ]
     },
     "execution_count": 84,
     "metadata": {},
     "output_type": "execute_result"
    },
    {
     "data": {
      "image/png": "[encoded data removed]",
      "text/plain": [
       "<Figure size 2160x720 with 1 Axes>"
      ]
     },
     "metadata": {
      "needs_background": "light"
     },
     "output_type": "display_data"
    }
   ],
   "source": [
    "plt.figure(figsize=(30,10))\n",
    "plt.plot(pi_estimates)\n",
    "#grafikte bakarsak sample sayısı arttıkça 3.14 e yaklaştığı görülebilir\n"
   ]
  },
  {
   "cell_type": "code",
   "execution_count": null,
   "metadata": {},
   "outputs": [],
   "source": []
  }
 ],
 "metadata": {
  "kernelspec": {
   "display_name": "Python 3",
   "language": "python",
   "name": "python3"
  },
  "language_info": {
   "codemirror_mode": {
    "name": "ipython",
    "version": 3
   },
   "file_extension": ".py",
   "mimetype": "text/x-python",
   "name": "python",
   "nbconvert_exporter": "python",
   "pygments_lexer": "ipython3",
   "version": "3.8.10"
  }
 },
 "nbformat": 4,
 "nbformat_minor": 4
}
